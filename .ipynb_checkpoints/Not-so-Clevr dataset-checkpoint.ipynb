{
 "cells": [
  {
   "cell_type": "code",
   "execution_count": 1,
   "metadata": {},
   "outputs": [],
   "source": [
    "import numpy as np \n",
    "import tensorflow as tf"
   ]
  },
  {
   "cell_type": "code",
   "execution_count": 2,
   "metadata": {
    "scrolled": false
   },
   "outputs": [],
   "source": [
    "from tensorflow.keras import Model, Sequential \n",
    "from tensorflow.keras.layers import Conv2D\n",
    "\n",
    "onehots = np.pad(np.eye(3136).reshape((3136, 56, 56, 1)), ((0,0), (4,4), (4,4), (0,0)), \"constant\")\n",
    "onehots = tf.cast(onehots, dtype=tf.float32)"
   ]
  },
  {
   "cell_type": "code",
   "execution_count": 3,
   "metadata": {},
   "outputs": [],
   "source": [
    "model = Sequential([\n",
    "    Conv2D(filters = 1, kernel_size = 9, strides = 1, padding = \"same\" )\n",
    "])\n",
    "\n",
    "model.build((None, 64, 64, 1))\n",
    "\n",
    "image = model(onehots)"
   ]
  },
  {
   "cell_type": "code",
   "execution_count": 4,
   "metadata": {
    "scrolled": true
   },
   "outputs": [
    {
     "data": {
      "image/png": "[encoded data removed]",
      "text/plain": [
       "<Figure size 432x288 with 1 Axes>"
      ]
     },
     "metadata": {},
     "output_type": "display_data"
    },
    {
     "name": "stdout",
     "output_type": "stream",
     "text": [
      "exit\n"
     ]
    }
   ],
   "source": [
    "import matplotlib.pyplot as plt\n",
    "%matplotlib inline\n",
    "\n",
    "for i in range(image.shape[0]):\n",
    "    plt.imshow(np.reshape(image[i], (64, 64)))\n",
    "    plt.show()\n",
    "    \n",
    "    if input() == 'exit':\n",
    "        break"
   ]
  },
  {
   "cell_type": "code",
   "execution_count": 5,
   "metadata": {
    "scrolled": true
   },
   "outputs": [
    {
     "data": {
      "image/png": "[encoded data removed]",
      "text/plain": [
       "<Figure size 432x288 with 1 Axes>"
      ]
     },
     "metadata": {},
     "output_type": "display_data"
    },
    {
     "name": "stdout",
     "output_type": "stream",
     "text": [
      "exit\n"
     ]
    }
   ],
   "source": [
    "for i in range(onehots.shape[0]):\n",
    "    plt.imshow(np.reshape(onehots[i], (64, 64)), cmap = 'gray')\n",
    "    plt.show()\n",
    "    \n",
    "    if input() == 'exit':\n",
    "        break"
   ]
  },
  {
   "cell_type": "code",
   "execution_count": 7,
   "metadata": {},
   "outputs": [],
   "source": [
    "onehots_coord = np.pad(np.eye(3136).reshape((3136, 56, 56, 1)), ((0,0), (4,4), (4,4), (0,0)), \"constant\")\n",
    "\n",
    "def get_coord(inputs, pixel_value):\n",
    "    assert inputs.dtype == np.float64, \"Input should be dtype float64\"\n",
    "    coord_list = []\n",
    "    for i in range(inputs.shape[0]):\n",
    "        coord = np.argwhere(inputs[i] == pixel_value)\n",
    "        coord_list.append(coord)\n",
    "    return coord_list\n",
    "\n",
    "def get_coord2(inputs, pixel_value):\n",
    "    coord_list2 = []\n",
    "    for i in range(inputs.shape[0]):\n",
    "        for j in range(inputs.shape[1]):\n",
    "            for k in range(inputs.shape[2]):             \n",
    "                if inputs[i, j, k, 0] == pixel_value:\n",
    "                    xy = [j, k]\n",
    "                    coord_list2.append(xy)\n",
    "                                    \n",
    "    return coord_list2\n",
    "\n",
    "xy_coord = get_coord(onehots_coord, 1)\n",
    "#xy_coord2 = get_coord2(onehots, 1)"
   ]
  },
  {
   "cell_type": "code",
   "execution_count": null,
   "metadata": {},
   "outputs": [],
   "source": [
    "# from coord_conv import CoordConv\n",
    "# from tensorflow.keras import Model, Sequential, layers\n",
    "# from tensorflow.keras.layers import Conv2D, UpSampling2D, MaxPooling2D, Dense\n",
    "# from tensorflow.keras.layers import Flatten, BatchNormalization, ReLU, LeakyReLU, InputLayer\n",
    "# import utils\n",
    "\n",
    "# class Coord_model(Model):\n",
    "#     def __init__(self):\n",
    "#         super(Model, self).__init__()\n",
    "        \n",
    "#         self.inputlayer = InputLayer(input_shape=(64, 64, 1))\n",
    "#         self.conv1 = CoordConv(x_dim = 64, y_dim = 64, with_r = False, filters = 64, kernel_size = 3, padding='same', activation='relu')\n",
    "#         self.flatten = Flatten()\n",
    "#         self.d1 = Dense(64*64)\n",
    "#         self.reshape = tf.keras.layers.Reshape((64, 64))\n",
    "#         self.softmax = tf.keras.layers.Softmax()\n",
    "\n",
    "#     def call(self, inp):\n",
    "#         x = inputlayer(inp)\n",
    "#         x = self.conv1(x)\n",
    "#         x = self.flatten(x)\n",
    "#         logits = self.d1(x)\n",
    "#         logtis = self.reshape(logits)\n",
    "#         output = self.softmax(logits)\n",
    "\n",
    "#         return output\n",
    "\n",
    "# model = Coord_model()"
   ]
  },
  {
   "cell_type": "code",
   "execution_count": null,
   "metadata": {},
   "outputs": [],
   "source": [
    "from coord_conv import CoordConv\n",
    "from tensorflow.keras import Model, Sequential, layers\n",
    "from tensorflow.keras.layers import Conv2D, UpSampling2D, MaxPooling2D, Dense, Reshape, Softmax\n",
    "from tensorflow.keras.layers import Flatten, BatchNormalization, ReLU, LeakyReLU, InputLayer\n",
    "import utils\n",
    "\n",
    "coord_model = Sequential([\n",
    "    #Conv2D(filters = 64, kernel_size = 3, strides = 1, padding = \"same\" ),\n",
    "    CoordConv(x_dim = 64, y_dim = 64, with_r = False, filters = 64, kernel_size = 3, padding='same', activation='relu'),\n",
    "    Conv2D(filters = 32, kernel_size = 3, strides = 1, padding = \"same\" ),\n",
    "    Conv2D(filters = 16, kernel_size = 3, strides = 1, padding = \"same\" ),\n",
    "    Flatten(),\n",
    "    Dense(64*64),\n",
    "    Reshape((64, 64, 1)),\n",
    "    Softmax(),\n",
    "])\n",
    "\n",
    "coord_model.build((None, 64, 64, 1))"
   ]
  },
  {
   "cell_type": "code",
   "execution_count": null,
   "metadata": {},
   "outputs": [],
   "source": [
    "BATCH_SIZE = 32\n",
    "MAX_STEP = 5000\n",
    "lr = 1e-4\n",
    "\n",
    "dataset = zip(image, onehots)\n",
    "\n",
    "ds_train = tf.data.Dataset.from_tensor_slices((image, onehots)).shuffle(10000).repeat(10).batch(BATCH_SIZE)"
   ]
  },
  {
   "cell_type": "code",
   "execution_count": null,
   "metadata": {},
   "outputs": [],
   "source": [
    "opt = tf.keras.optimizers.Adam(lr)\n",
    "loss_fn = tf.keras.losses.SparseCategoricalCrossentropy()\n",
    "\n",
    "train_loss = tf.keras.metrics.Mean()\n",
    "train_acc = tf.keras.metrics.SparseCategoricalAccuracy()\n",
    "\n",
    "\n",
    "@tf.function\n",
    "def train_fn(imgs, lbls):\n",
    "    with tf.GradientTape() as tape:\n",
    "        output = model(imgs)\n",
    "        loss = loss_fn(lbls, output)\n",
    "    gradients = tape.gradient(loss, model.trainable_variables)\n",
    "    opt.apply_gradients(zip(gradients, model.trainable_variables))\n",
    "\n",
    "    train_loss(loss)\n",
    "    train_acc(lbls, output)\n",
    "\n",
    "\n",
    "for steps, (img_batch, lbl_batch) in enumerate(ds_train):\n",
    "    if steps > 5000:\n",
    "        break\n",
    "\n",
    "    train_fn(img_batch, lbl_batch)\n",
    "\n",
    "    Template = 'Step: {}, Loss: {}, Accuracy: {}'\n",
    "\n",
    "    if not steps % 100:\n",
    "        print(Template.format(steps, train_loss.result(), train_acc.result()))"
   ]
  }
 ],
 "metadata": {
  "kernelspec": {
   "display_name": "Python 3",
   "language": "python",
   "name": "python3"
  },
  "language_info": {
   "codemirror_mode": {
    "name": "ipython",
    "version": 3
   },
   "file_extension": ".py",
   "mimetype": "text/x-python",
   "name": "python",
   "nbconvert_exporter": "python",
   "pygments_lexer": "ipython3",
   "version": "3.6.6"
  }
 },
 "nbformat": 4,
 "nbformat_minor": 2
}
