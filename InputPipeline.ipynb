{
 "cells": [
  {
   "cell_type": "code",
   "execution_count": 1,
   "metadata": {},
   "outputs": [],
   "source": [
    "import numpy as np \n",
    "import os\n",
    "import glob\n",
    "import utils "
   ]
  },
  {
   "cell_type": "markdown",
   "metadata": {},
   "source": [
    "# Convert .avi to .jpg"
   ]
  },
  {
   "cell_type": "code",
   "execution_count": 2,
   "metadata": {
    "scrolled": false
   },
   "outputs": [
    {
     "name": "stdout",
     "output_type": "stream",
     "text": [
      "Directory of mice index: DG 13\n",
      "Directory of .avi files stored:\n",
      "\n",
      "For:  /home/kevinteng/Desktop/Students_Preprocessing/DG 13/7-12-17/preprocessed_dF.avi\n",
      "\n",
      "For:  /home/kevinteng/Desktop/Students_Preprocessing/DG 13/7-16-17/preprocessed_dF.avi\n",
      "\n",
      "For:  /home/kevinteng/Desktop/Students_Preprocessing/DG 13/8-11-17/preprocessed_dF.avi\n",
      "\n",
      "For:  /home/kevinteng/Desktop/Students_Preprocessing/DG 13/8-16-17/preprocessed_dF.avi\n",
      "\n",
      "For:  /home/kevinteng/Desktop/Students_Preprocessing/DG 13/8-18-17/preprocessed_dF.avi\n",
      "\n",
      "For:  /home/kevinteng/Desktop/Students_Preprocessing/DG 13/8-3-17/preprocessed_dF.avi\n",
      "\n",
      "For:  /home/kevinteng/Desktop/Students_Preprocessing/DG 13/8-8-17/preprocessed_dF.avi\n",
      "\n",
      "\n"
     ]
    }
   ],
   "source": [
    "input_path = '/home/kevinteng/Desktop/Students_Preprocessing/'\n",
    "save_path = '/home/kevinteng/Desktop/project/avi_to_jpg/'\n",
    "\n",
    "utils.vid2frames_from_files(input_path, save_path)"
   ]
  },
  {
   "cell_type": "markdown",
   "metadata": {},
   "source": [
    "# Convert .jpg stacks to .npy arrays"
   ]
  },
  {
   "cell_type": "code",
   "execution_count": 3,
   "metadata": {},
   "outputs": [],
   "source": [
    "input_path = '/home/kevinteng/Desktop/project/avi_to_jpg/' \n",
    "save_path = '/home/kevinteng/Desktop/project/jpg_to_npy/' \n",
    "for main_dir in sorted(os.listdir(input_path)):\n",
    "    merge_dir = os.path.join(input_path + main_dir)\n",
    "    utils.imgs_to_arrays(merge_dir, extension='.jpg', RGB=False, \n",
    "                   save_as_npy=True, img_resize = 200, save_path= save_path)"
   ]
  },
  {
   "cell_type": "code",
   "execution_count": 4,
   "metadata": {
    "scrolled": true
   },
   "outputs": [
    {
     "name": "stdout",
     "output_type": "stream",
     "text": [
      "(5841, 200, 200)\n"
     ]
    }
   ],
   "source": [
    "#stack images\n",
    "npy_list = []\n",
    "for npy_files in sorted(os.listdir(save_path)):\n",
    "    merge_dir = (save_path + npy_files)\n",
    "    #print(merge_dir)\n",
    "    load = np.load(merge_dir)\n",
    "    for i in range(load.shape[0]):\n",
    "        npy_list.append(load[i,:,:])\n",
    "\n",
    "stack_img = np.asarray(npy_list)\n",
    "np.save(save_path+'stack_imgs.npy',stack_img)\n",
    "print(stack_img.shape)"
   ]
  },
  {
   "cell_type": "markdown",
   "metadata": {},
   "source": [
    "# Convert .mat File"
   ]
  },
  {
   "cell_type": "code",
   "execution_count": 5,
   "metadata": {},
   "outputs": [
    {
     "name": "stdout",
     "output_type": "stream",
     "text": [
      "Directory of mice index: DG 13\n",
      "Directory of .mat files stored:\n",
      "\n",
      "/home/kevinteng/Desktop/Students_Preprocessing/DG 13/7-12-17/preprocesseddFvid.mat\n",
      "/home/kevinteng/Desktop/Students_Preprocessing/DG 13/7-12-17/preprocessedCaSignal.mat\n",
      "(605, 16)\n",
      "(605, 16)\n",
      "(605, 16)\n",
      "(1, 1)\n",
      "/home/kevinteng/Desktop/Students_Preprocessing/DG 13/7-12-17/preprocessed_ROIvalues.mat\n",
      "(605, 16)\n",
      "/home/kevinteng/Desktop/Students_Preprocessing/DG 13/7-12-17/preprocessedvidalign.mat\n",
      "(1, 1)\n",
      "\n",
      "/home/kevinteng/Desktop/Students_Preprocessing/DG 13/7-16-17/preprocesseddFvid.mat\n",
      "/home/kevinteng/Desktop/Students_Preprocessing/DG 13/7-16-17/preprocessedCaSignal.mat\n",
      "(1886, 13)\n",
      "(1886, 13)\n",
      "(1886, 13)\n",
      "(1, 1)\n",
      "/home/kevinteng/Desktop/Students_Preprocessing/DG 13/7-16-17/preprocessed_ROIvalues.mat\n",
      "(1886, 13)\n",
      "/home/kevinteng/Desktop/Students_Preprocessing/DG 13/7-16-17/preprocessedvidalign.mat\n",
      "(1, 1)\n",
      "\n",
      "/home/kevinteng/Desktop/Students_Preprocessing/DG 13/8-11-17/preprocesseddFvid.mat\n",
      "/home/kevinteng/Desktop/Students_Preprocessing/DG 13/8-11-17/preprocessedCaSignal.mat\n",
      "(643, 15)\n",
      "(643, 15)\n",
      "(643, 15)\n",
      "(1, 1)\n",
      "/home/kevinteng/Desktop/Students_Preprocessing/DG 13/8-11-17/preprocessed_ROIvalues.mat\n",
      "(643, 15)\n",
      "/home/kevinteng/Desktop/Students_Preprocessing/DG 13/8-11-17/preprocessedvidalign.mat\n",
      "(1, 1)\n",
      "\n",
      "/home/kevinteng/Desktop/Students_Preprocessing/DG 13/8-16-17/preprocesseddFvid.mat\n",
      "/home/kevinteng/Desktop/Students_Preprocessing/DG 13/8-16-17/preprocessedCaSignal.mat\n",
      "(664, 19)\n",
      "(664, 19)\n",
      "(664, 19)\n",
      "(1, 1)\n",
      "/home/kevinteng/Desktop/Students_Preprocessing/DG 13/8-16-17/preprocessed_ROIvalues.mat\n",
      "(664, 19)\n",
      "/home/kevinteng/Desktop/Students_Preprocessing/DG 13/8-16-17/preprocessedvidalign.mat\n",
      "(1, 1)\n",
      "\n",
      "/home/kevinteng/Desktop/Students_Preprocessing/DG 13/8-18-17/preprocesseddFvid.mat\n",
      "/home/kevinteng/Desktop/Students_Preprocessing/DG 13/8-18-17/preprocessedCaSignal.mat\n",
      "(658, 16)\n",
      "(658, 16)\n",
      "(658, 16)\n",
      "(1, 1)\n",
      "/home/kevinteng/Desktop/Students_Preprocessing/DG 13/8-18-17/preprocessed_ROIvalues.mat\n",
      "(658, 16)\n",
      "/home/kevinteng/Desktop/Students_Preprocessing/DG 13/8-18-17/preprocessedvidalign.mat\n",
      "(1, 1)\n",
      "\n",
      "/home/kevinteng/Desktop/Students_Preprocessing/DG 13/8-3-17/preprocesseddFvid.mat\n",
      "/home/kevinteng/Desktop/Students_Preprocessing/DG 13/8-3-17/preprocessedCaSignal.mat\n",
      "(756, 17)\n",
      "(756, 17)\n",
      "(756, 17)\n",
      "(1, 1)\n",
      "/home/kevinteng/Desktop/Students_Preprocessing/DG 13/8-3-17/preprocessed_ROIvalues.mat\n",
      "(756, 17)\n",
      "/home/kevinteng/Desktop/Students_Preprocessing/DG 13/8-3-17/preprocessedvidalign.mat\n",
      "(1, 1)\n",
      "\n",
      "/home/kevinteng/Desktop/Students_Preprocessing/DG 13/8-8-17/preprocesseddFvid.mat\n",
      "/home/kevinteng/Desktop/Students_Preprocessing/DG 13/8-8-17/preprocessedCaSignal.mat\n",
      "(629, 16)\n",
      "(629, 16)\n",
      "(629, 16)\n",
      "(1, 1)\n",
      "/home/kevinteng/Desktop/Students_Preprocessing/DG 13/8-8-17/preprocessed_ROIvalues.mat\n",
      "(629, 16)\n",
      "/home/kevinteng/Desktop/Students_Preprocessing/DG 13/8-8-17/name.mat\n",
      "(1, 1)\n",
      "/home/kevinteng/Desktop/Students_Preprocessing/DG 13/8-8-17/preprocessedvidalign.mat\n",
      "(1, 1)\n",
      "\n"
     ]
    }
   ],
   "source": [
    "input_path = '/home/kevinteng/Desktop/Students_Preprocessing/'\n",
    "save_path = '/home/kevinteng/Desktop/project/mat/'\n",
    "\n",
    "utils.mat_2_npy(input_path, save_path)"
   ]
  }
 ],
 "metadata": {
  "kernelspec": {
   "display_name": "Python 3",
   "language": "python",
   "name": "python3"
  },
  "language_info": {
   "codemirror_mode": {
    "name": "ipython",
    "version": 3
   },
   "file_extension": ".py",
   "mimetype": "text/x-python",
   "name": "python",
   "nbconvert_exporter": "python",
   "pygments_lexer": "ipython3",
   "version": "3.6.6"
  }
 },
 "nbformat": 4,
 "nbformat_minor": 2
}
