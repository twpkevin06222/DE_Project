{
 "cells": [
  {
   "cell_type": "code",
   "execution_count": 15,
   "metadata": {},
   "outputs": [],
   "source": [
    "import os \n",
    "import sys\n",
    "os.environ[\"CUDA_VISIBLE_DEVICES\"]=\"0\"  # specify which GPU(s) to be used"
   ]
  },
  {
   "cell_type": "code",
   "execution_count": 16,
   "metadata": {},
   "outputs": [],
   "source": [
    "sys.path.append('/home/kevinteng/Desktop/DE_Project')\n",
    "import tensorflow as tf\n",
    "import numpy as np \n",
    "import matplotlib.pyplot as plt\n",
    "import cv2\n",
    "from coord_conv import CoordConv\n",
    "from tensorflow.keras import Model, Sequential\n",
    "from tensorflow.keras.layers import Conv2D, Flatten, Dense, Softmax,MaxPooling2D,UpSampling2D,Input,ActivityRegularization,Dropout,ReLU,Add"
   ]
  },
  {
   "cell_type": "markdown",
   "metadata": {},
   "source": [
    "---"
   ]
  },
  {
   "cell_type": "markdown",
   "metadata": {},
   "source": [
    "# Helper Functions"
   ]
  },
  {
   "cell_type": "code",
   "execution_count": 17,
   "metadata": {},
   "outputs": [],
   "source": [
    "def create_ran_numbers(img_size):\n",
    "    '''\n",
    "    Function to create random coordinates \n",
    "    \n",
    "    @param img_size: Image size \n",
    "    \n",
    "    return:\n",
    "    random generated x,y coordinates \n",
    "    '''\n",
    "    c1=np.random.randint(img_size, size=1)\n",
    "    c2=np.random.randint(img_size, size=1)\n",
    "    c1=tf.convert_to_tensor( c1,dtype=None,dtype_hint=None,name=None)\n",
    "    c2=tf.convert_to_tensor( c2,dtype=None,dtype_hint=None,name=None)\n",
    "    return c1,c2\n",
    "\n",
    "@tf.function\n",
    "def create_tf_tilecords(coord_list, img_size):\n",
    "    o1,o2=coord_list\n",
    "    multiply=tf.constant([img_size*img_size])\n",
    "    y1=tf.reshape(tf.tile(o1,multiply),[img_size,img_size,1])\n",
    "    y2=tf.reshape(tf.tile(o2,multiply),[img_size,img_size,1])\n",
    "\n",
    "    y=tf.concat((y1,y2),axis=2)\n",
    "\n",
    "    return tf.dtypes.cast(y, tf.float32),tf.dtypes.cast(coord_list, tf.float32)\n",
    "\n",
    "@tf.function\n",
    "def tf_create_onehotcords(dat):\n",
    "    o1,o2=dat\n",
    "    y1=tf.one_hot(o1,100)\n",
    "    y2=tf.one_hot(o2,100)\n",
    "    y2=tf.transpose(y2)\n",
    "    y=tf.math.multiply(y1,y2)\n",
    "    #y=tf.transpose(y)\n",
    "    return y\n",
    "\n",
    "def create_dat_samples(n):\n",
    "    '''\n",
    "    Function to create stacks of coordinates, tiled coordinates, one hot images\n",
    "    @param n: number of neurons\n",
    "    '''\n",
    "    ta = tf.TensorArray(tf.float32, size=0, dynamic_size=True)\n",
    "    tb = tf.TensorArray(tf.float32, size=0, dynamic_size=True)\n",
    "    coords = tf.TensorArray(tf.float32, size=0, dynamic_size = True)\n",
    "    for _ in tf.range(n):\n",
    "        dat=create_ran_numbers(img_size=100)\n",
    "        b1,b2=create_tf_tilecords(dat, 100)\n",
    "        c1=tf_create_onehotcords(dat)\n",
    "        c1=tf.expand_dims(c1, axis=2, name=None)\n",
    "        \n",
    "        #tile coordinates\n",
    "        ta = ta.write(_, b1/99)  #(n, img_size, img_size, 1)\n",
    "        #one hot images\n",
    "        tb = tb.write(_, c1) #(n, img_size, img_size, 1)\n",
    "        #coordinates\n",
    "        coords = coords.write(_, dat) #(n, 2, 1)\n",
    "    return coords.stack(), ta.stack(),tb.stack()\n",
    "\n",
    "def neuron_like_image(n_neurons):\n",
    "    '''\n",
    "    Function to paint neuron-like images\n",
    "     @param n_neurons: number of neurons\n",
    "    '''\n",
    "    _,_,one_hot_imgs = create_dat_samples(n_neurons)\n",
    "    stack_imgs = tf.reduce_sum(one_hot_imgs, axis = 0)\n",
    "    return tf.expand_dims(stack_imgs, axis = 0) #(1, img_size, img_size, 1)\n",
    "\n",
    "def de_conv(input_tensor):\n",
    "    coord01 = CoordConv(x_dim = 100, y_dim = 100, with_r = False, filters = 100,\n",
    "              kernel_size = 1, padding='same', activation='relu')(input_tensor)\n",
    "    conv01 = Conv2D(filters = 50, kernel_size = 1, strides = 1, padding = \"same\", activation = 'relu')(coord01)\n",
    "    conv02 = Conv2D(filters = 50, kernel_size = 1, strides = 1, padding = \"same\", activation = 'relu')(conv01)\n",
    "    conv03 = Conv2D(filters = 100, kernel_size = 1, strides = 1, padding = \"same\", activation = 'relu')(conv02)\n",
    "    conv04 = Conv2D(filters = 100, kernel_size = 1, strides = 1, padding = \"same\", activation = 'relu')(conv03)\n",
    "    conv05 = Conv2D(filters = 1, kernel_size = 1, strides = 1, padding = \"same\" )(conv04)\n",
    "    f1 = Flatten()(conv05)\n",
    "    output = Softmax(axis = -1)(f1)\n",
    "\n",
    "    return output\n",
    "\n",
    "def stack4plot(one_hot_imgs):\n",
    "    '''\n",
    "    Functions to sum all one hot images along axis=0 for easy plot\n",
    "    '''\n",
    "    return tf.squeeze(tf.reduce_sum(one_hot_imgs, axis = 0))"
   ]
  },
  {
   "cell_type": "markdown",
   "metadata": {},
   "source": [
    "---"
   ]
  },
  {
   "cell_type": "markdown",
   "metadata": {},
   "source": [
    "# Build Model"
   ]
  },
  {
   "cell_type": "code",
   "execution_count": 18,
   "metadata": {},
   "outputs": [
    {
     "name": "stdout",
     "output_type": "stream",
     "text": [
      "Model: \"model_1\"\n",
      "_________________________________________________________________\n",
      "Layer (type)                 Output Shape              Param #   \n",
      "=================================================================\n",
      "input_2 (InputLayer)         [(None, 100, 100, 2)]     0         \n",
      "_________________________________________________________________\n",
      "coord_conv_1 (CoordConv)     (None, 100, 100, 100)     500       \n",
      "_________________________________________________________________\n",
      "conv2d_7 (Conv2D)            (None, 100, 100, 50)      5050      \n",
      "_________________________________________________________________\n",
      "conv2d_8 (Conv2D)            (None, 100, 100, 50)      2550      \n",
      "_________________________________________________________________\n",
      "conv2d_9 (Conv2D)            (None, 100, 100, 100)     5100      \n",
      "_________________________________________________________________\n",
      "conv2d_10 (Conv2D)           (None, 100, 100, 100)     10100     \n",
      "_________________________________________________________________\n",
      "conv2d_11 (Conv2D)           (None, 100, 100, 1)       101       \n",
      "_________________________________________________________________\n",
      "flatten_1 (Flatten)          (None, 10000)             0         \n",
      "_________________________________________________________________\n",
      "softmax_1 (Softmax)          (None, 10000)             0         \n",
      "=================================================================\n",
      "Total params: 23,401\n",
      "Trainable params: 23,401\n",
      "Non-trainable params: 0\n",
      "_________________________________________________________________\n"
     ]
    }
   ],
   "source": [
    "inp = Input(shape=(100, 100,2)) #(batch_size, img_size, img_size, 2)\n",
    "de_coordconv = Model(inp, de_conv(inp))\n",
    "\n",
    "de_coordconv.summary()"
   ]
  },
  {
   "cell_type": "code",
   "execution_count": 19,
   "metadata": {},
   "outputs": [],
   "source": [
    "de_coordconv.load_weights(\"best_class_model100_02.hdf5\")"
   ]
  },
  {
   "cell_type": "markdown",
   "metadata": {},
   "source": [
    "## Custom Layer"
   ]
  },
  {
   "cell_type": "code",
   "execution_count": 20,
   "metadata": {},
   "outputs": [],
   "source": [
    "from tensorflow.keras import layers\n",
    "\n",
    "class learnable_coords(layers.Layer):\n",
    "    def __init__(self, coords):\n",
    "        super(learnable_coords, self).__init__()\n",
    "        self.learned_coords = tf.Variable((coords), trainable = True)\n",
    "\n",
    "    def __call__(self, img_size):\n",
    "        y = self.learned_coords/(img_size-1) #normalize the coordinates\n",
    "    #         y = tf.clip_by_value(y, clip_value_min=0, clip_value_max=1) #clip values\n",
    "        return y"
   ]
  },
  {
   "cell_type": "code",
   "execution_count": 21,
   "metadata": {
    "scrolled": false
   },
   "outputs": [
    {
     "name": "stdout",
     "output_type": "stream",
     "text": [
      "(1, 100, 100, 1)\n"
     ]
    },
    {
     "data": {
      "text/plain": [
       "<matplotlib.image.AxesImage at 0x7f76e82b5b00>"
      ]
     },
     "execution_count": 21,
     "metadata": {},
     "output_type": "execute_result"
    },
    {
     "data": {
      "image/png": "[encoded data removed]",
      "text/plain": [
       "<Figure size 432x288 with 1 Axes>"
      ]
     },
     "metadata": {},
     "output_type": "display_data"
    }
   ],
   "source": [
    "neuron_imgs = neuron_like_image(1)\n",
    "print(neuron_imgs.shape)\n",
    "plt.imshow(tf.squeeze(neuron_imgs), cmap='gray')"
   ]
  },
  {
   "cell_type": "code",
   "execution_count": 22,
   "metadata": {},
   "outputs": [],
   "source": [
    "# img_path = '/home/kevinteng/Desktop/jpg_to_npy_benchmark/DG13_3-8-17_preprocessed_dF.npy'\n",
    "# neuron_imgs = np.load(img_path).astype(np.float32)\n",
    "# neuron_imgs = np.reshape(cv2.resize(neuron_imgs[0], (100,100)), (1,100,100,1))\n",
    "# print(neuron_imgs.shape)\n",
    "# plt.imshow(np.squeeze(neuron_imgs), cmap='gray')"
   ]
  },
  {
   "cell_type": "code",
   "execution_count": 23,
   "metadata": {},
   "outputs": [
    {
     "name": "stdout",
     "output_type": "stream",
     "text": [
      "[1 1 1 2]\n"
     ]
    }
   ],
   "source": [
    "n_neurons = 1\n",
    "img_size = 100\n",
    "coords,_, ori_one_hot_imgs = create_dat_samples(n_neurons)\n",
    "coords = tf.reshape(coords, [n_neurons, 1,1,2])\n",
    "tf.print(tf.shape(coords))"
   ]
  },
  {
   "cell_type": "code",
   "execution_count": 33,
   "metadata": {},
   "outputs": [],
   "source": [
    "lr=0.8\n",
    "l_coords = learnable_coords(coords)\n",
    "opt = tf.keras.optimizers.Adam(lr)\n",
    "loss_fn = tf.losses.MeanSquaredError()\n",
    "\n",
    "@tf.function\n",
    "def train_fn(coords, neuron_imgs, img_size, dot = True):\n",
    "    with tf.GradientTape() as tape:\n",
    "        #custom layer for updating coordinates\n",
    "        updated_coords = l_coords(img_size)\n",
    "        m1 = tf.constant([1,img_size,img_size,1], tf.int32) #multiplier for tiling \n",
    "        #tile coordinates\n",
    "        tile_cd = tf.tile(updated_coords, m1)\n",
    "        #de-coordconv model\n",
    "        de_coordconv.trainable = False #freeze de-coordconv\n",
    "        one_hot_imgs = tf.reshape(de_coordconv(tile_cd),[-1,img_size, img_size, 1]) #(n_neurons, img_size, img_size, 1)\n",
    "        if dot == True:\n",
    "            similarity_score = tf.tensordot(one_hot_imgs, neuron_imgs, [[1,2,3],[0,1,2]]) #(n_neurons, 1)\n",
    "        else:\n",
    "            similarity_score = tf.image.ssim(neuron_imgs, one_hot_imgs, max_val=1.0)\n",
    "        mul = tf.reshape(similarity_score, [-1,1,1,1])*one_hot_imgs #multiplication\n",
    "        mul = tf.reduce_sum(mul, axis=0) #(img_size, img_size, 1)\n",
    "        loss = loss_fn(tf.squeeze(neuron_imgs), tf.squeeze(mul))\n",
    "        \n",
    "    gradients = tape.gradient(loss, l_coords.trainable_variables)\n",
    "    opt.apply_gradients(zip(gradients, l_coords.trainable_variables))\n",
    "    \n",
    "    return loss, gradients, updated_coords, one_hot_imgs, similarity_score"
   ]
  },
  {
   "cell_type": "markdown",
   "metadata": {},
   "source": [
    "---"
   ]
  },
  {
   "cell_type": "markdown",
   "metadata": {},
   "source": [
    "# Training "
   ]
  },
  {
   "cell_type": "code",
   "execution_count": 34,
   "metadata": {
    "scrolled": true
   },
   "outputs": [
    {
     "name": "stdout",
     "output_type": "stream",
     "text": [
      "Epochs  0, Loss: 0.00019627045548986644\n",
      "Updated coordinates: [[[42 39]]]\n",
      "Similarity score: 0.984458327293396\n",
      "Gradient min:-7.063225666570361e-07, max:5.8727559917315375e-06\n",
      "\n",
      "Epochs 100, Loss: 0.00018030978390015662\n",
      "Updated coordinates: [[[39 34]]]\n",
      "Similarity score: 0.9846892356872559\n",
      "Gradient min:-6.146141822682694e-05, max:0.0002453054767102003\n",
      "\n",
      "Epochs 200, Loss: 0.00013221142580732703\n",
      "Updated coordinates: [[[39 31]]]\n",
      "Similarity score: 0.9855846762657166\n",
      "Gradient min:-2.0648016288760118e-05, max:8.249523671111092e-05\n",
      "\n",
      "Epochs 300, Loss: 0.00015832298959139735\n",
      "Updated coordinates: [[[39 31]]]\n",
      "Similarity score: 0.9849717020988464\n",
      "Gradient min:-0.00019122859521303326, max:-3.267428212438972e-07\n",
      "\n",
      "Epochs 400, Loss: 0.00016505931853316724\n",
      "Updated coordinates: [[[38 31]]]\n",
      "Similarity score: 0.9849931001663208\n",
      "Gradient min:-0.0003063628973904997, max:0.0002441777032800019\n",
      "\n",
      "Epochs 500, Loss: 0.00013109920837450773\n",
      "Updated coordinates: [[[37 32]]]\n",
      "Similarity score: 0.9856443405151367\n",
      "Gradient min:-9.83039899438154e-06, max:2.223787123512011e-05\n",
      "\n",
      "Epochs 600, Loss: 0.00013104145182296634\n",
      "Updated coordinates: [[[37 32]]]\n",
      "Similarity score: 0.9856559038162231\n",
      "Gradient min:-1.4661402758520126e-07, max:1.0280810158747045e-07\n",
      "\n",
      "Epochs 700, Loss: 0.00013104146637488157\n",
      "Updated coordinates: [[[37 32]]]\n",
      "Similarity score: 0.9856558442115784\n",
      "Gradient min:-7.422001147006085e-08, max:5.842806771738651e-08\n",
      "\n",
      "Epochs 800, Loss: 0.00013917352771386504\n",
      "Updated coordinates: [[[35 36]]]\n",
      "Similarity score: 0.9854702353477478\n",
      "Gradient min:-7.438071770593524e-05, max:3.864337122649886e-05\n",
      "\n",
      "Epochs 900, Loss: 0.000156834939843975\n",
      "Updated coordinates: [[[30 46]]]\n",
      "Similarity score: 0.9849599003791809\n",
      "Gradient min:-8.158550190273672e-05, max:0.000334040611051023\n",
      "\n",
      "Epochs 1000, Loss: 0.00017984892474487424\n",
      "Updated coordinates: [[[28 31]]]\n",
      "Similarity score: 0.9847121834754944\n",
      "Gradient min:-7.35739668016322e-05, max:7.086269761202857e-05\n",
      "\n",
      "Epochs 1100, Loss: 0.00018718704814091325\n",
      "Updated coordinates: [[[16 32]]]\n",
      "Similarity score: 0.9845939874649048\n",
      "Gradient min:-0.00014800531789660454, max:2.9684288165299222e-05\n",
      "\n",
      "Epochs 1200, Loss: 0.0001508603454567492\n",
      "Updated coordinates: [[[15 30]]]\n",
      "Similarity score: 0.9849951863288879\n",
      "Gradient min:-0.0002321466599823907, max:3.687357093440369e-05\n",
      "\n",
      "Epochs 1300, Loss: 0.00017540385306347162\n",
      "Updated coordinates: [[[25 13]]]\n",
      "Similarity score: 0.984801709651947\n",
      "Gradient min:-0.0001865840022219345, max:0.0002464971039444208\n",
      "\n",
      "Epochs 1400, Loss: 0.00019520416390150785\n",
      "Updated coordinates: [[[19 20]]]\n",
      "Similarity score: 0.984474241733551\n",
      "Gradient min:-6.500575636891881e-06, max:2.915639925049618e-05\n",
      "\n",
      "Epochs 1500, Loss: 0.00013892327842768282\n",
      "Updated coordinates: [[[25 17]]]\n",
      "Similarity score: 0.9855020046234131\n",
      "Gradient min:-0.00010004645446315408, max:0.0001975788763957098\n",
      "\n",
      "Epochs 1600, Loss: 0.00013514129386749119\n",
      "Updated coordinates: [[[18 25]]]\n",
      "Similarity score: 0.9856144189834595\n",
      "Gradient min:-0.00019698039977811277, max:0.00021655907039530575\n",
      "\n",
      "Epochs 1700, Loss: 0.00013483822112903\n",
      "Updated coordinates: [[[19 24]]]\n",
      "Similarity score: 0.9854536056518555\n",
      "Gradient min:-0.00012854524538852274, max:0.00011600078141782433\n",
      "\n",
      "Epochs 1800, Loss: 0.00019552645971998572\n",
      "Updated coordinates: [[[20 28]]]\n",
      "Similarity score: 0.9844695925712585\n",
      "Gradient min:-1.0693963304220233e-05, max:1.640609661990311e-05\n",
      "\n",
      "Epochs 1900, Loss: 0.00018018143600784242\n",
      "Updated coordinates: [[[17 29]]]\n",
      "Similarity score: 0.9847105145454407\n",
      "Gradient min:-0.0001787854707799852, max:7.042317884042859e-05\n",
      "\n",
      "Epochs 2000, Loss: 0.00014717603335157037\n",
      "Updated coordinates: [[[ 8 43]]]\n",
      "Similarity score: 0.9852444529533386\n",
      "Gradient min:1.797766799427336e-06, max:3.5655382816912606e-05\n",
      "\n",
      "Epochs 2100, Loss: 0.00013076209870632738\n",
      "Updated coordinates: [[[ 7 40]]]\n",
      "Similarity score: 0.9862082004547119\n",
      "Gradient min:-9.841989231063053e-05, max:0.0001066165859811008\n",
      "\n",
      "Epochs 2200, Loss: 0.0001462046493543312\n",
      "Updated coordinates: [[[ 6 38]]]\n",
      "Similarity score: 0.9866135120391846\n",
      "Gradient min:-2.57301999226911e-05, max:4.847478339797817e-05\n",
      "\n",
      "Epochs 2300, Loss: 0.00016392095130868256\n",
      "Updated coordinates: [[[ 3 45]]]\n",
      "Similarity score: 0.9902025461196899\n",
      "Gradient min:-0.00010708331683417782, max:6.627930997638032e-05\n",
      "\n",
      "Epochs 2400, Loss: 0.00019015978614334017\n",
      "Updated coordinates: [[[ 6 39]]]\n",
      "Similarity score: 0.9868026375770569\n",
      "Gradient min:-0.00010380136518506333, max:3.5949957236880437e-05\n",
      "\n",
      "Epochs 2500, Loss: 0.00014471524627879262\n",
      "Updated coordinates: [[[11 34]]]\n",
      "Similarity score: 0.985211193561554\n",
      "Gradient min:-0.00016519612108822912, max:8.075674122665077e-05\n",
      "\n",
      "Epochs 2600, Loss: 0.000130646483739838\n",
      "Updated coordinates: [[[ 8 37]]]\n",
      "Similarity score: 0.9858022928237915\n",
      "Gradient min:-7.509213901357725e-05, max:0.00013045301602687687\n",
      "\n",
      "Epochs 2700, Loss: 0.00012727532885037363\n",
      "Updated coordinates: [[[ 8 38]]]\n",
      "Similarity score: 0.9859386086463928\n",
      "Gradient min:-1.0290148566127755e-05, max:2.7680103812599555e-05\n",
      "\n",
      "Epochs 2800, Loss: 0.00012813367357011884\n",
      "Updated coordinates: [[[ 8 38]]]\n",
      "Similarity score: 0.9859614968299866\n",
      "Gradient min:-9.785075963009149e-05, max:6.245262193260714e-05\n",
      "\n",
      "Epochs 2900, Loss: 0.0001249260822078213\n",
      "Updated coordinates: [[[ 8 38]]]\n",
      "Similarity score: 0.9859707355499268\n",
      "Gradient min:-1.0793077080961666e-06, max:8.878174639903591e-07\n",
      "\n",
      "Epochs 3000, Loss: 0.00012492560199461877\n",
      "Updated coordinates: [[[ 8 38]]]\n",
      "Similarity score: 0.9859707355499268\n",
      "Gradient min:-4.777743356498831e-07, max:3.7618096371261345e-07\n",
      "\n",
      "Epochs 3100, Loss: 0.000124932688777335\n",
      "Updated coordinates: [[[ 8 38]]]\n",
      "Similarity score: 0.9859717488288879\n",
      "Gradient min:-7.237873433041386e-06, max:5.638335551338969e-06\n",
      "\n",
      "Epochs 3200, Loss: 0.00012500972661655396\n",
      "Updated coordinates: [[[ 8 38]]]\n",
      "Similarity score: 0.985977292060852\n",
      "Gradient min:-1.9458066162769683e-05, max:1.4048097000340931e-05\n",
      "\n",
      "Epochs 3300, Loss: 0.00012563748168759048\n",
      "Updated coordinates: [[[ 8 38]]]\n",
      "Similarity score: 0.985944390296936\n",
      "Gradient min:-5.924091237829998e-05, max:6.600425695069134e-05\n",
      "\n",
      "Epochs 3400, Loss: 0.0001950533624039963\n",
      "Updated coordinates: [[[ 8 38]]]\n",
      "Similarity score: 0.9850310683250427\n",
      "Gradient min:-5.4002525757823605e-06, max:2.5470849323028233e-06\n",
      "\n",
      "Epochs 3500, Loss: 0.00019481858180370182\n",
      "Updated coordinates: [[[ 7 39]]]\n",
      "Similarity score: 0.9858022928237915\n",
      "Gradient min:-2.6018471544375643e-05, max:2.5175681003020145e-05\n",
      "\n",
      "Epochs 3600, Loss: 0.00017708442464936525\n",
      "Updated coordinates: [[[11 41]]]\n",
      "Similarity score: 0.9847702383995056\n",
      "Gradient min:-0.00016180275997612625, max:0.0002557970874477178\n",
      "\n",
      "Epochs 3700, Loss: 0.00013276402023620903\n",
      "Updated coordinates: [[[16 26]]]\n",
      "Similarity score: 0.985680103302002\n",
      "Gradient min:-0.00014864814875181764, max:0.00012099601735826582\n",
      "\n",
      "Epochs 3800, Loss: 0.00018374816863797605\n",
      "Updated coordinates: [[[10 37]]]\n",
      "Similarity score: 0.9846553802490234\n",
      "Gradient min:-8.886353316484019e-05, max:9.907991625368595e-05\n",
      "\n",
      "Epochs 3900, Loss: 0.0001701753935776651\n",
      "Updated coordinates: [[[ 6 45]]]\n",
      "Similarity score: 0.9869828224182129\n",
      "Gradient min:-0.00029424336389638484, max:5.337467882782221e-05\n",
      "\n",
      "Epochs 4000, Loss: 0.00015867460751906037\n",
      "Updated coordinates: [[[ 1 47]]]\n",
      "Similarity score: 0.9911816716194153\n",
      "Gradient min:-7.189979805843905e-05, max:0.00035577293601818383\n",
      "\n",
      "Epochs 4100, Loss: 0.00014932201884221286\n",
      "Updated coordinates: [[[ 1 46]]]\n",
      "Similarity score: 0.9915307760238647\n",
      "Gradient min:-5.236960350885056e-05, max:-3.473059769021347e-05\n",
      "\n",
      "Epochs 4200, Loss: 0.00013904886145610362\n",
      "Updated coordinates: [[[ 2 51]]]\n",
      "Similarity score: 0.9911203980445862\n",
      "Gradient min:-0.00023448345018550754, max:0.0002623233012855053\n",
      "\n",
      "Epochs 4300, Loss: 0.0001541267556603998\n",
      "Updated coordinates: [[[-5 58]]]\n",
      "Similarity score: 0.992154598236084\n",
      "Gradient min:-0.00018190164701081812, max:0.0002220961032435298\n",
      "\n",
      "Epochs 4400, Loss: 0.00012150866677984595\n",
      "Updated coordinates: [[[-11  60]]]\n",
      "Similarity score: 0.9921944737434387\n",
      "Gradient min:-2.6554496344033396e-06, max:4.043108674522955e-06\n",
      "\n",
      "Epochs 4500, Loss: 0.00012000018614344299\n",
      "Updated coordinates: [[[-12  60]]]\n",
      "Similarity score: 0.9921965003013611\n",
      "Gradient min:-2.629031314427266e-06, max:3.8593825593125075e-06\n",
      "\n",
      "Epochs 4600, Loss: 0.00011922425619559363\n",
      "Updated coordinates: [[[-12  59]]]\n",
      "Similarity score: 0.9921975135803223\n",
      "Gradient min:-1.7632085018703947e-06, max:2.3677309854974737e-06\n",
      "\n"
     ]
    },
    {
     "name": "stdout",
     "output_type": "stream",
     "text": [
      "Epochs 4700, Loss: 0.00011895420902874321\n",
      "Updated coordinates: [[[-12  59]]]\n",
      "Similarity score: 0.9921978712081909\n",
      "Gradient min:-1.4790642808293342e-06, max:2.344240328966407e-06\n",
      "\n",
      "Epochs 4800, Loss: 0.0001182050837087445\n",
      "Updated coordinates: [[[-13  58]]]\n",
      "Similarity score: 0.9921988248825073\n",
      "Gradient min:-1.7449724509788211e-06, max:2.677244310689275e-06\n",
      "\n",
      "Epochs 4900, Loss: 0.00011731690028682351\n",
      "Updated coordinates: [[[-13  58]]]\n",
      "Similarity score: 0.9922000169754028\n",
      "Gradient min:-1.8563505363999866e-06, max:2.7737507934944006e-06\n",
      "\n",
      "Epochs 5000, Loss: 0.0001169361567008309\n",
      "Updated coordinates: [[[-14  57]]]\n",
      "Similarity score: 0.992200493812561\n",
      "Gradient min:-1.944003770404379e-06, max:1.6402107121393783e-06\n",
      "\n"
     ]
    }
   ],
   "source": [
    "epochs = 0\n",
    "max_epochs = 5000\n",
    "one_hot_imgs_list =[]\n",
    "while epochs <= max_epochs:\n",
    "    loss, gradients, updated_coords, one_hot_imgs, similarity_score = train_fn(coords, neuron_imgs, img_size, dot=False)\n",
    "    \n",
    "    one_hot_imgs_list.append(tf.reduce_sum(one_hot_imgs, axis = 0))\n",
    "    \n",
    "    if epochs%100==0:\n",
    "        print(\"Epochs {:2d}, Loss: {}\".format(epochs, loss.numpy()))\n",
    "        print(\"Updated coordinates: {}\".format(tf.cast(updated_coords[0]*99, dtype=tf.int32)))\n",
    "        print(\"Similarity score: {}\".format(similarity_score[0]))\n",
    "        print(\"Gradient min:{}, max:{}\".format(np.min(gradients[0]), np.max(gradients[0])))\n",
    "        print()\n",
    "    epochs+=1"
   ]
  },
  {
   "cell_type": "markdown",
   "metadata": {},
   "source": [
    "# Visualizations"
   ]
  },
  {
   "cell_type": "code",
   "execution_count": 35,
   "metadata": {
    "scrolled": true
   },
   "outputs": [
    {
     "name": "stdout",
     "output_type": "stream",
     "text": [
      "Epochs: 4996\n",
      "\n"
     ]
    },
    {
     "data": {
      "image/png": "[encoded data removed]",
      "text/plain": [
       "<Figure size 720x720 with 3 Axes>"
      ]
     },
     "metadata": {},
     "output_type": "display_data"
    },
    {
     "name": "stdout",
     "output_type": "stream",
     "text": [
      "Epochs: 4997\n",
      "\n"
     ]
    },
    {
     "data": {
      "image/png": "[encoded data removed]",
      "text/plain": [
       "<Figure size 720x720 with 3 Axes>"
      ]
     },
     "metadata": {},
     "output_type": "display_data"
    },
    {
     "name": "stdout",
     "output_type": "stream",
     "text": [
      "Epochs: 4998\n",
      "\n"
     ]
    },
    {
     "data": {
      "image/png": "[encoded data removed]",
      "text/plain": [
       "<Figure size 720x720 with 3 Axes>"
      ]
     },
     "metadata": {},
     "output_type": "display_data"
    },
    {
     "name": "stdout",
     "output_type": "stream",
     "text": [
      "Epochs: 4999\n",
      "\n"
     ]
    },
    {
     "data": {
      "image/png": "[encoded data removed]",
      "text/plain": [
       "<Figure size 720x720 with 3 Axes>"
      ]
     },
     "metadata": {},
     "output_type": "display_data"
    },
    {
     "name": "stdout",
     "output_type": "stream",
     "text": [
      "Epochs: 5000\n",
      "\n"
     ]
    },
    {
     "data": {
      "image/png": "[encoded data removed]",
      "text/plain": [
       "<Figure size 720x720 with 3 Axes>"
      ]
     },
     "metadata": {},
     "output_type": "display_data"
    }
   ],
   "source": [
    "from utils_vis import plot_comparison\n",
    "\n",
    "captions = ['Neuron Activations', 'Original Coordinates', 'Learned Coordinates']\n",
    "\n",
    "last_n_images = 5\n",
    "for i in range(last_n_images):\n",
    "    index = (len(one_hot_imgs_list)-last_n_images + i)\n",
    "    print(\"Epochs: {}\".format(index))\n",
    "    inp_imgs = [neuron_imgs, stack4plot(ori_one_hot_imgs), one_hot_imgs_list[i]]\n",
    "    plot_comparison(inp_imgs, captions, n_col = 3, figsize = (10,10))"
   ]
  }
 ],
 "metadata": {
  "kernelspec": {
   "display_name": "Python 3",
   "language": "python",
   "name": "python3"
  },
  "language_info": {
   "codemirror_mode": {
    "name": "ipython",
    "version": 3
   },
   "file_extension": ".py",
   "mimetype": "text/x-python",
   "name": "python",
   "nbconvert_exporter": "python",
   "pygments_lexer": "ipython3",
   "version": "3.6.6"
  }
 },
 "nbformat": 4,
 "nbformat_minor": 2
}
