{
 "cells": [
  {
   "cell_type": "code",
   "execution_count": 2,
   "metadata": {},
   "outputs": [
    {
     "name": "stderr",
     "output_type": "stream",
     "text": [
      "/home/kevinteng/anaconda3/lib/python3.6/site-packages/tensorboard/compat/tensorflow_stub/dtypes.py:541: FutureWarning: Passing (type, 1) or '1type' as a synonym of type is deprecated; in a future version of numpy, it will be understood as (type, (1,)) / '(1,)type'.\n",
      "  _np_qint8 = np.dtype([(\"qint8\", np.int8, 1)])\n",
      "/home/kevinteng/anaconda3/lib/python3.6/site-packages/tensorboard/compat/tensorflow_stub/dtypes.py:542: FutureWarning: Passing (type, 1) or '1type' as a synonym of type is deprecated; in a future version of numpy, it will be understood as (type, (1,)) / '(1,)type'.\n",
      "  _np_quint8 = np.dtype([(\"quint8\", np.uint8, 1)])\n",
      "/home/kevinteng/anaconda3/lib/python3.6/site-packages/tensorboard/compat/tensorflow_stub/dtypes.py:543: FutureWarning: Passing (type, 1) or '1type' as a synonym of type is deprecated; in a future version of numpy, it will be understood as (type, (1,)) / '(1,)type'.\n",
      "  _np_qint16 = np.dtype([(\"qint16\", np.int16, 1)])\n",
      "/home/kevinteng/anaconda3/lib/python3.6/site-packages/tensorboard/compat/tensorflow_stub/dtypes.py:544: FutureWarning: Passing (type, 1) or '1type' as a synonym of type is deprecated; in a future version of numpy, it will be understood as (type, (1,)) / '(1,)type'.\n",
      "  _np_quint16 = np.dtype([(\"quint16\", np.uint16, 1)])\n",
      "/home/kevinteng/anaconda3/lib/python3.6/site-packages/tensorboard/compat/tensorflow_stub/dtypes.py:545: FutureWarning: Passing (type, 1) or '1type' as a synonym of type is deprecated; in a future version of numpy, it will be understood as (type, (1,)) / '(1,)type'.\n",
      "  _np_qint32 = np.dtype([(\"qint32\", np.int32, 1)])\n",
      "/home/kevinteng/anaconda3/lib/python3.6/site-packages/tensorboard/compat/tensorflow_stub/dtypes.py:550: FutureWarning: Passing (type, 1) or '1type' as a synonym of type is deprecated; in a future version of numpy, it will be understood as (type, (1,)) / '(1,)type'.\n",
      "  np_resource = np.dtype([(\"resource\", np.ubyte, 1)])\n"
     ]
    }
   ],
   "source": [
    "import os\n",
    "import sys\n",
    "sys.path.append('/home/kevinteng/Desktop/DE_Project')\n",
    "import numpy as np\n",
    "import matplotlib.pyplot as plt\n",
    "%matplotlib inline\n",
    "import tensorflow as tf\n",
    "from coord_conv import CoordConv\n",
    "import cv2\n",
    "import utils\n",
    "import utils_vis\n",
    "import utils_model\n",
    "from sklearn.model_selection import train_test_split\n",
    "from utils_vis import plot_comparison\n",
    "from matplotlib.colors import LinearSegmentedColormap, BoundaryNorm\n",
    "from random import randint, seed\n",
    "from utils import stack4plot, similarity_multi, similarity_multiplication\n",
    "from utils_vis import overlapMasks, overlapMasks02"
   ]
  },
  {
   "cell_type": "code",
   "execution_count": 28,
   "metadata": {},
   "outputs": [],
   "source": [
    "one_hot_image = np.load(\"/home/kevinteng/Desktop/npy/fullSess04/sim_one_fullSess04/one_hot/one_last_DG13_3-8-17_preprocessed_dF_fullSess04.npy\")\n",
    "sim_scores = np.load(\"/home/kevinteng/Desktop/npy/fullSess04/sim_one_fullSess04/sim_last/sim_last_DG13_3-8-17_preprocessed_dF_fullSess04.npy\")"
   ]
  },
  {
   "cell_type": "code",
   "execution_count": 17,
   "metadata": {},
   "outputs": [],
   "source": [
    "batch_list = []\n",
    "for batch in range(len(one_hot_image)):\n",
    "    coord_list = []\n",
    "    for n in range(len(one_hot_image[0])):\n",
    "        one_im = np.squeeze(one_hot_image[batch,n])\n",
    "        coords = np.array(np.where(one_im==np.max(one_im)))\n",
    "        coords = coords.reshape((2))\n",
    "        coord_list.append(coords)\n",
    "    batch_list.append(np.array(coord_list))"
   ]
  },
  {
   "cell_type": "code",
   "execution_count": 31,
   "metadata": {},
   "outputs": [],
   "source": [
    "one_hot_coords = np.array(batch_list)/99 #normalize"
   ]
  },
  {
   "cell_type": "code",
   "execution_count": 51,
   "metadata": {},
   "outputs": [
    {
     "data": {
      "text/plain": [
       "(94, 100, 2)"
      ]
     },
     "execution_count": 51,
     "metadata": {},
     "output_type": "execute_result"
    }
   ],
   "source": [
    "one_hot_coords.shape"
   ]
  },
  {
   "cell_type": "code",
   "execution_count": 52,
   "metadata": {},
   "outputs": [],
   "source": [
    "#index where there are coordinates at the border for first one_hot_coords\n",
    "inps_coords = one_hot_coords[0]\n",
    "idx_boarder = np.array(np.where((inps_coords==1.0) ^ (inps_coords==0.0))).T"
   ]
  },
  {
   "cell_type": "code",
   "execution_count": 57,
   "metadata": {
    "scrolled": true
   },
   "outputs": [
    {
     "name": "stdout",
     "output_type": "stream",
     "text": [
      "Shape:  (40, 2)\n",
      "[[ 1  0]\n",
      " [ 7  1]\n",
      " [ 9  1]\n",
      " [12  0]\n",
      " [12  1]\n",
      " [14  0]\n",
      " [21  0]\n",
      " [21  1]\n",
      " [23  0]\n",
      " [23  1]\n",
      " [26  0]\n",
      " [31  0]\n",
      " [33  1]\n",
      " [35  0]\n",
      " [35  1]\n",
      " [36  0]\n",
      " [39  0]\n",
      " [41  1]\n",
      " [48  0]\n",
      " [48  1]\n",
      " [49  0]\n",
      " [52  0]\n",
      " [52  1]\n",
      " [53  0]\n",
      " [59  0]\n",
      " [59  1]\n",
      " [60  0]\n",
      " [60  1]\n",
      " [61  1]\n",
      " [62  0]\n",
      " [62  1]\n",
      " [68  0]\n",
      " [71  0]\n",
      " [71  1]\n",
      " [74  0]\n",
      " [74  1]\n",
      " [78  0]\n",
      " [78  1]\n",
      " [81  0]\n",
      " [82  0]]\n"
     ]
    }
   ],
   "source": [
    "print(\"Shape: \",idx_boarder.shape)\n",
    "print(idx_boarder)"
   ]
  },
  {
   "cell_type": "code",
   "execution_count": null,
   "metadata": {},
   "outputs": [],
   "source": [
    "#compute latent space\n",
    "latent_space = np.concatenate "
   ]
  }
 ],
 "metadata": {
  "kernelspec": {
   "display_name": "Python 3",
   "language": "python",
   "name": "python3"
  },
  "language_info": {
   "codemirror_mode": {
    "name": "ipython",
    "version": 3
   },
   "file_extension": ".py",
   "mimetype": "text/x-python",
   "name": "python",
   "nbconvert_exporter": "python",
   "pygments_lexer": "ipython3",
   "version": "3.6.6"
  }
 },
 "nbformat": 4,
 "nbformat_minor": 2
}
