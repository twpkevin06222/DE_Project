{
 "cells": [
  {
   "cell_type": "code",
   "execution_count": 1,
   "metadata": {},
   "outputs": [
    {
     "name": "stderr",
     "output_type": "stream",
     "text": [
      "/home/kevinteng/anaconda3/lib/python3.6/site-packages/tensorboard/compat/tensorflow_stub/dtypes.py:541: FutureWarning: Passing (type, 1) or '1type' as a synonym of type is deprecated; in a future version of numpy, it will be understood as (type, (1,)) / '(1,)type'.\n",
      "  _np_qint8 = np.dtype([(\"qint8\", np.int8, 1)])\n",
      "/home/kevinteng/anaconda3/lib/python3.6/site-packages/tensorboard/compat/tensorflow_stub/dtypes.py:542: FutureWarning: Passing (type, 1) or '1type' as a synonym of type is deprecated; in a future version of numpy, it will be understood as (type, (1,)) / '(1,)type'.\n",
      "  _np_quint8 = np.dtype([(\"quint8\", np.uint8, 1)])\n",
      "/home/kevinteng/anaconda3/lib/python3.6/site-packages/tensorboard/compat/tensorflow_stub/dtypes.py:543: FutureWarning: Passing (type, 1) or '1type' as a synonym of type is deprecated; in a future version of numpy, it will be understood as (type, (1,)) / '(1,)type'.\n",
      "  _np_qint16 = np.dtype([(\"qint16\", np.int16, 1)])\n",
      "/home/kevinteng/anaconda3/lib/python3.6/site-packages/tensorboard/compat/tensorflow_stub/dtypes.py:544: FutureWarning: Passing (type, 1) or '1type' as a synonym of type is deprecated; in a future version of numpy, it will be understood as (type, (1,)) / '(1,)type'.\n",
      "  _np_quint16 = np.dtype([(\"quint16\", np.uint16, 1)])\n",
      "/home/kevinteng/anaconda3/lib/python3.6/site-packages/tensorboard/compat/tensorflow_stub/dtypes.py:545: FutureWarning: Passing (type, 1) or '1type' as a synonym of type is deprecated; in a future version of numpy, it will be understood as (type, (1,)) / '(1,)type'.\n",
      "  _np_qint32 = np.dtype([(\"qint32\", np.int32, 1)])\n",
      "/home/kevinteng/anaconda3/lib/python3.6/site-packages/tensorboard/compat/tensorflow_stub/dtypes.py:550: FutureWarning: Passing (type, 1) or '1type' as a synonym of type is deprecated; in a future version of numpy, it will be understood as (type, (1,)) / '(1,)type'.\n",
      "  np_resource = np.dtype([(\"resource\", np.ubyte, 1)])\n"
     ]
    }
   ],
   "source": [
    "import os\n",
    "import sys\n",
    "sys.path.append('/home/kevinteng/Desktop/DE_Project')\n",
    "import numpy as np\n",
    "import matplotlib.pyplot as plt\n",
    "%matplotlib inline\n",
    "import tensorflow as tf\n",
    "from coord_conv import CoordConv\n",
    "import cv2\n",
    "import utils\n",
    "import utils_vis\n",
    "import utils_model\n",
    "from sklearn.model_selection import train_test_split"
   ]
  },
  {
   "cell_type": "markdown",
   "metadata": {},
   "source": [
    "---------------------"
   ]
  },
  {
   "cell_type": "markdown",
   "metadata": {},
   "source": [
    "# Retrieving and Preprocess Data"
   ]
  },
  {
   "cell_type": "code",
   "execution_count": 2,
   "metadata": {
    "scrolled": false
   },
   "outputs": [
    {
     "name": "stdout",
     "output_type": "stream",
     "text": [
      "Image size:  100\n"
     ]
    },
    {
     "data": {
      "image/png": "[encoded data removed]",
      "text/plain": [
       "<Figure size 432x288 with 1 Axes>"
      ]
     },
     "metadata": {},
     "output_type": "display_data"
    }
   ],
   "source": [
    "dataset = np.load('/home/kevinteng/Desktop//jpg_to_npy_benchmark/DG13_3-8-17_preprocessed_dF.npy')\n",
    "NEW_SIZE = 100\n",
    "#re_list = dataset\n",
    "re_list = utils.resize(dataset, NEW_SIZE)\n",
    "IMG_SIZE = re_list.shape[1]\n",
    "\n",
    "print('Image size: ', IMG_SIZE)\n",
    "#Dimension for network should include the color channel \n",
    "re_list = np.expand_dims(re_list, axis = -1)\n",
    "#Cast data type to float32 for TensorFlow\n",
    "# re_list = re_list.astype('float32')\n",
    "re_list = tf.convert_to_tensor(re_list, dtype = tf.float32)\n",
    "\n",
    "for img in re_list:\n",
    "    plt.imshow(np.reshape(img, (IMG_SIZE, IMG_SIZE)), cmap = 'gray')\n",
    "    plt.show()\n",
    "    \n",
    "    break\n",
    "    \n",
    "#     if input()=='exit':\n",
    "#         break"
   ]
  },
  {
   "cell_type": "code",
   "execution_count": 3,
   "metadata": {
    "scrolled": true
   },
   "outputs": [
    {
     "name": "stdout",
     "output_type": "stream",
     "text": [
      "Max value: 1.0\n",
      "Min value: 0.0\n"
     ]
    }
   ],
   "source": [
    "#apply min max norm for mean image\n",
    "re_list = utils.min_max_norm(re_list)\n",
    "#max_img_ori = np.expand_dims(max_img_ori, -1)\n",
    "print('Max value:', np.max(re_list))\n",
    "print('Min value:', np.min(re_list))\n"
   ]
  },
  {
   "cell_type": "code",
   "execution_count": 4,
   "metadata": {},
   "outputs": [
    {
     "data": {
      "image/png": "[encoded data removed]",
      "text/plain": [
       "<Figure size 432x288 with 1 Axes>"
      ]
     },
     "metadata": {},
     "output_type": "display_data"
    }
   ],
   "source": [
    "#plot historgram for min max norm image\n",
    "plt.hist(tf.reshape(re_list, [-1]),20,[0,1])\n",
    "plt.xlabel('Pixel Value')\n",
    "plt.ylabel('Frequency')\n",
    "plt.show()"
   ]
  },
  {
   "cell_type": "markdown",
   "metadata": {},
   "source": [
    "----------------------------------------------------------\n"
   ]
  },
  {
   "cell_type": "markdown",
   "metadata": {},
   "source": [
    "# Helper Function"
   ]
  },
  {
   "cell_type": "code",
   "execution_count": 5,
   "metadata": {},
   "outputs": [],
   "source": [
    "def create_ran_numbers(img_size):\n",
    "    '''\n",
    "    Function to create random coordinates \n",
    "    \n",
    "    @param img_size: Image size \n",
    "    \n",
    "    return:\n",
    "    random generated x,y coordinates \n",
    "    '''\n",
    "    c1=np.random.randint(img_size, size=1)\n",
    "    c2=np.random.randint(img_size, size=1)\n",
    "    c1=tf.convert_to_tensor( c1,dtype=None,dtype_hint=None,name=None)\n",
    "    c2=tf.convert_to_tensor( c2,dtype=None,dtype_hint=None,name=None)\n",
    "    return c1,c2\n",
    "\n",
    "@tf.function\n",
    "def create_tf_tilecords(coord_list, img_size):\n",
    "    o1,o2=coord_list\n",
    "    multiply=tf.constant([img_size*img_size])\n",
    "    y1=tf.reshape(tf.tile(o1,multiply),[img_size,img_size,1])\n",
    "    y2=tf.reshape(tf.tile(o2,multiply),[img_size,img_size,1])\n",
    "\n",
    "    y=tf.concat((y1,y2),axis=2)\n",
    "\n",
    "    return tf.dtypes.cast(y, tf.float32),tf.dtypes.cast(coord_list, tf.float32)\n",
    "\n",
    "@tf.function\n",
    "def tf_create_onehotcords(dat):\n",
    "    o1,o2=dat\n",
    "    y1=tf.one_hot(o1,100)\n",
    "    y2=tf.one_hot(o2,100)\n",
    "    y2=tf.transpose(y2)\n",
    "    y=tf.math.multiply(y1,y2)\n",
    "    #y=tf.transpose(y)\n",
    "    return y\n",
    "\n",
    "def create_dat_samples(n):\n",
    "    '''\n",
    "    Function to create stacks of coordinates, tiled coordinates, one hot images\n",
    "    @param n: number of neurons\n",
    "    '''\n",
    "    ta = tf.TensorArray(tf.float32, size=0, dynamic_size=True)\n",
    "    tb = tf.TensorArray(tf.float32, size=0, dynamic_size=True)\n",
    "    coords = tf.TensorArray(tf.float32, size=0, dynamic_size = True)\n",
    "    for _ in tf.range(n):\n",
    "        dat=create_ran_numbers(img_size=100)\n",
    "        b1,b2=create_tf_tilecords(dat, 100)\n",
    "        c1=tf_create_onehotcords(dat)\n",
    "        c1=tf.expand_dims(c1, axis=2, name=None)\n",
    "        \n",
    "        #tile coordinates\n",
    "        ta = ta.write(_, b1/99)  #(n, img_size, img_size, 1)\n",
    "        #one hot images\n",
    "        tb = tb.write(_, c1) #(n, img_size, img_size, 1)\n",
    "        #coordinates\n",
    "        coords = coords.write(_, dat) #(n, 2, 1)\n",
    "    return coords.stack(), ta.stack(),tb.stack()\n",
    "\n",
    "def neuron_like_image(n_neurons):\n",
    "    '''\n",
    "    Function to paint neuron-like images\n",
    "     @param n_neurons: number of neurons\n",
    "    '''\n",
    "    _,_,one_hot_imgs = create_dat_samples(n_neurons)\n",
    "    stack_imgs = tf.reduce_sum(one_hot_imgs, axis = 0)\n",
    "    return tf.expand_dims(stack_imgs, axis = 0) #(1, img_size, img_size, 1)\n",
    "\n",
    "def stack4plot(one_hot_imgs):\n",
    "    '''\n",
    "    Functions to sum all one hot images along axis=0 for easy plot\n",
    "    '''\n",
    "    return tf.squeeze(tf.reduce_sum(one_hot_imgs, axis = 0))"
   ]
  },
  {
   "cell_type": "markdown",
   "metadata": {},
   "source": [
    "---"
   ]
  },
  {
   "cell_type": "markdown",
   "metadata": {},
   "source": [
    "# Validation"
   ]
  },
  {
   "cell_type": "code",
   "execution_count": 6,
   "metadata": {
    "scrolled": true
   },
   "outputs": [
    {
     "name": "stdout",
     "output_type": "stream",
     "text": [
      "[40 1 1 2]\n"
     ]
    }
   ],
   "source": [
    "n_neurons = 40\n",
    "img_size = 100\n",
    "coords,_, ori_one_hot_imgs = create_dat_samples(n_neurons)\n",
    "coords = tf.reshape(coords, [n_neurons, 1,1,2])\n",
    "tf.print(tf.shape(coords))"
   ]
  },
  {
   "cell_type": "code",
   "execution_count": 7,
   "metadata": {
    "scrolled": true
   },
   "outputs": [
    {
     "data": {
      "text/plain": [
       "<matplotlib.image.AxesImage at 0x7f1fb2c6e748>"
      ]
     },
     "execution_count": 7,
     "metadata": {},
     "output_type": "execute_result"
    },
    {
     "data": {
      "image/png": "[encoded data removed]",
      "text/plain": [
       "<Figure size 432x288 with 1 Axes>"
      ]
     },
     "metadata": {},
     "output_type": "display_data"
    }
   ],
   "source": [
    "plt.imshow(tf.squeeze(ori_one_hot_imgs[0]), cmap = 'gray')"
   ]
  },
  {
   "cell_type": "markdown",
   "metadata": {},
   "source": [
    "-----------------------------------"
   ]
  },
  {
   "cell_type": "markdown",
   "metadata": {},
   "source": [
    "# Model"
   ]
  },
  {
   "cell_type": "code",
   "execution_count": 8,
   "metadata": {},
   "outputs": [
    {
     "ename": "SyntaxError",
     "evalue": "'return' outside function (<ipython-input-8-86879ca50a29>, line 125)",
     "output_type": "error",
     "traceback": [
      "\u001b[0;36m  File \u001b[0;32m\"<ipython-input-8-86879ca50a29>\"\u001b[0;36m, line \u001b[0;32m125\u001b[0m\n\u001b[0;31m    return y\u001b[0m\n\u001b[0m    ^\u001b[0m\n\u001b[0;31mSyntaxError\u001b[0m\u001b[0;31m:\u001b[0m 'return' outside function\n"
     ]
    }
   ],
   "source": [
    "from tensorflow.keras import Model, Sequential\n",
    "from tensorflow.keras.layers import Conv2D, Dense, Flatten, Reshape, MaxPooling2D, UpSampling2D\n",
    "from tensorflow.keras.layers import InputLayer, Conv2DTranspose, Activation, BatchNormalization\n",
    "from tensorflow.keras.layers import Input, Softmax\n",
    "from tensorflow.keras.regularizers import l1\n",
    "from utils_model import conv_block, coordconv_block, up_block, up_coord_block\n",
    "from tensorflow.keras import layers\n",
    "\n",
    "def encoder(inps, img_size):\n",
    "    #1st block\n",
    "    coord01 = CoordConv(x_dim = img_size, y_dim = img_size, with_r = False, \n",
    "                        filters = 32, kernel_size = 3, padding='same')(inps)\n",
    "    leaky01 =tf.keras.layers.LeakyReLU(0.5)(coord01)\n",
    "    coord02 = CoordConv(x_dim = img_size, y_dim = img_size, with_r = False, \n",
    "                        filters = 1, kernel_size = 3, padding='same')(leaky01)\n",
    "    leaky02 = tf.keras.layers.LeakyReLU(0.5)(coord02)\n",
    "    add01 = tf.keras.layers.Add()([leaky02, inps])\n",
    "    \n",
    "    #2nd block\n",
    "    coord03 =  CoordConv(x_dim = img_size, y_dim = img_size, with_r = False, \n",
    "                      filters = 128, kernel_size = 3, padding='same')(add01)\n",
    "    leaky03 = tf.keras.layers.LeakyReLU(0.5)(coord03)\n",
    "    coord04 = CoordConv(x_dim = img_size, y_dim = img_size, with_r = False, \n",
    "                 filters = 1, kernel_size = 3, padding='same')(leaky03)\n",
    "    leaky04 = tf.keras.layers.LeakyReLU(0.5)(coord04)\n",
    "    add02 = tf.keras.layers.Add()([leaky04, add01])\n",
    "    \n",
    "    #3rd block\n",
    "    coord05 = CoordConv(x_dim = img_size, y_dim = img_size, with_r = False, \n",
    "                    filters = 256, kernel_size = 3, padding='same')(add02)\n",
    "    leaky05 = tf.keras.layers.LeakyReLU(0.5)(coord05)\n",
    "    coord06 = CoordConv(x_dim = img_size, y_dim = img_size, with_r = False, \n",
    "                        filters = 1, kernel_size = 3, padding='same')(leaky05)\n",
    "    leaky06 = tf.keras.layers.LeakyReLU(0.5)(coord06)\n",
    "    add03 = tf.keras.layers.Add()([leaky06, add02])\n",
    "\n",
    "    #4th block\n",
    "    coord07 =CoordConv(x_dim = img_size, y_dim = img_size, with_r = False, \n",
    "                       filters = 128, kernel_size = 3, padding='same')(add03)\n",
    "    leaky07 = tf.keras.layers.LeakyReLU(0.5)(coord07)\n",
    "    coord08 = CoordConv(x_dim = img_size, y_dim = img_size, with_r = False, \n",
    "                 filters = 1, kernel_size = 3, padding='same')(leaky07)\n",
    "    leaky08 = tf.keras.layers.LeakyReLU(0.5)(coord08)\n",
    "    add04 =tf.keras.layers.Add()([leaky08, add03])\n",
    "    \n",
    "    #5th block\n",
    "    coord09 =CoordConv(x_dim = img_size, y_dim = img_size, with_r = False, \n",
    "                       filters = 64, kernel_size = 3, padding='same')(add04)\n",
    "    leaky09 = tf.keras.layers.LeakyReLU(0.5)(coord09)\n",
    "    coord10=CoordConv(x_dim = img_size, y_dim = img_size, with_r = False, \n",
    "                 filters = 1, kernel_size = 3, padding='same')(leaky09)\n",
    "    leaky10 = tf.keras.layers.LeakyReLU(0.5)(coord10)\n",
    "    add05 = tf.keras.layers.Add()([leaky10, add04])\n",
    "    \n",
    "    #6th block\n",
    "    coord11 = CoordConv(x_dim = img_size, y_dim = img_size, with_r = False, \n",
    "                    filters = 32, kernel_size = 3, padding='same')(add05)\n",
    "    leaky11 = tf.keras.layers.LeakyReLU(0.5)(coord11)\n",
    "    coord12 = CoordConv(x_dim = img_size, y_dim = img_size, with_r = False, \n",
    "                 filters = 1, kernel_size = 3, padding='same')(leaky11)\n",
    "    leaky12 = tf.keras.layers.LeakyReLU(0.5)(coord12)\n",
    "    add06 = tf.keras.layers.Add()([leaky12, coord11])\n",
    "    output = Conv2D(1, kernel_size = 3,activation = 'linear', padding='same')(add06)\n",
    "    \n",
    "    return output\n",
    "\n",
    "\n",
    "def de_conv(input_tensor):\n",
    "    coord01 = CoordConv(x_dim = 100, y_dim = 100, with_r = False, filters = 100,\n",
    "              kernel_size = 1, padding='same', activation='relu')(input_tensor)\n",
    "    conv01 = Conv2D(filters = 50, kernel_size = 1, strides = 1, padding = \"same\", activation = 'relu')(coord01)\n",
    "    conv02 = Conv2D(filters = 50, kernel_size = 1, strides = 1, padding = \"same\", activation = 'relu')(conv01)\n",
    "    conv03 = Conv2D(filters = 100, kernel_size = 1, strides = 1, padding = \"same\", activation = 'relu')(conv02)\n",
    "    conv04 = Conv2D(filters = 100, kernel_size = 1, strides = 1, padding = \"same\", activation = 'relu')(conv03)\n",
    "    conv05 = Conv2D(filters = 1, kernel_size = 1, strides = 1, padding = \"same\" )(conv04)\n",
    "    f1 = Flatten()(conv05)\n",
    "    output = Softmax(axis = -1)(f1)\n",
    "\n",
    "    return output\n",
    "\n",
    "def latent_space(encoded_imgs, deconv_imgs, coords, batch_size):\n",
    "    '''\n",
    "    This function construct the dot product of the output of an encoder(batch_size, img_size, img_size, 1) \n",
    "    with the one hot images generated by decoord-conv(n_neurons, img_size, img_size, 1), which yields\n",
    "    similarity score (batch_size, n_neurons). Similarity score is then concatenate to the last layer of the \n",
    "    input coordinates with the corresponding batch (batch_size, n_neurons, 3)\n",
    "    \n",
    "    @encoded_imgs: output images from the encoder\n",
    "    @deconv_imgs: one hot images generated from the coordinate list \n",
    "    @coords: A list of coordinates generated randomly based on the number of neurons\n",
    "    @batch_size: Batch size of the input image for encoder, to allocate size for writing in loop\n",
    "    \n",
    "    return: \n",
    "        latent space with dim (batch_size, n_neurons, 3, 1)\n",
    "    '''\n",
    "    similarity_score = tf.tensordot(encoded_imgs, deconv_imgs, [[1,2,3],[1,2,3]]) #(batch_size, n_neurons)\n",
    "    squeeze_coords = tf.squeeze(coords/(img_size-1)) #coords dim (n_neurons, 1, 1, 2) = > (n_neurons, 2)\n",
    "    latent = tf.TensorArray(tf.float32, size=0, dynamic_size=True)\n",
    "    for i in tf.range(batch_size):\n",
    "        concat = tf.stack((squeeze_coords[:,-2], squeeze_coords[:,-1], similarity_score[i]), axis=-1)    \n",
    "        latent = latent.write(i, concat) #(batch_size, n_neurons, 3)\n",
    "    return tf.expand_dims(latent.stack(), axis = -1), similarity_score\n",
    "\n",
    "def decoder(latent_dim, img_size):\n",
    "    flat_01 = Flatten()(latent_dim)\n",
    "    dense_01 = Dense(25*25*32, activation = 'relu')(flat_01)\n",
    "    dense_01 = Reshape((25,25,32))(dense_01)\n",
    "    up_01 = up_block(dense_01, up_size = 2, filters = 32, kernel_size = 3,\n",
    "                            strides = 1, padding = 'same', activation = 'relu')\n",
    "    up_02 = up_block(up_01, up_size = 2, filters = 64, kernel_size = 3,\n",
    "                            strides = 1, padding = 'same', activation = 'relu')\n",
    "    output = coordconv_block(up_02, x_dim = img_size, y_dim = img_size, \n",
    "                              filters = 1, kernel_size = 3, strides = 1,\n",
    "                              padding = 'same', activation = None)\n",
    "    return output\n",
    "\n",
    "class learnable_coords(layers.Layer):\n",
    "    def __init__(self, coords):\n",
    "        super(learnable_coords, self).__init__()\n",
    "        self.learned_coords = tf.Variable((coords), trainable = True)\n",
    "\n",
    "    def __call__(self, img_size):\n",
    "        y = self.learned_coords/(img_size-1) #normalize the coordinates\n",
    "    #         y = tf.clip_by_value(y, clip_value_min=0, clip_value_max=1) #clip values\n",
    "        return y\n",
    "    \n",
    "def dataset_parse(dataset_path, NEW_SIZE):\n",
    "    dataset = np.load(dataset_path)\n",
    "    #re_list = dataset\n",
    "    re_list = utils.resize(dataset, NEW_SIZE)\n",
    "    #Dimension for network should include the color channel \n",
    "    re_list = np.expand_dims(re_list, axis = -1)\n",
    "    #Cast data type to float32 for TensorFlow\n",
    "    # re_list = re_list.astype('float32')\n",
    "    re_list = tf.convert_to_tensor(re_list, dtype = tf.float32)\n",
    "    \n",
    "    return re_list\n",
    "\n",
    "def stack4plot(one_hot_imgs):\n",
    "    '''\n",
    "    Functions to sum all one hot images along axis=0 for easy plot\n",
    "    '''\n",
    "    return tf.squeeze(tf.reduce_sum(one_hot_imgs, axis = 0))"
   ]
  },
  {
   "cell_type": "code",
   "execution_count": null,
   "metadata": {},
   "outputs": [],
   "source": [
    "# def encoder02(inps, img_size):\n",
    "#     #1st block\n",
    "#     coord01 = CoordConv(x_dim = img_size, y_dim = img_size, with_r = False, \n",
    "#                         filters = 256, kernel_size = 3, padding='same')(inps)\n",
    "#     leaky01 =tf.keras.layers.LeakyReLU(0.5)(coord01)\n",
    "#     conv01 = Conv2D(filters = 128, kernel_size = 3, strides = 1, padding = \"same\", activation = 'relu')(leaky01 )\n",
    "#     leaky02 = tf.keras.layers.LeakyReLU(0.5)(conv01)\n",
    "#     output = Conv2D(1, kernel_size = 3,activation = 'linear', padding='same')(leaky02 )\n",
    "#     return output"
   ]
  },
  {
   "cell_type": "markdown",
   "metadata": {},
   "source": [
    "-----------------------------------------------------------------"
   ]
  },
  {
   "cell_type": "markdown",
   "metadata": {},
   "source": [
    "## Build Model"
   ]
  },
  {
   "cell_type": "code",
   "execution_count": null,
   "metadata": {
    "scrolled": true
   },
   "outputs": [],
   "source": [
    "#build encoder \n",
    "inps = Input(shape=(img_size, img_size, 1))\n",
    "encoder_model = Model(inps, encoder(inps, img_size))\n",
    "\n",
    "#build coord model\n",
    "inp = Input(shape=(100, 100,2)) #(batch_size, img_size, img_size, 2)\n",
    "de_coordconv = Model(inp, de_conv(inp))\n",
    "de_coordconv.load_weights(\"best_class_model100_02.hdf5\")\n",
    "\n",
    "#decoder\n",
    "latent_dim = Input(shape=(n_neurons, 3, 1))\n",
    "decoder_model = Model(latent_dim, decoder(latent_dim, img_size))\n",
    "\n",
    "#learnable coords\n",
    "l_coords = learnable_coords(coords)"
   ]
  },
  {
   "cell_type": "code",
   "execution_count": null,
   "metadata": {},
   "outputs": [],
   "source": [
    "# encoder_model.summary()"
   ]
  },
  {
   "cell_type": "markdown",
   "metadata": {},
   "source": [
    "## Train Model"
   ]
  },
  {
   "cell_type": "markdown",
   "metadata": {},
   "source": [
    "--------------------------------------"
   ]
  },
  {
   "cell_type": "code",
   "execution_count": null,
   "metadata": {
    "scrolled": true
   },
   "outputs": [],
   "source": [
    "lr=0.001\n",
    "opt = tf.keras.optimizers.Adam(lr)\n",
    "loss_fn = tf.losses.MeanSquaredError()\n",
    "\n",
    "@tf.function\n",
    "def train_fn(inp_imgs, coords, img_size, batch_size):\n",
    "    with tf.GradientTape() as tape:\n",
    "        #custom layer for updating coordinates\n",
    "        updated_coords = l_coords(img_size)\n",
    "        m1 = tf.constant([1,img_size,img_size,1], tf.int32) #multiplier for tiling \n",
    "        #tile coordinates\n",
    "        tile_cd = tf.tile(updated_coords, m1)\n",
    "        #de-coordconv model\n",
    "        de_coordconv.trainable = False #freeze de-coordconv\n",
    "        one_hot_imgs = tf.reshape(de_coordconv(tile_cd),[-1,img_size, img_size, 1]) #(n_neurons, img_size, img_size, 1)\n",
    "        #output from encoder \n",
    "        encoder_output = encoder_model(inp_imgs)\n",
    "        #latent space\n",
    "        latent, similarity_score = latent_space(encoder_output, one_hot_imgs, coords, batch_size)#(batch_size, n_neurons, 3, 1)\n",
    "        #reconstruction \n",
    "        reconstruction = decoder_model(latent)\n",
    "        loss = loss_fn(inp_imgs, reconstruction)\n",
    "        \n",
    "    varis = encoder_model.trainable_variables + decoder_model.trainable_variables + l_coords.trainable_variables\n",
    "    grad_model = tape.gradient(loss, varis)\n",
    "#     grad_coords = tape.gradient(loss, l_coords.trainable_variables)\n",
    "    opt.apply_gradients(zip(grad_model, varis))\n",
    "#     opt.apply_gradients(zip(grad_coords, l_coords.trainable_variables))\n",
    "    \n",
    "    return loss, updated_coords, one_hot_imgs, encoder_output, similarity_score, reconstruction, grad_model "
   ]
  },
  {
   "cell_type": "code",
   "execution_count": null,
   "metadata": {},
   "outputs": [],
   "source": [
    "# ds_dir = '/home/kevinteng/Desktop/jpg_to_npy_benchmark/'\n",
    "\n",
    "# for d in sorted(os.listdir(ds_dir)):\n",
    "#     merge_d = os.path.join(ds_dir+d)\n",
    "#     imgs = dataset_parse(merge_d, 100)\n",
    "#     break"
   ]
  },
  {
   "cell_type": "code",
   "execution_count": null,
   "metadata": {
    "scrolled": true
   },
   "outputs": [],
   "source": [
    "from utils_vis import plot_comparison\n",
    "\n",
    "BATCH_SIZE = 8\n",
    "MAX_EPOCHS = 500\n",
    "batch_imgs= tf.data.Dataset.from_tensor_slices(re_list).batch(BATCH_SIZE, drop_remainder=True)\n",
    "\n",
    "#list to be append to output \n",
    "loss_list = []\n",
    "input_imgs = []\n",
    "coords_list = []\n",
    "encoded_imgs = []\n",
    "reconstructed_imgs = []\n",
    "one_hot_imgs = []\n",
    "captions_01 = ['Input Image', 'Encoded Image', 'One Hot Images','Reconstructed Image']\n",
    "captions_02 = ['Original Coordinates', 'Updated Coordinates']\n",
    "\n",
    "epochs = 1\n",
    "while epochs <= MAX_EPOCHS:\n",
    "    #reset coords for each epochs\n",
    "#     coords,_, ori_one_hot_imgs = create_dat_samples(n_neurons)\n",
    "#     coords = tf.reshape(coords, [n_neurons, 1,1,2])\n",
    "    for steps, batched_imgs in enumerate(batch_imgs):\n",
    "        loss, updated_coords, one_hot_imgs, encoder_output, similarity_score, reconstruction, grad_model  = train_fn(batched_imgs, coords, img_size, BATCH_SIZE)\n",
    "    loss_list.append(loss)\n",
    "    if epochs%10==0:\n",
    "        img_row01 = [batched_imgs[0], encoder_output[0], stack4plot(one_hot_imgs), reconstruction[0]]\n",
    "        img_row02 = [stack4plot(ori_one_hot_imgs), stack4plot(one_hot_imgs)]\n",
    "        plot_comparison(img_row01, captions_01, n_col=len(img_row01), figsize = (10, 10))\n",
    "        plot_comparison(img_row02, captions_02, n_col=len(img_row02))\n",
    "        print(\"Epochs: {}, Loss: {}\".format(epochs, loss.numpy()))\n",
    "        print(\"Similarity scores: {}\".format(similarity_score[0]))\n",
    "        print(\"Updated Coordinates: {}\".format(updated_coords[0]))\n",
    "        print(\"Gradient min:{}, max:{}\".format(np.min(grad_model[0]), np.max(grad_model[0])))\n",
    "    epochs+=1"
   ]
  }
 ],
 "metadata": {
  "kernelspec": {
   "display_name": "Python 3",
   "language": "python",
   "name": "python3"
  },
  "language_info": {
   "codemirror_mode": {
    "name": "ipython",
    "version": 3
   },
   "file_extension": ".py",
   "mimetype": "text/x-python",
   "name": "python",
   "nbconvert_exporter": "python",
   "pygments_lexer": "ipython3",
   "version": "3.6.6"
  }
 },
 "nbformat": 4,
 "nbformat_minor": 2
}
