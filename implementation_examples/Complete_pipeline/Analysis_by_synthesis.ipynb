{
 "cells": [
  {
   "cell_type": "code",
   "execution_count": 1,
   "metadata": {},
   "outputs": [
    {
     "name": "stderr",
     "output_type": "stream",
     "text": [
      "/home/kevinteng/anaconda3/lib/python3.6/site-packages/tensorboard/compat/tensorflow_stub/dtypes.py:541: FutureWarning: Passing (type, 1) or '1type' as a synonym of type is deprecated; in a future version of numpy, it will be understood as (type, (1,)) / '(1,)type'.\n",
      "  _np_qint8 = np.dtype([(\"qint8\", np.int8, 1)])\n",
      "/home/kevinteng/anaconda3/lib/python3.6/site-packages/tensorboard/compat/tensorflow_stub/dtypes.py:542: FutureWarning: Passing (type, 1) or '1type' as a synonym of type is deprecated; in a future version of numpy, it will be understood as (type, (1,)) / '(1,)type'.\n",
      "  _np_quint8 = np.dtype([(\"quint8\", np.uint8, 1)])\n",
      "/home/kevinteng/anaconda3/lib/python3.6/site-packages/tensorboard/compat/tensorflow_stub/dtypes.py:543: FutureWarning: Passing (type, 1) or '1type' as a synonym of type is deprecated; in a future version of numpy, it will be understood as (type, (1,)) / '(1,)type'.\n",
      "  _np_qint16 = np.dtype([(\"qint16\", np.int16, 1)])\n",
      "/home/kevinteng/anaconda3/lib/python3.6/site-packages/tensorboard/compat/tensorflow_stub/dtypes.py:544: FutureWarning: Passing (type, 1) or '1type' as a synonym of type is deprecated; in a future version of numpy, it will be understood as (type, (1,)) / '(1,)type'.\n",
      "  _np_quint16 = np.dtype([(\"quint16\", np.uint16, 1)])\n",
      "/home/kevinteng/anaconda3/lib/python3.6/site-packages/tensorboard/compat/tensorflow_stub/dtypes.py:545: FutureWarning: Passing (type, 1) or '1type' as a synonym of type is deprecated; in a future version of numpy, it will be understood as (type, (1,)) / '(1,)type'.\n",
      "  _np_qint32 = np.dtype([(\"qint32\", np.int32, 1)])\n",
      "/home/kevinteng/anaconda3/lib/python3.6/site-packages/tensorboard/compat/tensorflow_stub/dtypes.py:550: FutureWarning: Passing (type, 1) or '1type' as a synonym of type is deprecated; in a future version of numpy, it will be understood as (type, (1,)) / '(1,)type'.\n",
      "  np_resource = np.dtype([(\"resource\", np.ubyte, 1)])\n"
     ]
    }
   ],
   "source": [
    "import os\n",
    "import sys\n",
    "sys.path.append('/home/kevinteng/Desktop/DE_Project')\n",
    "import numpy as np\n",
    "import matplotlib.pyplot as plt\n",
    "%matplotlib inline\n",
    "import tensorflow as tf\n",
    "from coord_conv import CoordConv\n",
    "import cv2\n",
    "import utils\n",
    "import utils_vis\n",
    "import utils_model\n",
    "from sklearn.model_selection import train_test_split\n",
    "from utils_vis import plot_comparison\n",
    "from matplotlib.colors import LinearSegmentedColormap, BoundaryNorm\n",
    "from random import randint, seed\n",
    "from utils import stack4plot, similarity_multi, similarity_multiplication\n",
    "from utils_vis import overlapMasks, overlapMasks02"
   ]
  },
  {
   "cell_type": "code",
   "execution_count": 2,
   "metadata": {},
   "outputs": [],
   "source": [
    "one_hot_image = np.load(\"/home/kevinteng/Desktop/npy/fullSess04/sim_one_fullSess04/one_hot/one_last_DG13_3-8-17_preprocessed_dF_fullSess04.npy\")\n",
    "sim_scores = np.load(\"/home/kevinteng/Desktop/npy/fullSess04/sim_one_fullSess04/sim_last/sim_last_DG13_3-8-17_preprocessed_dF_fullSess04.npy\")\n",
    "session = np.load(\"/home/kevinteng/Desktop/jpg_to_npy_benchmark/DG13_3-8-17_preprocessed_dF.npy\")"
   ]
  },
  {
   "cell_type": "code",
   "execution_count": 3,
   "metadata": {},
   "outputs": [],
   "source": [
    "batch_list = []\n",
    "for batch in range(len(one_hot_image)):\n",
    "    coord_list = []\n",
    "    for n in range(len(one_hot_image[0])):\n",
    "        one_im = np.squeeze(one_hot_image[batch,n])\n",
    "        coords = np.array(np.where(one_im==np.max(one_im)))\n",
    "        coords = coords.reshape((2))\n",
    "        coord_list.append(coords)\n",
    "    batch_list.append(np.array(coord_list))"
   ]
  },
  {
   "cell_type": "code",
   "execution_count": 4,
   "metadata": {},
   "outputs": [],
   "source": [
    "one_hot_coords = np.array(batch_list)/99 #normalize"
   ]
  },
  {
   "cell_type": "code",
   "execution_count": 5,
   "metadata": {},
   "outputs": [
    {
     "data": {
      "text/plain": [
       "(94, 100, 2)"
      ]
     },
     "execution_count": 5,
     "metadata": {},
     "output_type": "execute_result"
    }
   ],
   "source": [
    "one_hot_coords.shape"
   ]
  },
  {
   "cell_type": "code",
   "execution_count": 6,
   "metadata": {},
   "outputs": [
    {
     "data": {
      "text/plain": [
       "(752, 100)"
      ]
     },
     "execution_count": 6,
     "metadata": {},
     "output_type": "execute_result"
    }
   ],
   "source": [
    "sim_scores.shape"
   ]
  },
  {
   "cell_type": "code",
   "execution_count": 7,
   "metadata": {},
   "outputs": [],
   "source": [
    "#index where there are coordinates at the border for first one_hot_coords\n",
    "inps_coords = one_hot_coords[0]\n",
    "idx_boarder = np.array(np.where((inps_coords==1.0) ^ (inps_coords==0.0))).T"
   ]
  },
  {
   "cell_type": "code",
   "execution_count": 19,
   "metadata": {},
   "outputs": [],
   "source": [
    "x_coords = inps_coords[:,0]"
   ]
  },
  {
   "cell_type": "code",
   "execution_count": 22,
   "metadata": {},
   "outputs": [],
   "source": [
    "idx_x_coords = np.argsort(x_coords)"
   ]
  },
  {
   "cell_type": "code",
   "execution_count": 23,
   "metadata": {
    "scrolled": true
   },
   "outputs": [
    {
     "name": "stdout",
     "output_type": "stream",
     "text": [
      "[49 48 59 60 62 36 35 71 74 78 52 21 81 14 26  1 12 25 94 57  5 64 41 13\n",
      " 98 87 10 63 33 56 89 15 30 67 93  7  9 27 90 50 76 83 22 32 18 16 46 97\n",
      " 84 69 40 24 80 70 99 77  2 47 79 44 66 61 65 42 28 19 85 45 11 92 88 86\n",
      " 55 51  4  0 75 58 17 20 34  6 38 96 73  8  3 72 95 43 54 37 91 29 68 23\n",
      " 31 53 82 39]\n"
     ]
    }
   ],
   "source": [
    "print(idx_x_coords)"
   ]
  },
  {
   "cell_type": "code",
   "execution_count": 9,
   "metadata": {},
   "outputs": [],
   "source": [
    "#compute latent space\n",
    "latent_space = tf.convert_to_tensor(np.concatenate((inps_coords, sim_scores[0][:,np.newaxis]), axis=-1)) \n",
    "latent_space = latent_space[tf.newaxis,:,:,tf.newaxis]\n",
    "latent_space = tf.cast(latent_space, tf.float32)"
   ]
  },
  {
   "cell_type": "code",
   "execution_count": 25,
   "metadata": {},
   "outputs": [
    {
     "name": "stdout",
     "output_type": "stream",
     "text": [
      "(100, 3)\n"
     ]
    }
   ],
   "source": [
    "latent_sort = np.squeeze(latent_space)\n",
    "print(latent_sort.shape)"
   ]
  },
  {
   "cell_type": "code",
   "execution_count": 26,
   "metadata": {},
   "outputs": [],
   "source": [
    "latent_sort_list = []\n",
    "for idx in idx_x_coords:\n",
    "    latent_sort_list.append(latent_sort[idx])\n",
    "    \n",
    "latent_sort_arr = tf.convert_to_tensor(np.array(latent_sort_list))"
   ]
  },
  {
   "cell_type": "code",
   "execution_count": 27,
   "metadata": {
    "scrolled": true
   },
   "outputs": [
    {
     "data": {
      "text/plain": [
       "<tf.Tensor: shape=(100, 3), dtype=float32, numpy=\n",
       "array([[0.        , 0.67676765, 0.11938927],\n",
       "       [0.        , 1.        , 0.04298714],\n",
       "       [0.        , 1.        , 0.04298714],\n",
       "       [0.        , 0.        , 0.23881657],\n",
       "       [0.        , 1.        , 0.04298714],\n",
       "       [0.        , 0.36363637, 0.29067323],\n",
       "       [0.        , 1.        , 0.04298714],\n",
       "       [0.        , 1.        , 0.04298714],\n",
       "       [0.        , 1.        , 0.04298714],\n",
       "       [0.        , 1.        , 0.04298714],\n",
       "       [0.        , 1.        , 0.04298714],\n",
       "       [0.        , 1.        , 0.04298714],\n",
       "       [0.        , 0.5858586 , 0.17111337],\n",
       "       [0.        , 0.26262626, 0.33987287],\n",
       "       [0.        , 0.16161616, 0.14670347],\n",
       "       [0.        , 0.47474748, 0.1987418 ],\n",
       "       [0.        , 1.        , 0.04298714],\n",
       "       [0.04040404, 0.5252525 , 0.10385565],\n",
       "       [0.06060606, 0.37373737, 0.14189786],\n",
       "       [0.07070707, 0.27272728, 0.15982802],\n",
       "       [0.07070707, 0.6363636 , 0.06567962],\n",
       "       [0.08080808, 0.15151516, 0.1776542 ],\n",
       "       [0.11111111, 1.        , 0.03213198],\n",
       "       [0.11111111, 0.5555556 , 0.10259154],\n",
       "       [0.13131313, 0.37373737, 0.15781592],\n",
       "       [0.13131313, 0.1010101 , 0.08321048],\n",
       "       [0.15151516, 0.3030303 , 0.18924874],\n",
       "       [0.16161616, 0.1919192 , 0.24181378],\n",
       "       [0.16161616, 1.        , 0.04356882],\n",
       "       [0.18181819, 0.43434343, 0.21190615],\n",
       "       [0.18181819, 0.6363636 , 0.145944  ],\n",
       "       [0.21212122, 0.37373737, 0.27810216],\n",
       "       [0.21212122, 0.5252525 , 0.20204291],\n",
       "       [0.22222222, 0.18181819, 0.13453454],\n",
       "       [0.25252524, 0.7070707 , 0.15307976],\n",
       "       [0.27272728, 0.        , 0.44568875],\n",
       "       [0.27272728, 1.        , 0.15662958],\n",
       "       [0.27272728, 0.32323232, 0.23425715],\n",
       "       [0.28282827, 0.47474748, 0.3037007 ],\n",
       "       [0.28282827, 0.56565654, 0.30025822],\n",
       "       [0.2929293 , 0.18181819, 0.27675152],\n",
       "       [0.32323232, 0.37373737, 0.26183724],\n",
       "       [0.33333334, 0.6060606 , 0.52293277],\n",
       "       [0.33333334, 0.75757575, 0.26582962],\n",
       "       [0.34343433, 0.27272728, 0.38837066],\n",
       "       [0.34343433, 0.85858583, 0.3536712 ],\n",
       "       [0.37373737, 0.4848485 , 0.3513246 ],\n",
       "       [0.3939394 , 0.37373737, 0.40883395],\n",
       "       [0.3939394 , 0.18181819, 0.22329736],\n",
       "       [0.4040404 , 0.8888889 , 0.14571111],\n",
       "       [0.42424244, 0.07070707, 0.14844567],\n",
       "       [0.42424244, 0.75757575, 0.11087822],\n",
       "       [0.43434343, 0.5858586 , 0.35204056],\n",
       "       [0.46464646, 0.28282827, 0.31041294],\n",
       "       [0.46464646, 0.1919192 , 0.29600608],\n",
       "       [0.47474748, 0.42424244, 0.49036676],\n",
       "       [0.4949495 , 0.6666667 , 0.24207331],\n",
       "       [0.4949495 , 0.8080808 , 0.09087822],\n",
       "       [0.4949495 , 0.54545456, 0.29365867],\n",
       "       [0.5252525 , 0.28282827, 0.44275993],\n",
       "       [0.53535354, 0.12121212, 0.39153123],\n",
       "       [0.53535354, 0.        , 0.37616888],\n",
       "       [0.54545456, 0.8888889 , 0.05305034],\n",
       "       [0.54545456, 0.5252525 , 0.36110917],\n",
       "       [0.5555556 , 0.44444445, 0.25098982],\n",
       "       [0.5858586 , 0.5858586 , 0.40356013],\n",
       "       [0.5959596 , 0.25252524, 0.48067635],\n",
       "       [0.5959596 , 0.13131313, 0.26555547],\n",
       "       [0.5959596 , 0.67676765, 0.22630326],\n",
       "       [0.6363636 , 0.83838385, 0.4085321 ],\n",
       "       [0.64646465, 0.45454547, 0.42980492],\n",
       "       [0.6666667 , 0.7070707 , 0.2248885 ],\n",
       "       [0.6666667 , 0.6060606 , 0.5045726 ],\n",
       "       [0.6666667 , 0.3030303 , 0.411134  ],\n",
       "       [0.68686867, 0.08080808, 0.20435008],\n",
       "       [0.7070707 , 0.5151515 , 0.29182765],\n",
       "       [0.72727275, 0.7979798 , 0.46312797],\n",
       "       [0.72727275, 0.37373737, 0.4564551 ],\n",
       "       [0.72727275, 0.18181819, 0.34452865],\n",
       "       [0.7373737 , 0.7070707 , 0.38157976],\n",
       "       [0.74747473, 0.9191919 , 0.22273037],\n",
       "       [0.74747473, 0.5959596 , 0.4073072 ],\n",
       "       [0.7676768 , 0.42424244, 0.22447717],\n",
       "       [0.7777778 , 0.24242425, 0.06694594],\n",
       "       [0.7878788 , 0.05050505, 0.24264026],\n",
       "       [0.7979798 , 0.3131313 , 0.5927339 ],\n",
       "       [0.7979798 , 0.6262626 , 0.15343079],\n",
       "       [0.8080808 , 0.4949495 , 0.10545149],\n",
       "       [0.8181818 , 0.75757575, 0.26086432],\n",
       "       [0.82828283, 0.36363637, 0.15154478],\n",
       "       [0.8484849 , 0.24242425, 0.21054868],\n",
       "       [0.85858583, 0.6666667 , 0.506559  ],\n",
       "       [0.85858583, 0.5252525 , 0.39580947],\n",
       "       [0.8787879 , 0.41414142, 0.5465498 ],\n",
       "       [1.        , 0.56565654, 0.35877538],\n",
       "       [1.        , 0.        , 0.2933545 ],\n",
       "       [1.        , 0.32323232, 0.2716382 ],\n",
       "       [1.        , 0.28282827, 0.8792056 ],\n",
       "       [1.        , 0.35353535, 0.3398316 ],\n",
       "       [1.        , 0.5050505 , 0.51011664]], dtype=float32)>"
      ]
     },
     "execution_count": 27,
     "metadata": {},
     "output_type": "execute_result"
    }
   ],
   "source": [
    "latent_sort_arr"
   ]
  },
  {
   "cell_type": "code",
   "execution_count": 28,
   "metadata": {},
   "outputs": [
    {
     "data": {
      "text/plain": [
       "(-0.5, 99.5, 99.5, -0.5)"
      ]
     },
     "execution_count": 28,
     "metadata": {},
     "output_type": "execute_result"
    },
    {
     "data": {
      "image/png": "[encoded data removed]",
      "text/plain": [
       "<Figure size 432x288 with 1 Axes>"
      ]
     },
     "metadata": {},
     "output_type": "display_data"
    }
   ],
   "source": [
    "one_hot_im = np.sum(np.squeeze(one_hot_image[0]), axis = 0)\n",
    "plt.imshow(one_hot_im, cmap = 'gray')\n",
    "plt.axis('off')"
   ]
  },
  {
   "cell_type": "code",
   "execution_count": 12,
   "metadata": {},
   "outputs": [],
   "source": [
    "from tensorflow.keras import Model, Sequential\n",
    "from tensorflow.keras.layers import Conv2D, Dense, Flatten, Reshape, MaxPooling2D, UpSampling2D\n",
    "from tensorflow.keras.layers import InputLayer, Conv2DTranspose, Activation, BatchNormalization\n",
    "from tensorflow.keras.layers import Input, Softmax, Dropout\n",
    "from tensorflow.keras.regularizers import l1\n",
    "from utils_model import conv_block, coordconv_block, up_block, up_coord_block\n",
    "from tensorflow.keras import layers    \n",
    "\n",
    "def decoder(latent_dim):\n",
    "    flat_01 = Flatten()(latent_dim)\n",
    "    dense_01 = Dense(25*25*32, activation = 'relu')(flat_01)\n",
    "    dense_01 = Reshape((25,25,32))(dense_01)\n",
    "    up_01 = up_coord_block(dense_01, up_size = 2, x_dim = 50, y_dim = 50, filters = 64, \n",
    "                           kernel_size = 3, strides = 1, padding = 'same', activation = 'relu')\n",
    "    up_02 = up_block(up_01, up_size = 2, filters = 32, kernel_size = 3,\n",
    "                            strides = 1, padding = 'same', activation = 'relu')\n",
    "    output = Conv2D(filters = 1, kernel_size = 3, strides = 1,\n",
    "                    padding = 'same', activation = None)(up_02)\n",
    "    return output"
   ]
  },
  {
   "cell_type": "code",
   "execution_count": 13,
   "metadata": {},
   "outputs": [],
   "source": [
    "n_neurons = 100\n",
    "#decoder\n",
    "latent_dim = Input(shape=(n_neurons, 3, 1))\n",
    "decoder_model = Model(latent_dim, decoder(latent_dim))\n",
    "decoder_model.load_weights(\"model_weights/decoder_model_{}.h5\".format('fullSess04'))"
   ]
  },
  {
   "cell_type": "code",
   "execution_count": 14,
   "metadata": {},
   "outputs": [],
   "source": [
    "reconstuction = decoder_model(latent_space)"
   ]
  },
  {
   "cell_type": "code",
   "execution_count": 29,
   "metadata": {},
   "outputs": [
    {
     "data": {
      "text/plain": [
       "(-0.5, 99.5, 99.5, -0.5)"
      ]
     },
     "execution_count": 29,
     "metadata": {},
     "output_type": "execute_result"
    },
    {
     "data": {
      "image/png": "[encoded data removed]",
      "text/plain": [
       "<Figure size 432x288 with 1 Axes>"
      ]
     },
     "metadata": {},
     "output_type": "display_data"
    }
   ],
   "source": [
    "#input image\n",
    "re_list = utils.resize(session, 100)\n",
    "re_list = utils.min_max_norm(re_list)\n",
    "\n",
    "plt.imshow(tf.squeeze(re_list[0]), cmap = 'gray')\n",
    "plt.axis('off')"
   ]
  },
  {
   "cell_type": "code",
   "execution_count": 30,
   "metadata": {
    "scrolled": false
   },
   "outputs": [
    {
     "data": {
      "text/plain": [
       "(-0.5, 99.5, 99.5, -0.5)"
      ]
     },
     "execution_count": 30,
     "metadata": {},
     "output_type": "execute_result"
    },
    {
     "data": {
      "image/png": "[encoded data removed]",
      "text/plain": [
       "<Figure size 432x288 with 1 Axes>"
      ]
     },
     "metadata": {},
     "output_type": "display_data"
    }
   ],
   "source": [
    "plt.imshow(tf.squeeze(reconstuction), cmap = 'gray')\n",
    "plt.axis('off')"
   ]
  }
 ],
 "metadata": {
  "kernelspec": {
   "display_name": "Python 3",
   "language": "python",
   "name": "python3"
  },
  "language_info": {
   "codemirror_mode": {
    "name": "ipython",
    "version": 3
   },
   "file_extension": ".py",
   "mimetype": "text/x-python",
   "name": "python",
   "nbconvert_exporter": "python",
   "pygments_lexer": "ipython3",
   "version": "3.6.6"
  }
 },
 "nbformat": 4,
 "nbformat_minor": 2
}
