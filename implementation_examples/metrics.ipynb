{
 "cells": [
  {
   "cell_type": "code",
   "execution_count": 3,
   "metadata": {},
   "outputs": [],
   "source": [
    "import os \n",
    "import sys\n",
    "os.environ[\"CUDA_VISIBLE_DEVICES\"]=\"0\"  # specify which GPU(s) to be used"
   ]
  },
  {
   "cell_type": "code",
   "execution_count": 97,
   "metadata": {},
   "outputs": [],
   "source": [
    "import tensorflow as tf\n",
    "import cv2\n",
    "import numpy as np \n",
    "import matplotlib.pyplot as plt\n",
    "from matplotlib.colors import LinearSegmentedColormap\n",
    "from utils_vis import plot_comparison\n",
    "from matplotlib import colors"
   ]
  },
  {
   "cell_type": "code",
   "execution_count": 5,
   "metadata": {},
   "outputs": [],
   "source": [
    "def create_ran_numbers(img_size):\n",
    "    '''\n",
    "    Function to create random coordinates \n",
    "    \n",
    "    @param img_size: Image size \n",
    "    \n",
    "    return:\n",
    "    random generated x,y coordinates \n",
    "    '''\n",
    "    c1=np.random.randint(img_size, size=1)\n",
    "    c2=np.random.randint(img_size, size=1)\n",
    "    c1=tf.convert_to_tensor( c1,dtype=None,dtype_hint=None,name=None)\n",
    "    c2=tf.convert_to_tensor( c2,dtype=None,dtype_hint=None,name=None)\n",
    "    return c1,c2\n",
    "\n",
    "@tf.function\n",
    "def create_tf_tilecords(coord_list, img_size):\n",
    "    o1,o2=coord_list\n",
    "    multiply=tf.constant([img_size*img_size])\n",
    "    y1=tf.reshape(tf.tile(o1,multiply),[img_size,img_size,1])\n",
    "    y2=tf.reshape(tf.tile(o2,multiply),[img_size,img_size,1])\n",
    "\n",
    "    y=tf.concat((y1,y2),axis=2)\n",
    "\n",
    "    return tf.dtypes.cast(y, tf.float32),tf.dtypes.cast(coord_list, tf.float32)\n",
    "\n",
    "@tf.function\n",
    "def tf_create_onehotcords(dat):\n",
    "    o1,o2=dat\n",
    "    y1=tf.one_hot(o1,100)\n",
    "    y2=tf.one_hot(o2,100)\n",
    "    y2=tf.transpose(y2)\n",
    "    y=tf.math.multiply(y1,y2)\n",
    "    #y=tf.transpose(y)\n",
    "    return y\n",
    "\n",
    "def create_dat_samples(n):\n",
    "    '''\n",
    "    Function to create stacks of coordinates, tiled coordinates, one hot images\n",
    "    @param n: number of neurons\n",
    "    '''\n",
    "    ta = tf.TensorArray(tf.float32, size=0, dynamic_size=True)\n",
    "    tb = tf.TensorArray(tf.float32, size=0, dynamic_size=True)\n",
    "    coords = tf.TensorArray(tf.float32, size=0, dynamic_size = True)\n",
    "    for _ in tf.range(n):\n",
    "        dat=create_ran_numbers(img_size=100)\n",
    "        b1,b2=create_tf_tilecords(dat, 100)\n",
    "        c1=tf_create_onehotcords(dat)\n",
    "        c1=tf.expand_dims(c1, axis=2, name=None)\n",
    "        \n",
    "        #tile coordinates\n",
    "        ta = ta.write(_, b1/99)  #(n, img_size, img_size, 1)\n",
    "        #one hot images\n",
    "        tb = tb.write(_, c1) #(n, img_size, img_size, 1)\n",
    "        #coordinates\n",
    "        coords = coords.write(_, dat) #(n, 2, 1)\n",
    "    return coords.stack(), ta.stack(),tb.stack()\n",
    "\n",
    "def neuron_like_image(n_neurons):\n",
    "    '''\n",
    "    Function to paint neuron-like images\n",
    "     @param n_neurons: number of neurons\n",
    "    '''\n",
    "    _,_,one_hot_imgs = create_dat_samples(n_neurons)\n",
    "    stack_imgs = tf.reduce_sum(one_hot_imgs, axis = 0)\n",
    "    return tf.expand_dims(stack_imgs, axis = 0) #(1, img_size, img_size, 1)\n",
    "\n",
    "def stack4plot(one_hot_imgs):\n",
    "    '''\n",
    "    Functions to sum all one hot images along axis=0 for easy plot\n",
    "    '''\n",
    "    return tf.squeeze(tf.reduce_sum(one_hot_imgs, axis = 0))"
   ]
  },
  {
   "cell_type": "code",
   "execution_count": 6,
   "metadata": {},
   "outputs": [
    {
     "name": "stdout",
     "output_type": "stream",
     "text": [
      "[100 1 1 2]\n"
     ]
    }
   ],
   "source": [
    "n_neurons = 100\n",
    "img_size = 100\n",
    "coords,_, ori_one_hot_imgs = create_dat_samples(n_neurons)\n",
    "coords = tf.reshape(coords, [n_neurons, 1,1,2])\n",
    "tf.print(tf.shape(coords))"
   ]
  },
  {
   "cell_type": "raw",
   "metadata": {},
   "source": []
  },
  {
   "cell_type": "code",
   "execution_count": 7,
   "metadata": {},
   "outputs": [
    {
     "data": {
      "image/png": "[encoded data removed]",
      "text/plain": [
       "<Figure size 432x288 with 1 Axes>"
      ]
     },
     "metadata": {
      "needs_background": "light"
     },
     "output_type": "display_data"
    }
   ],
   "source": [
    "plt.imshow(stack4plot(ori_one_hot_imgs), cmap = 'gray')\n",
    "plt.show()"
   ]
  },
  {
   "cell_type": "code",
   "execution_count": 8,
   "metadata": {},
   "outputs": [],
   "source": [
    "#load roi mask\n",
    "roi_img = np.load('DG-13-8-8-17_ROImask.npy')\n",
    "roi_img = cv2.resize(roi_img, (100, 100))"
   ]
  },
  {
   "cell_type": "code",
   "execution_count": 9,
   "metadata": {},
   "outputs": [
    {
     "name": "stdout",
     "output_type": "stream",
     "text": [
      "\n"
     ]
    },
    {
     "data": {
      "image/png": "[encoded data removed]",
      "text/plain": [
       "<Figure size 720x720 with 2 Axes>"
      ]
     },
     "metadata": {},
     "output_type": "display_data"
    }
   ],
   "source": [
    "#comparison of roi and one hot images \n",
    "captions_03 = ['ROI Annotations', 'Coords']\n",
    "img_row03 = [roi_img,stack4plot(ori_one_hot_imgs)]\n",
    "plot_comparison(img_row03, captions_03, n_col=len(img_row03), figsize = (10, 10))"
   ]
  },
  {
   "cell_type": "code",
   "execution_count": 122,
   "metadata": {},
   "outputs": [],
   "source": [
    "def overlapMasks(mask_truth, mask_predicted): \n",
    "\n",
    "    \n",
    "    col = [(0.2, 0.2, 0.2),(1,1,1),(1,0,0)] \n",
    "    cm = LinearSegmentedColormap.from_list('mylist', col, 3)  \n",
    "    \n",
    "    #Bins for cmap\n",
    "    bounds=[0,1,5,10]\n",
    "    norm = colors.BoundaryNorm(bounds, cm.N)\n",
    "\n",
    "    mask_predicted = mask_predicted.numpy()\n",
    "    mask_predicted[mask_predicted > 0] = 5\n",
    "    \n",
    "    Image_mask = np.add(mask_truth, mask_predicted)\n",
    "\n",
    "    plt.imshow(Image_mask, cmap=cm, norm=norm)"
   ]
  },
  {
   "cell_type": "code",
   "execution_count": 123,
   "metadata": {},
   "outputs": [
    {
     "name": "stdout",
     "output_type": "stream",
     "text": [
      "[0. 5.] [9900  100]\n",
      "[0 1] [5979 4021]\n",
      "[0. 1. 5. 6.] [5920 3980   59   41]\n"
     ]
    },
    {
     "data": {
      "image/png": "[encoded data removed]",
      "text/plain": [
       "<Figure size 432x288 with 1 Axes>"
      ]
     },
     "metadata": {
      "needs_background": "light"
     },
     "output_type": "display_data"
    }
   ],
   "source": [
    "overlapMasks(roi_img, stack4plot(ori_one_hot_imgs))"
   ]
  },
  {
   "cell_type": "code",
   "execution_count": 72,
   "metadata": {},
   "outputs": [
    {
     "name": "stdout",
     "output_type": "stream",
     "text": [
      "[0 1] [5979 4021]\n",
      "[0. 1.] [9900  100]\n"
     ]
    }
   ],
   "source": [
    "\n",
    "val, count = np.unique( roi_img, return_counts=True )\n",
    "print(val,count)\n",
    "\n",
    "val, count = np.unique(  stack4plot(ori_one_hot_imgs), return_counts=True )\n",
    "print(val,count)\n",
    "\n",
    "#import cv2\n",
    "\n",
    "#added_image = cv2.addWeighted(roi_img,0.4,stack4plot(ori_one_hot_imgs),0.1,0)\n",
    "\n",
    "#cv2.imshow('roi',roi_img)"
   ]
  },
  {
   "cell_type": "code",
   "execution_count": 13,
   "metadata": {},
   "outputs": [],
   "source": [
    "def getConfusionMatrix(mask_truth, mask_predicted):\n",
    "\n",
    "    #Create masks\n",
    "\n",
    "    mask_truth = mask_truth > 0\n",
    "    mask_truth = np.multiply(mask_truth ,1)\n",
    "    mask_predicted = mask_predicted > 0 \n",
    "    mask_predicted = np.multiply(mask_predicted ,1)\n",
    "\n",
    "    #True Positives: Predicted correctly as Neuron \n",
    "    overlap = np.multiply(mask_truth ,mask_predicted)\n",
    "    unique, counts = np.unique(overlap, return_counts=True)\n",
    "    TP = counts[1] / overlap.size\n",
    "\n",
    "    # False Positives: Predicted as neuron, but is no neuron\n",
    "    FPmask = np.subtract(mask_truth, mask_predicted)\n",
    "    FP = np.count_nonzero(FPmask == -1)\n",
    "    FP = FP / FPmask.size\n",
    "\n",
    "    # False Negatives: Is Neuron but was not predicted\n",
    "    FNmask = np.subtract(mask_predicted, mask_truth)\n",
    "    FN = np.count_nonzero(FNmask == -1)\n",
    "    FN = FN / FNmask.size\n",
    "    \n",
    "    #True Nagatives: Is correctly recognized as no neuron\n",
    "    TN = 1 - TP - FP - FN\n",
    "    \n",
    "\n",
    "    print(\"True Positives\", TP)\n",
    "    print(\"True Negatives Ratio:\", TN)\n",
    "    print(\"False Positive Ratio:\", FP)\n",
    "    print(\"False Negatives Ratio:\", FN)\n",
    "\n",
    "    return TP, TN, FP, FN"
   ]
  },
  {
   "cell_type": "code",
   "execution_count": 188,
   "metadata": {},
   "outputs": [
    {
     "name": "stdout",
     "output_type": "stream",
     "text": [
      "True Positives 0.0011\n",
      "True Negatives Ratio: 0.5951\n",
      "False Positive Ratio: 0.0028\n",
      "False Negatives Ratio: 0.401\n"
     ]
    },
    {
     "data": {
      "text/plain": [
       "(0.0011, 0.5951, 0.0028, 0.401)"
      ]
     },
     "execution_count": 188,
     "metadata": {},
     "output_type": "execute_result"
    }
   ],
   "source": [
    "getConfusionMatrix(roi_img, stack4plot(ori_one_hot_imgs))\n"
   ]
  },
  {
   "cell_type": "code",
   "execution_count": 185,
   "metadata": {},
   "outputs": [
    {
     "data": {
      "image/png": "[encoded data removed]",
      "text/plain": [
       "<Figure size 432x288 with 1 Axes>"
      ]
     },
     "metadata": {
      "needs_background": "light"
     },
     "output_type": "display_data"
    }
   ],
   "source": [
    "overlapMasks(stack4plot(ori_one_hot_imgs), stack4plot(ori_one_hot_imgs))"
   ]
  },
  {
   "cell_type": "code",
   "execution_count": 186,
   "metadata": {},
   "outputs": [
    {
     "name": "stdout",
     "output_type": "stream",
     "text": [
      "True Positives 0.0039\n",
      "False Negatives Ratio: 0.9961\n",
      "False Positive Ratio: 0.0\n",
      "False Negatives Ratio: 0.0\n"
     ]
    },
    {
     "data": {
      "text/plain": [
       "(0.0039, 0.9961, 0.0, 0.0)"
      ]
     },
     "execution_count": 186,
     "metadata": {},
     "output_type": "execute_result"
    }
   ],
   "source": [
    "getConfusionMatrix(stack4plot(ori_one_hot_imgs), stack4plot(ori_one_hot_imgs))"
   ]
  },
  {
   "cell_type": "code",
   "execution_count": 192,
   "metadata": {},
   "outputs": [
    {
     "data": {
      "image/png": "[encoded data removed]",
      "text/plain": [
       "<Figure size 432x288 with 1 Axes>"
      ]
     },
     "metadata": {
      "needs_background": "light"
     },
     "output_type": "display_data"
    }
   ],
   "source": [
    "overlapMasks(roi_img,roi_img)"
   ]
  },
  {
   "cell_type": "code",
   "execution_count": 193,
   "metadata": {},
   "outputs": [
    {
     "name": "stdout",
     "output_type": "stream",
     "text": [
      "True Positives 0.4021\n",
      "True Negatives Ratio: 0.5979\n",
      "False Positive Ratio: 0.0\n",
      "False Negatives Ratio: 0.0\n"
     ]
    },
    {
     "data": {
      "text/plain": [
       "(0.4021, 0.5979, 0.0, 0.0)"
      ]
     },
     "execution_count": 193,
     "metadata": {},
     "output_type": "execute_result"
    }
   ],
   "source": [
    "getConfusionMatrix(roi_img, roi_img)"
   ]
  },
  {
   "cell_type": "code",
   "execution_count": 210,
   "metadata": {},
   "outputs": [],
   "source": [
    "def f1score(TP, FP, FN): \n",
    "    f1 = 2*TP / (2*TP + FP + FN)\n",
    "    return f1"
   ]
  },
  {
   "cell_type": "code",
   "execution_count": 213,
   "metadata": {},
   "outputs": [
    {
     "name": "stdout",
     "output_type": "stream",
     "text": [
      "True Positives 0.4021\n",
      "True Negatives Ratio: 0.5979\n",
      "False Positive Ratio: 0.0\n",
      "False Negatives Ratio: 0.0\n"
     ]
    }
   ],
   "source": [
    "confMatrix = getConfusionMatrix(roi_img, roi_img)\n"
   ]
  },
  {
   "cell_type": "code",
   "execution_count": 214,
   "metadata": {},
   "outputs": [
    {
     "name": "stdout",
     "output_type": "stream",
     "text": [
      "1.0\n"
     ]
    }
   ],
   "source": [
    "print(f1score(confMatrix[0], confMatrix[2], confMatrix[3]))"
   ]
  },
  {
   "cell_type": "code",
   "execution_count": null,
   "metadata": {},
   "outputs": [],
   "source": []
  }
 ],
 "metadata": {
  "kernelspec": {
   "display_name": "Python 3",
   "language": "python",
   "name": "python3"
  },
  "language_info": {
   "codemirror_mode": {
    "name": "ipython",
    "version": 3
   },
   "file_extension": ".py",
   "mimetype": "text/x-python",
   "name": "python",
   "nbconvert_exporter": "python",
   "pygments_lexer": "ipython3",
   "version": "3.6.8"
  }
 },
 "nbformat": 4,
 "nbformat_minor": 2
}

