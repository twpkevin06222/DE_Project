{
 "cells": [
  {
   "cell_type": "code",
   "execution_count": 41,
   "metadata": {},
   "outputs": [],
   "source": [
    "import os\n",
    "import sys\n",
    "import time\n",
    "import glob\n",
    "import scipy.io\n",
    "import numpy as np"
   ]
  },
  {
   "cell_type": "code",
   "execution_count": 42,
   "metadata": {},
   "outputs": [],
   "source": [
    "input_path = '/home/lisa/CAVE-benchmarkingdata/'\n",
    "save_path = '/home/lisa/Python-benchmarkingdata/'\n",
    "mat = []\n",
    "mat_list = []"
   ]
  },
  {
   "cell_type": "code",
   "execution_count": 43,
   "metadata": {},
   "outputs": [],
   "source": [
    "def mat_2_npy(input_path, save_path):\n",
    "    '''\n",
    "    convert arrays in .mat to numpy array .npy\n",
    "    \n",
    "    input_path: path where data files of LIN is store, no need on specific path of .mat!\n",
    "    save_path: where .npy is save\n",
    "    '''\n",
    "    for main_dir in sorted(os.listdir(input_path)):\n",
    "        print('Directory of mice index:',main_dir)\n",
    "        merge_dir = os.path.join(input_path + main_dir)\n",
    "    \n",
    "        print('Directory of .mat files stored:')\n",
    "        print()\n",
    "        for file in sorted(os.listdir(merge_dir)):\n",
    "           \n",
    "            if file.endswith('.mat'):\n",
    "                file = file[:-4]\n",
    "                mat = os.path.join(merge_dir + '/'+ file)\n",
    "                mat_list.append(mat)\n",
    "       \n",
    "       \n",
    "                #returns dict\n",
    "                data = scipy.io.loadmat(mat)\n",
    "                for i in data:\n",
    "                     if '__' not in i and 'readme' not in i:\n",
    "                        print(data[i].shape)\n",
    "\n",
    "                        #save matlab arrays into .npy file\n",
    "                        np.save(save_path + \"{}_{}.npy\".format(main_dir, i), data[i])\n",
    "            \n",
    "    print()"
   ]
  },
  {
   "cell_type": "code",
   "execution_count": 44,
   "metadata": {
    "scrolled": true
   },
   "outputs": [
    {
     "name": "stdout",
     "output_type": "stream",
     "text": [
      "Directory of mice index: 7-12-17\n",
      "Directory of .mat files stored:\n",
      "\n",
      "(198, 196)\n",
      "(198, 196, 69)\n",
      "(603, 69)\n",
      "(1, 1)\n",
      "Directory of mice index: 7-16-17\n",
      "Directory of .mat files stored:\n",
      "\n",
      "(1985, 103)\n",
      "(1985, 103)\n",
      "(1985, 103)\n",
      "(1, 1)\n",
      "(195, 163)\n",
      "(195, 163, 103)\n",
      "(1985, 103)\n",
      "(1, 1)\n",
      "Directory of mice index: DG-13-3-8-17\n",
      "Directory of .mat files stored:\n",
      "\n",
      "(756, 154)\n",
      "(756, 154)\n",
      "(756, 154)\n",
      "(1, 1)\n",
      "(194, 195)\n",
      "(194, 195, 154)\n",
      "(756, 154)\n",
      "(1, 1)\n",
      "(1, 1)\n",
      "Directory of mice index: DG-13-7-12-17\n",
      "Directory of .mat files stored:\n",
      "\n",
      "(605, 80)\n",
      "(605, 80)\n",
      "(605, 80)\n",
      "(1, 1)\n",
      "(202, 201)\n",
      "(202, 201, 80)\n",
      "(605, 80)\n",
      "Directory of mice index: DG-13-7-16-17\n",
      "Directory of .mat files stored:\n",
      "\n",
      "(1886, 118)\n",
      "(1886, 118)\n",
      "(1886, 118)\n",
      "(1, 1)\n",
      "(196, 200)\n",
      "(196, 200, 118)\n",
      "(1886, 118)\n",
      "(1, 1)\n",
      "Directory of mice index: DG-13-8-11-17\n",
      "Directory of .mat files stored:\n",
      "\n",
      "(643, 119)\n",
      "(643, 119)\n",
      "(643, 119)\n",
      "(1, 1)\n",
      "(200, 194)\n",
      "(200, 194, 119)\n",
      "(643, 119)\n",
      "Directory of mice index: DG-13-8-16-17\n",
      "Directory of .mat files stored:\n",
      "\n",
      "(664, 120)\n",
      "(664, 120)\n",
      "(664, 120)\n",
      "(1, 1)\n",
      "(200, 197)\n",
      "(200, 197, 120)\n",
      "(664, 120)\n",
      "(1, 1)\n",
      "Directory of mice index: DG-13-8-8-17\n",
      "Directory of .mat files stored:\n",
      "\n",
      "(629, 93)\n",
      "(629, 93)\n",
      "(629, 93)\n",
      "(1, 1)\n",
      "(201, 202)\n",
      "(201, 202, 96)\n",
      "(629, 93)\n",
      "Directory of mice index: Dg-13-8-18-17\n",
      "Directory of .mat files stored:\n",
      "\n",
      "(658, 131)\n",
      "(658, 131)\n",
      "(658, 131)\n",
      "(1, 1)\n",
      "(198, 199)\n",
      "(198, 199, 131)\n",
      "(658, 131)\n",
      "\n"
     ]
    }
   ],
   "source": [
    "if __name__ == '__main__':\n",
    "    mat_2_npy(input_path, save_path)"
   ]
  },
  {
   "cell_type": "code",
   "execution_count": null,
   "metadata": {},
   "outputs": [
    {
     "name": "stdout",
     "output_type": "stream",
     "text": [
      "(198, 196)\n"
     ]
    }
   ],
   "source": [
    "#sanity check! \n",
    "for i in sorted(os.listdir(save_path)):\n",
    "    tmp_path = os.path.join(save_path + i)\n",
    "    tmp = np.load(tmp_path)\n",
    "    \n",
    "    print(tmp.shape)\n",
    "    #print(tmp)\n",
    "    \n",
    "    if input() == 'exit':\n",
    "        break"
   ]
  },
  {
   "cell_type": "code",
   "execution_count": null,
   "metadata": {},
   "outputs": [],
   "source": []
  },
  {
   "cell_type": "code",
   "execution_count": null,
   "metadata": {},
   "outputs": [],
   "source": []
  }
 ],
 "metadata": {
  "kernelspec": {
   "display_name": "Python 2",
   "language": "python",
   "name": "python2"
  },
  "language_info": {
   "codemirror_mode": {
    "name": "ipython",
    "version": 3
   },
   "file_extension": ".py",
   "mimetype": "text/x-python",
   "name": "python",
   "nbconvert_exporter": "python",
   "pygments_lexer": "ipython3",
   "version": "3.6.8"
  }
 },
 "nbformat": 4,
 "nbformat_minor": 2
}
