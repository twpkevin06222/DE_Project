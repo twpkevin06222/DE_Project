{
 "cells": [
  {
   "cell_type": "code",
   "execution_count": 4,
   "metadata": {},
   "outputs": [
    {
     "ename": "ModuleNotFoundError",
     "evalue": "No module named 'utils'",
     "output_type": "error",
     "traceback": [
      "\u001b[0;31m---------------------------------------------------------------------------\u001b[0m",
      "\u001b[0;31mModuleNotFoundError\u001b[0m                       Traceback (most recent call last)",
      "\u001b[0;32m<ipython-input-4-21b6b368d3c8>\u001b[0m in \u001b[0;36m<module>\u001b[0;34m()\u001b[0m\n\u001b[1;32m      2\u001b[0m \u001b[0;32mimport\u001b[0m \u001b[0mos\u001b[0m\u001b[0;34m\u001b[0m\u001b[0m\n\u001b[1;32m      3\u001b[0m \u001b[0;32mimport\u001b[0m \u001b[0mglob\u001b[0m\u001b[0;34m\u001b[0m\u001b[0m\n\u001b[0;32m----> 4\u001b[0;31m \u001b[0;32mimport\u001b[0m \u001b[0mutils\u001b[0m\u001b[0;34m\u001b[0m\u001b[0m\n\u001b[0m\u001b[1;32m      5\u001b[0m \u001b[0;32mimport\u001b[0m \u001b[0mscipy\u001b[0m\u001b[0;34m\u001b[0m\u001b[0m\n\u001b[1;32m      6\u001b[0m \u001b[0;32mfrom\u001b[0m \u001b[0mcontextlib\u001b[0m \u001b[0;32mimport\u001b[0m \u001b[0msuppress\u001b[0m\u001b[0;34m\u001b[0m\u001b[0m\n",
      "\u001b[0;31mModuleNotFoundError\u001b[0m: No module named 'utils'"
     ]
    }
   ],
   "source": [
    "import numpy as np \n",
    "import os\n",
    "import glob\n",
    "import utils \n",
    "import scipy\n",
    "from contextlib import suppress"
   ]
  },
  {
   "cell_type": "code",
   "execution_count": 2,
   "metadata": {},
   "outputs": [],
   "source": [
    "input_path = '/home/kevinteng/Desktop/Students_Preprocessing/'\n",
    "save_path = '/home/kevinteng/Desktop/project/avi_to_jpeg/'\n",
    "def vid2frames_from_files(input_path, save_path):\n",
    "    '''\n",
    "    convert arrays in .mat to numpy array .npy\n",
    "    \n",
    "    input_path: path where data files of LIN is store, no need on specific path of .mat!\n",
    "    save_path: where .npy is save\n",
    "    '''\n",
    "    for main_dir in sorted(os.listdir(input_path)):\n",
    "        print('Directory of mice index:',main_dir)\n",
    "        merge_dir = os.path.join(input_path + main_dir)\n",
    "\n",
    "        print('Directory of .avi files stored:')\n",
    "        print()\n",
    "        for file in sorted(os.listdir(merge_dir )):\n",
    "            avi_list = glob.glob('{}/*.avi'.format(os.path.join(merge_dir + '/'+ file)))\n",
    "            for avi in avi_list:\n",
    "\n",
    "                print(avi)\n",
    "                #obtain file name .mat for new file name during the conversion\n",
    "                avi_dir_split = avi.split(os.sep)\n",
    "                avi_name = avi_dir_split[-1]\n",
    "                print(mat_name)\n",
    "                date_dir_split = file.split(os.sep)\n",
    "                date_name = date_dir_split[-1]\n",
    "                print('{}_{}'.format(date_name, mat_name))\n",
    "                \n",
    "\n",
    "#                 save_file = (save_path + date_name + '/')\n",
    "#                 if not os.path.exists(save_file):\n",
    "#                     os.makedirs(save_file)\n",
    "\n",
    "#                 #save matlab arrays into .npy file\n",
    "#                 np.save(save_file + \"{}_{}_{}.npy\".format(date_name, mat_name, i), data[i])\n",
    "            \n",
    "    print()"
   ]
  },
  {
   "cell_type": "code",
   "execution_count": 3,
   "metadata": {},
   "outputs": [
    {
     "ename": "NameError",
     "evalue": "name 'os' is not defined",
     "output_type": "error",
     "traceback": [
      "\u001b[0;31m---------------------------------------------------------------------------\u001b[0m",
      "\u001b[0;31mNameError\u001b[0m                                 Traceback (most recent call last)",
      "\u001b[0;32m<ipython-input-3-da805b51f94a>\u001b[0m in \u001b[0;36m<module>\u001b[0;34m()\u001b[0m\n\u001b[0;32m----> 1\u001b[0;31m \u001b[0mvid2frames_from_files\u001b[0m\u001b[0;34m(\u001b[0m\u001b[0minput_path\u001b[0m\u001b[0;34m,\u001b[0m \u001b[0msave_path\u001b[0m\u001b[0;34m)\u001b[0m\u001b[0;34m\u001b[0m\u001b[0m\n\u001b[0m",
      "\u001b[0;32m<ipython-input-2-6cb54d0568a2>\u001b[0m in \u001b[0;36mvid2frames_from_files\u001b[0;34m(input_path, save_path)\u001b[0m\n\u001b[1;32m      8\u001b[0m     \u001b[0msave_path\u001b[0m\u001b[0;34m:\u001b[0m \u001b[0mwhere\u001b[0m \u001b[0;34m.\u001b[0m\u001b[0mnpy\u001b[0m \u001b[0;32mis\u001b[0m \u001b[0msave\u001b[0m\u001b[0;34m\u001b[0m\u001b[0m\n\u001b[1;32m      9\u001b[0m     '''\n\u001b[0;32m---> 10\u001b[0;31m     \u001b[0;32mfor\u001b[0m \u001b[0mmain_dir\u001b[0m \u001b[0;32min\u001b[0m \u001b[0msorted\u001b[0m\u001b[0;34m(\u001b[0m\u001b[0mos\u001b[0m\u001b[0;34m.\u001b[0m\u001b[0mlistdir\u001b[0m\u001b[0;34m(\u001b[0m\u001b[0minput_path\u001b[0m\u001b[0;34m)\u001b[0m\u001b[0;34m)\u001b[0m\u001b[0;34m:\u001b[0m\u001b[0;34m\u001b[0m\u001b[0m\n\u001b[0m\u001b[1;32m     11\u001b[0m         \u001b[0mprint\u001b[0m\u001b[0;34m(\u001b[0m\u001b[0;34m'Directory of mice index:'\u001b[0m\u001b[0;34m,\u001b[0m\u001b[0mmain_dir\u001b[0m\u001b[0;34m)\u001b[0m\u001b[0;34m\u001b[0m\u001b[0m\n\u001b[1;32m     12\u001b[0m         \u001b[0mmerge_dir\u001b[0m \u001b[0;34m=\u001b[0m \u001b[0mos\u001b[0m\u001b[0;34m.\u001b[0m\u001b[0mpath\u001b[0m\u001b[0;34m.\u001b[0m\u001b[0mjoin\u001b[0m\u001b[0;34m(\u001b[0m\u001b[0minput_path\u001b[0m \u001b[0;34m+\u001b[0m \u001b[0mmain_dir\u001b[0m\u001b[0;34m)\u001b[0m\u001b[0;34m\u001b[0m\u001b[0m\n",
      "\u001b[0;31mNameError\u001b[0m: name 'os' is not defined"
     ]
    }
   ],
   "source": [
    "vid2frames_from_files(input_path, save_path)"
   ]
  },
  {
   "cell_type": "markdown",
   "metadata": {},
   "source": [
    "# Convert .mat File"
   ]
  },
  {
   "cell_type": "code",
   "execution_count": 3,
   "metadata": {},
   "outputs": [
    {
     "name": "stdout",
     "output_type": "stream",
     "text": [
      "Directory of mice index: DG 13\n",
      "Directory of .mat files stored:\n",
      "\n",
      "/home/kevinteng/Desktop/Students_Preprocessing/DG 13/7-12-17/preprocesseddFvid.mat\n",
      "/home/kevinteng/Desktop/Students_Preprocessing/DG 13/7-12-17/preprocessedCaSignal.mat\n",
      "(605, 16)\n",
      "(605, 16)\n",
      "(605, 16)\n",
      "(1, 1)\n",
      "/home/kevinteng/Desktop/Students_Preprocessing/DG 13/7-12-17/preprocessed_ROIvalues.mat\n",
      "(605, 16)\n",
      "/home/kevinteng/Desktop/Students_Preprocessing/DG 13/7-12-17/preprocessedvidalign.mat\n",
      "(1, 1)\n",
      "/home/kevinteng/Desktop/Students_Preprocessing/DG 13/7-16-17/preprocesseddFvid.mat\n",
      "/home/kevinteng/Desktop/Students_Preprocessing/DG 13/7-16-17/preprocessedCaSignal.mat\n",
      "(1886, 13)\n",
      "(1886, 13)\n",
      "(1886, 13)\n",
      "(1, 1)\n",
      "/home/kevinteng/Desktop/Students_Preprocessing/DG 13/7-16-17/preprocessed_ROIvalues.mat\n",
      "(1886, 13)\n",
      "/home/kevinteng/Desktop/Students_Preprocessing/DG 13/7-16-17/preprocessedvidalign.mat\n",
      "(1, 1)\n",
      "/home/kevinteng/Desktop/Students_Preprocessing/DG 13/8-11-17/preprocesseddFvid.mat\n",
      "/home/kevinteng/Desktop/Students_Preprocessing/DG 13/8-11-17/preprocessedCaSignal.mat\n",
      "(643, 15)\n",
      "(643, 15)\n",
      "(643, 15)\n",
      "(1, 1)\n",
      "/home/kevinteng/Desktop/Students_Preprocessing/DG 13/8-11-17/preprocessed_ROIvalues.mat\n",
      "(643, 15)\n",
      "/home/kevinteng/Desktop/Students_Preprocessing/DG 13/8-11-17/preprocessedvidalign.mat\n",
      "(1, 1)\n",
      "/home/kevinteng/Desktop/Students_Preprocessing/DG 13/8-16-17/preprocesseddFvid.mat\n",
      "/home/kevinteng/Desktop/Students_Preprocessing/DG 13/8-16-17/preprocessedCaSignal.mat\n",
      "(664, 19)\n",
      "(664, 19)\n",
      "(664, 19)\n",
      "(1, 1)\n",
      "/home/kevinteng/Desktop/Students_Preprocessing/DG 13/8-16-17/preprocessed_ROIvalues.mat\n",
      "(664, 19)\n",
      "/home/kevinteng/Desktop/Students_Preprocessing/DG 13/8-16-17/preprocessedvidalign.mat\n",
      "(1, 1)\n",
      "/home/kevinteng/Desktop/Students_Preprocessing/DG 13/8-18-17/preprocesseddFvid.mat\n",
      "/home/kevinteng/Desktop/Students_Preprocessing/DG 13/8-18-17/preprocessedCaSignal.mat\n",
      "(658, 16)\n",
      "(658, 16)\n",
      "(658, 16)\n",
      "(1, 1)\n",
      "/home/kevinteng/Desktop/Students_Preprocessing/DG 13/8-18-17/preprocessed_ROIvalues.mat\n",
      "(658, 16)\n",
      "/home/kevinteng/Desktop/Students_Preprocessing/DG 13/8-18-17/preprocessedvidalign.mat\n",
      "(1, 1)\n",
      "/home/kevinteng/Desktop/Students_Preprocessing/DG 13/8-3-17/preprocesseddFvid.mat\n",
      "/home/kevinteng/Desktop/Students_Preprocessing/DG 13/8-3-17/preprocessedCaSignal.mat\n",
      "(756, 17)\n",
      "(756, 17)\n",
      "(756, 17)\n",
      "(1, 1)\n",
      "/home/kevinteng/Desktop/Students_Preprocessing/DG 13/8-3-17/preprocessed_ROIvalues.mat\n",
      "(756, 17)\n",
      "/home/kevinteng/Desktop/Students_Preprocessing/DG 13/8-3-17/preprocessedvidalign.mat\n",
      "(1, 1)\n",
      "/home/kevinteng/Desktop/Students_Preprocessing/DG 13/8-8-17/preprocesseddFvid.mat\n",
      "/home/kevinteng/Desktop/Students_Preprocessing/DG 13/8-8-17/preprocessedCaSignal.mat\n",
      "(629, 16)\n",
      "(629, 16)\n",
      "(629, 16)\n",
      "(1, 1)\n",
      "/home/kevinteng/Desktop/Students_Preprocessing/DG 13/8-8-17/preprocessed_ROIvalues.mat\n",
      "(629, 16)\n",
      "/home/kevinteng/Desktop/Students_Preprocessing/DG 13/8-8-17/name.mat\n",
      "(1, 1)\n",
      "/home/kevinteng/Desktop/Students_Preprocessing/DG 13/8-8-17/preprocessedvidalign.mat\n",
      "(1, 1)\n",
      "\n"
     ]
    }
   ],
   "source": [
    "input_path = '/home/kevinteng/Desktop/Students_Preprocessing/'\n",
    "save_path = '/home/kevinteng/Desktop/project/mat/'\n",
    "utils.mat_2_npy(input_path, save_path)"
   ]
  }
 ],
 "metadata": {
  "kernelspec": {
   "display_name": "Python 3",
   "language": "python",
   "name": "python3"
  },
  "language_info": {
   "codemirror_mode": {
    "name": "ipython",
    "version": 3
   },
   "file_extension": ".py",
   "mimetype": "text/x-python",
   "name": "python",
   "nbconvert_exporter": "python",
   "pygments_lexer": "ipython3",
   "version": "3.6.6"
  }
 },
 "nbformat": 4,
 "nbformat_minor": 2
}
