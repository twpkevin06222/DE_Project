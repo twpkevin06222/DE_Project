{
 "cells": [
  {
   "cell_type": "code",
   "execution_count": null,
   "metadata": {},
   "outputs": [],
   "source": [
    "import os\n",
    "import sys\n",
    "sys.path.append('/home/kevinteng/Desktop/DE_Project')\n",
    "import numpy as np\n",
    "import matplotlib.pyplot as plt\n",
    "%matplotlib inline\n",
    "import tensorflow as tf\n",
    "from coord_conv import CoordConv\n",
    "import cv2\n",
    "import utils\n",
    "import utils_vis\n",
    "import utils_model\n",
    "from sklearn.model_selection import train_test_split\n",
    "from tensorflow.keras.preprocessing.image import ImageDataGenerator"
   ]
  },
  {
   "cell_type": "code",
   "execution_count": null,
   "metadata": {},
   "outputs": [],
   "source": [
    "re_list = np.load('/home/kevinteng/Desktop/DeepLearning/Tensorflow2_0/test_npy/7-12-17-processed_dF.npy')\n",
    "#re_list = np.load('test_npy/7-12-17-preprocessed.npy')\n",
    "IMG_SIZE = re_list.shape[1]\n",
    "\n",
    "#Dimension for network should include the color channel \n",
    "re_list = np.expand_dims(re_list, axis = -1)\n",
    "#Cast data type to float32 for TensorFlow\n",
    "re_list = re_list.astype('float32')\n",
    "\n",
    "for img in re_list:\n",
    "    plt.imshow(np.reshape(img, (IMG_SIZE, IMG_SIZE)), cmap = 'gray')\n",
    "    plt.show()\n",
    "    \n",
    "    break"
   ]
  },
  {
   "cell_type": "code",
   "execution_count": null,
   "metadata": {},
   "outputs": [],
   "source": [
    "def max_in_pro(img_stacks, n_imgs, n_rows, n_cols, IMG_SIZE):\n",
    "    '''\n",
    "    Calculate the maximum intensity projection of image stacks\n",
    "    (not optimized for tensorflow!)\n",
    "    '''\n",
    "    pixel_flat = []\n",
    "    mip = []\n",
    "    # (i, j ,k) # of images, # of rows, # of cols\n",
    "    for j in range(n_rows):\n",
    "        for k in range(n_cols):\n",
    "            for i in range(n_imgs):\n",
    "                # print(i, j, k)\n",
    "                if img_stacks.ndim == 4:\n",
    "                    pixel_flat.append(img_stacks[i, j, k, :])\n",
    "                else:\n",
    "                    pixel_flat.append(img_stacks[i, j, k])\n",
    "\n",
    "    # acts as max. window of size n_imgs and strides of n_imgs\n",
    "    for n in range(n_cols * n_rows):\n",
    "        start = n * n_imgs\n",
    "        end = (start) + (n_imgs)\n",
    "        # print(start, end)\n",
    "        max_pixel = np.max(pixel_flat[start:end])\n",
    "        mip.append(max_pixel)\n",
    "\n",
    "    mip = np.asarray(mip)\n",
    "    mip_re = np.reshape(mip, (IMG_SIZE, IMG_SIZE))\n",
    "\n",
    "    return np.expand_dims(mip_re, -1)"
   ]
  }
 ],
 "metadata": {
  "kernelspec": {
   "display_name": "Python 3",
   "language": "python",
   "name": "python3"
  },
  "language_info": {
   "codemirror_mode": {
    "name": "ipython",
    "version": 3
   },
   "file_extension": ".py",
   "mimetype": "text/x-python",
   "name": "python",
   "nbconvert_exporter": "python",
   "pygments_lexer": "ipython3",
   "version": "3.6.6"
  }
 },
 "nbformat": 4,
 "nbformat_minor": 2
}
