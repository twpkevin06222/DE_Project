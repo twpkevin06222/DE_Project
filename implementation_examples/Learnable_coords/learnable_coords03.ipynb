{
 "cells": [
  {
   "cell_type": "code",
   "execution_count": 12,
   "metadata": {},
   "outputs": [],
   "source": [
    "import os \n",
    "os.environ[\"CUDA_VISIBLE_DEVICES\"]=\"0\"  # specify which GPU(s) to be used"
   ]
  },
  {
   "cell_type": "code",
   "execution_count": 13,
   "metadata": {},
   "outputs": [],
   "source": [
    "import tensorflow as tf\n",
    "import numpy as np \n",
    "import matplotlib.pyplot as plt\n",
    "from coord_conv import CoordConv\n",
    "from tensorflow.keras import Model, Sequential\n",
    "from tensorflow.keras.layers import Conv2D, Flatten, Dense, Softmax,MaxPooling2D,UpSampling2D,Input,ActivityRegularization,Dropout,ReLU,Add"
   ]
  },
  {
   "cell_type": "markdown",
   "metadata": {},
   "source": [
    "---"
   ]
  },
  {
   "cell_type": "markdown",
   "metadata": {},
   "source": [
    "# Helper Functions"
   ]
  },
  {
   "cell_type": "code",
   "execution_count": 14,
   "metadata": {},
   "outputs": [],
   "source": [
    "def create_ran_numbers(img_size):\n",
    "    '''\n",
    "    Function to create random coordinates \n",
    "    \n",
    "    @param img_size: Image size \n",
    "    \n",
    "    return:\n",
    "    random generated x,y coordinates \n",
    "    '''\n",
    "    c1=np.random.randint(img_size, size=1)\n",
    "    c2=np.random.randint(img_size, size=1)\n",
    "    c1=tf.convert_to_tensor( c1,dtype=None,dtype_hint=None,name=None)\n",
    "    c2=tf.convert_to_tensor( c2,dtype=None,dtype_hint=None,name=None)\n",
    "    return c1,c2\n",
    "\n",
    "@tf.function\n",
    "def create_tf_tilecords(coord_list, img_size):\n",
    "    o1,o2=coord_list\n",
    "    multiply=tf.constant([img_size*img_size])\n",
    "    y1=tf.reshape(tf.tile(o1,multiply),[img_size,img_size,1])\n",
    "    y2=tf.reshape(tf.tile(o2,multiply),[img_size,img_size,1])\n",
    "\n",
    "    y=tf.concat((y1,y2),axis=2)\n",
    "\n",
    "    return tf.dtypes.cast(y, tf.float32),tf.dtypes.cast(coord_list, tf.float32)\n",
    "\n",
    "@tf.function\n",
    "def tf_create_onehotcords(dat):\n",
    "    o1,o2=dat\n",
    "    y1=tf.one_hot(o1,100)\n",
    "    y2=tf.one_hot(o2,100)\n",
    "    y2=tf.transpose(y2)\n",
    "    y=tf.math.multiply(y1,y2)\n",
    "    #y=tf.transpose(y)\n",
    "    return y\n",
    "\n",
    "def create_dat_samples(n):\n",
    "    '''\n",
    "    Function to create stacks of coordinates, tiled coordinates, one hot images\n",
    "    @param n: number of neurons\n",
    "    '''\n",
    "    ta = tf.TensorArray(tf.float32, size=0, dynamic_size=True)\n",
    "    tb = tf.TensorArray(tf.float32, size=0, dynamic_size=True)\n",
    "    coords = tf.TensorArray(tf.float32, size=0, dynamic_size = True)\n",
    "    for _ in tf.range(n):\n",
    "        dat=create_ran_numbers(img_size=100)\n",
    "        b1,b2=create_tf_tilecords(dat, 100)\n",
    "        c1=tf_create_onehotcords(dat)\n",
    "        c1=tf.expand_dims(c1, axis=2, name=None)\n",
    "        \n",
    "        #tile coordinates\n",
    "        ta = ta.write(_, b1/99)  #(n, img_size, img_size, 1)\n",
    "        #one hot images\n",
    "        tb = tb.write(_, c1) #(n, img_size, img_size, 1)\n",
    "        #coordinates\n",
    "        coords = coords.write(_, dat) #(n, 2, 1)\n",
    "    return coords.stack(), ta.stack(),tb.stack()\n",
    "\n",
    "def neuron_like_image(n_neurons):\n",
    "    '''\n",
    "    Function to paint neuron-like images\n",
    "     @param n_neurons: number of neurons\n",
    "    '''\n",
    "    _,_,one_hot_imgs = create_dat_samples(n_neurons)\n",
    "    stack_imgs = tf.reduce_sum(one_hot_imgs, axis = 0)\n",
    "    return tf.expand_dims(stack_imgs, axis = 0) #(1, img_size, img_size, 1)\n",
    "\n",
    "def de_conv(input_tensor):\n",
    "    coord01 = CoordConv(x_dim = 100, y_dim = 100, with_r = False, filters = 100,\n",
    "              kernel_size = 1, padding='same', activation='relu')(input_tensor)\n",
    "    conv01 = Conv2D(filters = 50, kernel_size = 1, strides = 1, padding = \"same\", activation = 'relu')(coord01)\n",
    "    conv02 = Conv2D(filters = 50, kernel_size = 1, strides = 1, padding = \"same\", activation = 'relu')(conv01)\n",
    "    conv03 = Conv2D(filters = 100, kernel_size = 1, strides = 1, padding = \"same\", activation = 'relu')(conv02)\n",
    "    conv04 = Conv2D(filters = 100, kernel_size = 1, strides = 1, padding = \"same\", activation = 'relu')(conv03)\n",
    "    conv05 = Conv2D(filters = 1, kernel_size = 1, strides = 1, padding = \"same\" )(conv04)\n",
    "    f1 = Flatten()(conv05)\n",
    "    output = Softmax(axis = -1)(f1)\n",
    "\n",
    "    return output\n",
    "\n",
    "def stack4plot(one_hot_imgs):\n",
    "    '''\n",
    "    Functions to sum all one hot images along axis=0 for easy plot\n",
    "    '''\n",
    "    return tf.squeeze(tf.reduce_sum(one_hot_imgs, axis = 0))"
   ]
  },
  {
   "cell_type": "markdown",
   "metadata": {},
   "source": [
    "---"
   ]
  },
  {
   "cell_type": "markdown",
   "metadata": {},
   "source": [
    "# Build Model"
   ]
  },
  {
   "cell_type": "code",
   "execution_count": 15,
   "metadata": {},
   "outputs": [
    {
     "name": "stdout",
     "output_type": "stream",
     "text": [
      "Model: \"model_1\"\n",
      "_________________________________________________________________\n",
      "Layer (type)                 Output Shape              Param #   \n",
      "=================================================================\n",
      "input_2 (InputLayer)         [(None, 100, 100, 2)]     0         \n",
      "_________________________________________________________________\n",
      "coord_conv_1 (CoordConv)     (None, 100, 100, 100)     500       \n",
      "_________________________________________________________________\n",
      "conv2d_7 (Conv2D)            (None, 100, 100, 50)      5050      \n",
      "_________________________________________________________________\n",
      "conv2d_8 (Conv2D)            (None, 100, 100, 50)      2550      \n",
      "_________________________________________________________________\n",
      "conv2d_9 (Conv2D)            (None, 100, 100, 100)     5100      \n",
      "_________________________________________________________________\n",
      "conv2d_10 (Conv2D)           (None, 100, 100, 100)     10100     \n",
      "_________________________________________________________________\n",
      "conv2d_11 (Conv2D)           (None, 100, 100, 1)       101       \n",
      "_________________________________________________________________\n",
      "flatten_1 (Flatten)          (None, 10000)             0         \n",
      "_________________________________________________________________\n",
      "softmax_1 (Softmax)          (None, 10000)             0         \n",
      "=================================================================\n",
      "Total params: 23,401\n",
      "Trainable params: 23,401\n",
      "Non-trainable params: 0\n",
      "_________________________________________________________________\n"
     ]
    }
   ],
   "source": [
    "inp = Input(shape=(100, 100,2))\n",
    "de_coordconv = Model(inp, de_conv(inp))\n",
    "\n",
    "de_coordconv.summary()"
   ]
  },
  {
   "cell_type": "code",
   "execution_count": 16,
   "metadata": {},
   "outputs": [],
   "source": [
    "de_coordconv.load_weights(\"best_class_model100_02.hdf5\")"
   ]
  },
  {
   "cell_type": "markdown",
   "metadata": {},
   "source": [
    "## Custom Layer"
   ]
  },
  {
   "cell_type": "code",
   "execution_count": 17,
   "metadata": {},
   "outputs": [],
   "source": [
    " class learnable_coords(tf.Module):\n",
    "    def __init__(self):\n",
    "        super(learnable_coords, self).__init__()\n",
    "        self.w = tf.Variable(tf.ones([1,1,2]), trainable = True)\n",
    "\n",
    "    def __call__(self, coords, img_size):\n",
    "        y = (coords*self.w)/(img_size-1) #normalize the coordinates\n",
    "        y = tf.clip_by_value(y, clip_value_min=0, clip_value_max=1) #clip values\n",
    "        return y, self.w"
   ]
  },
  {
   "cell_type": "code",
   "execution_count": 18,
   "metadata": {
    "scrolled": true
   },
   "outputs": [
    {
     "data": {
      "text/plain": [
       "<matplotlib.image.AxesImage at 0x7ff0c338f4e0>"
      ]
     },
     "execution_count": 18,
     "metadata": {},
     "output_type": "execute_result"
    },
    {
     "data": {
      "image/png": "[encoded data removed]",
      "text/plain": [
       "<Figure size 432x288 with 1 Axes>"
      ]
     },
     "metadata": {
      "needs_background": "light"
     },
     "output_type": "display_data"
    }
   ],
   "source": [
    "neuron_imgs = neuron_like_image(30)\n",
    "plt.imshow(tf.squeeze(neuron_imgs), cmap='gray')"
   ]
  },
  {
   "cell_type": "code",
   "execution_count": 19,
   "metadata": {},
   "outputs": [],
   "source": [
    "lr=0.1\n",
    "l_coords = learnable_coords()\n",
    "opt = tf.keras.optimizers.Adam(lr)\n",
    "loss_fn = tf.losses.MeanSquaredError()\n",
    "\n",
    "@tf.function\n",
    "def train_fn(coords, neuron_imgs, img_size):\n",
    "    with tf.GradientTape() as tape:\n",
    "        #custom layer for updating coordinates\n",
    "        updated_coords, weights = l_coords(coords, img_size)\n",
    "        m1 = tf.constant([1,img_size,img_size,1], tf.int32) #multiplier for tiling \n",
    "        #tile coordinates\n",
    "        tile_cd = tf.tile(updated_coords, m1)\n",
    "        #de-coordconv model\n",
    "        de_coordconv.trainable = False #freeze de-coordconv\n",
    "        one_hot_imgs = tf.reshape(de_coordconv(tile_cd),[-1,img_size, img_size, 1]) #(n_neurons, img_size, img_size, 1)\n",
    "        similarity_score = tf.tensordot(one_hot_imgs, neuron_imgs, [[1,2,3],[0,1,2]]) #(n_neurons, 1)\n",
    "        mul = tf.reshape(similarity_score, [-1,1,1,1])*one_hot_imgs #multiplication\n",
    "        mul = tf.reduce_sum(mul, axis=0) #(img_size, img_size, 1)\n",
    "        loss = loss_fn(tf.squeeze(neuron_imgs), tf.squeeze(mul))\n",
    "        \n",
    "    gradients = tape.gradient(loss, l_coords.trainable_variables)\n",
    "    opt.apply_gradients(zip(gradients, l_coords.trainable_variables))\n",
    "    \n",
    "    return loss, weights, gradients, updated_coords, one_hot_imgs"
   ]
  },
  {
   "cell_type": "markdown",
   "metadata": {},
   "source": [
    "- Actual Neuron Activations => 30\n",
    "- Assumptions for number of neurons => 40"
   ]
  },
  {
   "cell_type": "code",
   "execution_count": 20,
   "metadata": {
    "scrolled": true
   },
   "outputs": [
    {
     "name": "stdout",
     "output_type": "stream",
     "text": [
      "[40 1 1 2]\n"
     ]
    }
   ],
   "source": [
    "n_neurons = 40\n",
    "img_size = 100\n",
    "coords,_, ori_one_hot_imgs = create_dat_samples(n_neurons)\n",
    "coords = tf.reshape(coords, [n_neurons, 1,1,2])\n",
    "tf.print(tf.shape(coords))"
   ]
  },
  {
   "cell_type": "markdown",
   "metadata": {},
   "source": [
    "---"
   ]
  },
  {
   "cell_type": "markdown",
   "metadata": {},
   "source": [
    "# Training "
   ]
  },
  {
   "cell_type": "code",
   "execution_count": 21,
   "metadata": {
    "scrolled": true
   },
   "outputs": [
    {
     "name": "stdout",
     "output_type": "stream",
     "text": [
      "Epochs  0, Loss: 0.0029000043869018555\n",
      "Weights: [[[1.0684118  0.96867853]]]\n",
      "Updated coordinates: [[[11 21]]]\n",
      "Gradient min:-6.8480871959764045e-06, max:1.4421301557376864e-06\n",
      "\n",
      "Epochs  1, Loss: 0.003000000026077032\n",
      "Weights: [[[1.1142436  0.94769895]]]\n",
      "Updated coordinates: [[[11 20]]]\n",
      "Gradient min:-1.9160656066874275e-14, max:5.436977856999739e-15\n",
      "\n",
      "Epochs  2, Loss: 0.0029998410027474165\n",
      "Weights: [[[1.0524563 1.0110729]]]\n",
      "Updated coordinates: [[[12 19]]]\n",
      "Gradient min:-0.0005419677472673357, max:0.00026511491159908473\n",
      "\n",
      "Epochs  3, Loss: 0.003000000026077032\n",
      "Weights: [[[1.0018439 1.0629848]]]\n",
      "Updated coordinates: [[[11 21]]]\n",
      "Gradient min:-2.1092254332000238e-10, max:4.006125153832585e-10\n",
      "\n",
      "Epochs  4, Loss: 0.0029999995604157448\n",
      "Weights: [[[0.9589402 1.1069311]]]\n",
      "Updated coordinates: [[[11 22]]]\n",
      "Gradient min:-6.895011779306515e-07, max:6.150119133963017e-07\n",
      "\n",
      "Epochs  5, Loss: 0.003000000026077032\n",
      "Weights: [[[0.92196304 1.144807  ]]]\n",
      "Updated coordinates: [[[10 23]]]\n",
      "Gradient min:-4.771818130113988e-15, max:1.5109776053772155e-15\n",
      "\n",
      "Epochs  6, Loss: 0.0028161825612187386\n",
      "Weights: [[[0.8705426 1.1974607]]]\n",
      "Updated coordinates: [[[10 24]]]\n",
      "Gradient min:-0.008389966562390327, max:0.010628129355609417\n",
      "\n",
      "Epochs  7, Loss: 0.003000000026077032\n",
      "Weights: [[[0.82521254 1.2438778 ]]]\n",
      "Updated coordinates: [[[ 9 25]]]\n",
      "Gradient min:-2.7409380320975174e-10, max:7.382922745380327e-11\n",
      "\n",
      "Epochs  8, Loss: 0.003000000026077032\n",
      "Weights: [[[0.7849715 1.2850839]]]\n",
      "Updated coordinates: [[[ 9 26]]]\n",
      "Gradient min:-6.095433741624447e-15, max:5.888555431026593e-14\n",
      "\n",
      "Epochs  9, Loss: 0.003000000026077032\n",
      "Weights: [[[0.7490571 1.3218596]]]\n",
      "Updated coordinates: [[[ 8 26]]]\n",
      "Gradient min:2.343856742319266e-31, max:1.4771265774014787e-29\n",
      "\n",
      "Epochs 10, Loss: 0.0029999883845448494\n",
      "Weights: [[[0.71688724 1.3548845 ]]]\n",
      "Updated coordinates: [[[ 8 27]]]\n",
      "Gradient min:-1.16651908683707e-05, max:-3.545263098203577e-06\n",
      "\n",
      "Epochs 11, Loss: 0.003000000026077032\n",
      "Weights: [[[0.6879622 1.3845783]]]\n",
      "Updated coordinates: [[[ 7 28]]]\n",
      "Gradient min:-2.3245901729305064e-21, max:-1.0162832330373114e-30\n",
      "\n",
      "Epochs 12, Loss: 0.003000000026077032\n",
      "Weights: [[[0.66188616 1.4113474 ]]]\n",
      "Updated coordinates: [[[ 7 29]]]\n",
      "Gradient min:2.358544025823607e-24, max:4.206221729426087e-24\n",
      "\n",
      "Epochs 13, Loss: 0.003000000026077032\n",
      "Weights: [[[0.6383286 1.435531 ]]]\n",
      "Updated coordinates: [[[ 7 29]]]\n",
      "Gradient min:-1.5130031949528444e-10, max:-4.1624384494731714e-11\n",
      "\n",
      "Epochs 14, Loss: 0.003000000026077032\n",
      "Weights: [[[0.6170096 1.4574167]]]\n",
      "Updated coordinates: [[[ 7 30]]]\n",
      "Gradient min:-1.5967269824043728e-12, max:-5.377575554993408e-13\n",
      "\n",
      "Epochs 15, Loss: 0.003000000026077032\n",
      "Weights: [[[0.59768915 1.4772506 ]]]\n",
      "Updated coordinates: [[[ 6 30]]]\n",
      "Gradient min:-2.0786906809559802e-13, max:1.4641628567121229e-13\n",
      "\n",
      "Epochs 16, Loss: 0.003000000026077032\n",
      "Weights: [[[0.58015984 1.4952458 ]]]\n",
      "Updated coordinates: [[[ 6 31]]]\n",
      "Gradient min:-3.208113896063791e-12, max:-4.5545800128209705e-19\n",
      "\n",
      "Epochs 17, Loss: 0.003000000026077032\n",
      "Weights: [[[0.56424063 1.5115882 ]]]\n",
      "Updated coordinates: [[[ 6 31]]]\n",
      "Gradient min:-1.8662957401716085e-08, max:-2.6573792489772086e-23\n",
      "\n",
      "Epochs 18, Loss: 0.002999979304149747\n",
      "Weights: [[[0.54977256 1.5264615 ]]]\n",
      "Updated coordinates: [[[ 6 31]]]\n",
      "Gradient min:-3.4322413284826325e-06, max:-3.5190838462876455e-25\n",
      "\n",
      "Epochs 19, Loss: 0.0029999958351254463\n",
      "Weights: [[[0.53661513 1.5399804 ]]]\n",
      "Updated coordinates: [[[ 6 32]]]\n",
      "Gradient min:7.411861219786269e-16, max:1.151146307165618e-06\n",
      "\n",
      "Epochs 20, Loss: 0.0029999997932463884\n",
      "Weights: [[[0.52464366 1.5522807 ]]]\n",
      "Updated coordinates: [[[ 5 32]]]\n",
      "Gradient min:-8.644480072053826e-21, max:2.312638791579502e-08\n",
      "\n",
      "Epochs 21, Loss: 0.003000000026077032\n",
      "Weights: [[[0.5137469 1.5634767]]]\n",
      "Updated coordinates: [[[ 5 32]]]\n",
      "Gradient min:-1.0307720899049855e-08, max:-1.1015647613826884e-28\n",
      "\n",
      "Epochs 22, Loss: 0.0029999995604157448\n",
      "Weights: [[[0.5038253 1.5736713]]]\n",
      "Updated coordinates: [[[ 5 32]]]\n",
      "Gradient min:-8.275097940213527e-08, max:2.82157223921943e-31\n",
      "\n",
      "Epochs 23, Loss: 0.0029999972321093082\n",
      "Weights: [[[0.4947894 1.5829594]]]\n",
      "Updated coordinates: [[[ 5 33]]]\n",
      "Gradient min:-5.507580453922856e-07, max:8.855094263230211e-29\n",
      "\n",
      "Epochs 24, Loss: 0.0029999834951013327\n",
      "Weights: [[[0.48655865 1.5914395 ]]]\n",
      "Updated coordinates: [[[ 5 33]]]\n",
      "Gradient min:-3.0510045689879917e-06, max:1.9992224352228592e-22\n",
      "\n",
      "Epochs 25, Loss: 0.0029999283142387867\n",
      "Weights: [[[0.47906038 1.5992329 ]]]\n",
      "Updated coordinates: [[[ 5 33]]]\n",
      "Gradient min:-1.0467792890267447e-05, max:1.7836675181575385e-22\n",
      "\n",
      "Epochs 26, Loss: 0.002999892458319664\n",
      "Weights: [[[0.47222883 1.6062802 ]]]\n",
      "Updated coordinates: [[[ 5 33]]]\n",
      "Gradient min:1.712203411008157e-15, max:8.081425221462268e-06\n",
      "\n",
      "Epochs 27, Loss: 0.0029999699909240007\n",
      "Weights: [[[0.46600446 1.6126506 ]]]\n",
      "Updated coordinates: [[[ 5 33]]]\n",
      "Gradient min:8.910719901270643e-16, max:7.575506970169954e-06\n",
      "\n",
      "Epochs 28, Loss: 0.002999994670972228\n",
      "Weights: [[[0.4603333 1.6184448]]]\n",
      "Updated coordinates: [[[ 5 33]]]\n",
      "Gradient min:1.2188108855504254e-10, max:1.4941256267775316e-06\n",
      "\n",
      "Epochs 29, Loss: 0.002999998861923814\n",
      "Weights: [[[0.45516616 1.623722  ]]]\n",
      "Updated coordinates: [[[ 5 33]]]\n",
      "Gradient min:7.917023481240903e-09, max:2.9568093395937467e-07\n",
      "\n",
      "Epochs 30, Loss: 0.0029999997932463884\n",
      "Weights: [[[0.4504585 1.6285294]]]\n",
      "Updated coordinates: [[[ 5 34]]]\n",
      "Gradient min:3.2505718117192828e-09, max:6.529970875135405e-08\n",
      "\n"
     ]
    }
   ],
   "source": [
    "epochs = 0\n",
    "one_hot_imgs_list =[]\n",
    "while epochs <= 30:\n",
    "    loss, weights, gradients, updated_coords, one_hot_imgs = train_fn(coords, neuron_imgs, img_size)\n",
    "    \n",
    "    one_hot_imgs_list.append(tf.reduce_sum(one_hot_imgs, axis = 0))\n",
    "    \n",
    "    print(\"Epochs {:2d}, Loss: {}\".format(epochs, loss.numpy()))\n",
    "    print(\"Weights: {}\".format(weights))\n",
    "    print(\"Updated coordinates: {}\".format(tf.cast(updated_coords[0]*99, dtype=tf.int32)))\n",
    "    print(\"Gradient min:{}, max:{}\".format(np.min(gradients[0]), np.max(gradients[0])))\n",
    "    print()\n",
    "    epochs+=1"
   ]
  },
  {
   "cell_type": "markdown",
   "metadata": {},
   "source": [
    "# Visualizations"
   ]
  },
  {
   "cell_type": "code",
   "execution_count": 22,
   "metadata": {
    "scrolled": true
   },
   "outputs": [
    {
     "name": "stdout",
     "output_type": "stream",
     "text": [
      "Epochs: 26\n",
      "\n"
     ]
    },
    {
     "data": {
      "image/png": "[encoded data removed]",
      "text/plain": [
       "<Figure size 720x720 with 3 Axes>"
      ]
     },
     "metadata": {},
     "output_type": "display_data"
    },
    {
     "name": "stdout",
     "output_type": "stream",
     "text": [
      "Epochs: 27\n",
      "\n"
     ]
    },
    {
     "data": {
      "image/png": "[encoded data removed]",
      "text/plain": [
       "<Figure size 720x720 with 3 Axes>"
      ]
     },
     "metadata": {},
     "output_type": "display_data"
    },
    {
     "name": "stdout",
     "output_type": "stream",
     "text": [
      "Epochs: 28\n",
      "\n"
     ]
    },
    {
     "data": {
      "image/png": "[encoded data removed]",
      "text/plain": [
       "<Figure size 720x720 with 3 Axes>"
      ]
     },
     "metadata": {},
     "output_type": "display_data"
    },
    {
     "name": "stdout",
     "output_type": "stream",
     "text": [
      "Epochs: 29\n",
      "\n"
     ]
    },
    {
     "data": {
      "image/png": "[encoded data removed]",
      "text/plain": [
       "<Figure size 720x720 with 3 Axes>"
      ]
     },
     "metadata": {},
     "output_type": "display_data"
    },
    {
     "name": "stdout",
     "output_type": "stream",
     "text": [
      "Epochs: 30\n",
      "\n"
     ]
    },
    {
     "data": {
      "image/png": "[encoded data removed]",
      "text/plain": [
       "<Figure size 720x720 with 3 Axes>"
      ]
     },
     "metadata": {},
     "output_type": "display_data"
    }
   ],
   "source": [
    "from utils_vis import plot_comparison\n",
    "\n",
    "captions = ['Neuron Activations', 'Original Coordinates', 'Learned Coordinates']\n",
    "\n",
    "last_n_images = 5\n",
    "for i in range(last_n_images):\n",
    "    index = (len(one_hot_imgs_list)-last_n_images + i)\n",
    "    print(\"Epochs: {}\".format(index))\n",
    "    inp_imgs = [neuron_imgs, stack4plot(ori_one_hot_imgs), one_hot_imgs_list[i]]\n",
    "    plot_comparison(inp_imgs, captions, n_col = 3, figsize = (10,10))"
   ]
  }
 ],
 "metadata": {
  "kernelspec": {
   "display_name": "Python 3",
   "language": "python",
   "name": "python3"
  },
  "language_info": {
   "codemirror_mode": {
    "name": "ipython",
    "version": 3
   },
   "file_extension": ".py",
   "mimetype": "text/x-python",
   "name": "python",
   "nbconvert_exporter": "python",
   "pygments_lexer": "ipython3",
   "version": "3.6.6"
  }
 },
 "nbformat": 4,
 "nbformat_minor": 2
}
