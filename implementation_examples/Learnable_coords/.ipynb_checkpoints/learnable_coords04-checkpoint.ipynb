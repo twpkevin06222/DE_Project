{
 "cells": [
  {
   "cell_type": "code",
   "execution_count": 1,
   "metadata": {},
   "outputs": [],
   "source": [
    "import os \n",
    "import sys\n",
    "os.environ[\"CUDA_VISIBLE_DEVICES\"]=\"0\"  # specify which GPU(s) to be used"
   ]
  },
  {
   "cell_type": "code",
   "execution_count": 2,
   "metadata": {},
   "outputs": [
    {
     "name": "stderr",
     "output_type": "stream",
     "text": [
      "/home/kevinteng/anaconda3/lib/python3.6/site-packages/tensorboard/compat/tensorflow_stub/dtypes.py:541: FutureWarning: Passing (type, 1) or '1type' as a synonym of type is deprecated; in a future version of numpy, it will be understood as (type, (1,)) / '(1,)type'.\n",
      "  _np_qint8 = np.dtype([(\"qint8\", np.int8, 1)])\n",
      "/home/kevinteng/anaconda3/lib/python3.6/site-packages/tensorboard/compat/tensorflow_stub/dtypes.py:542: FutureWarning: Passing (type, 1) or '1type' as a synonym of type is deprecated; in a future version of numpy, it will be understood as (type, (1,)) / '(1,)type'.\n",
      "  _np_quint8 = np.dtype([(\"quint8\", np.uint8, 1)])\n",
      "/home/kevinteng/anaconda3/lib/python3.6/site-packages/tensorboard/compat/tensorflow_stub/dtypes.py:543: FutureWarning: Passing (type, 1) or '1type' as a synonym of type is deprecated; in a future version of numpy, it will be understood as (type, (1,)) / '(1,)type'.\n",
      "  _np_qint16 = np.dtype([(\"qint16\", np.int16, 1)])\n",
      "/home/kevinteng/anaconda3/lib/python3.6/site-packages/tensorboard/compat/tensorflow_stub/dtypes.py:544: FutureWarning: Passing (type, 1) or '1type' as a synonym of type is deprecated; in a future version of numpy, it will be understood as (type, (1,)) / '(1,)type'.\n",
      "  _np_quint16 = np.dtype([(\"quint16\", np.uint16, 1)])\n",
      "/home/kevinteng/anaconda3/lib/python3.6/site-packages/tensorboard/compat/tensorflow_stub/dtypes.py:545: FutureWarning: Passing (type, 1) or '1type' as a synonym of type is deprecated; in a future version of numpy, it will be understood as (type, (1,)) / '(1,)type'.\n",
      "  _np_qint32 = np.dtype([(\"qint32\", np.int32, 1)])\n",
      "/home/kevinteng/anaconda3/lib/python3.6/site-packages/tensorboard/compat/tensorflow_stub/dtypes.py:550: FutureWarning: Passing (type, 1) or '1type' as a synonym of type is deprecated; in a future version of numpy, it will be understood as (type, (1,)) / '(1,)type'.\n",
      "  np_resource = np.dtype([(\"resource\", np.ubyte, 1)])\n"
     ]
    }
   ],
   "source": [
    "sys.path.append('/home/kevinteng/Desktop/DE_Project')\n",
    "import tensorflow as tf\n",
    "import numpy as np \n",
    "import matplotlib.pyplot as plt\n",
    "from coord_conv import CoordConv\n",
    "from tensorflow.keras import Model, Sequential\n",
    "from tensorflow.keras.layers import Conv2D, Flatten, Dense, Softmax,MaxPooling2D,UpSampling2D,Input,ActivityRegularization,Dropout,ReLU,Add"
   ]
  },
  {
   "cell_type": "markdown",
   "metadata": {},
   "source": [
    "---"
   ]
  },
  {
   "cell_type": "markdown",
   "metadata": {},
   "source": [
    "# Helper Functions"
   ]
  },
  {
   "cell_type": "code",
   "execution_count": 3,
   "metadata": {},
   "outputs": [],
   "source": [
    "def create_ran_numbers(img_size):\n",
    "    '''\n",
    "    Function to create random coordinates \n",
    "    \n",
    "    @param img_size: Image size \n",
    "    \n",
    "    return:\n",
    "    random generated x,y coordinates \n",
    "    '''\n",
    "    c1=np.random.randint(img_size, size=1)\n",
    "    c2=np.random.randint(img_size, size=1)\n",
    "    c1=tf.convert_to_tensor( c1,dtype=None,dtype_hint=None,name=None)\n",
    "    c2=tf.convert_to_tensor( c2,dtype=None,dtype_hint=None,name=None)\n",
    "    return c1,c2\n",
    "\n",
    "@tf.function\n",
    "def create_tf_tilecords(coord_list, img_size):\n",
    "    o1,o2=coord_list\n",
    "    multiply=tf.constant([img_size*img_size])\n",
    "    y1=tf.reshape(tf.tile(o1,multiply),[img_size,img_size,1])\n",
    "    y2=tf.reshape(tf.tile(o2,multiply),[img_size,img_size,1])\n",
    "\n",
    "    y=tf.concat((y1,y2),axis=2)\n",
    "\n",
    "    return tf.dtypes.cast(y, tf.float32),tf.dtypes.cast(coord_list, tf.float32)\n",
    "\n",
    "@tf.function\n",
    "def tf_create_onehotcords(dat):\n",
    "    o1,o2=dat\n",
    "    y1=tf.one_hot(o1,100)\n",
    "    y2=tf.one_hot(o2,100)\n",
    "    y2=tf.transpose(y2)\n",
    "    y=tf.math.multiply(y1,y2)\n",
    "    #y=tf.transpose(y)\n",
    "    return y\n",
    "\n",
    "def create_dat_samples(n):\n",
    "    '''\n",
    "    Function to create stacks of coordinates, tiled coordinates, one hot images\n",
    "    @param n: number of neurons\n",
    "    '''\n",
    "    ta = tf.TensorArray(tf.float32, size=0, dynamic_size=True)\n",
    "    tb = tf.TensorArray(tf.float32, size=0, dynamic_size=True)\n",
    "    coords = tf.TensorArray(tf.float32, size=0, dynamic_size = True)\n",
    "    for _ in tf.range(n):\n",
    "        dat=create_ran_numbers(img_size=100)\n",
    "        b1,b2=create_tf_tilecords(dat, 100)\n",
    "        c1=tf_create_onehotcords(dat)\n",
    "        c1=tf.expand_dims(c1, axis=2, name=None)\n",
    "        \n",
    "        #tile coordinates\n",
    "        ta = ta.write(_, b1/99)  #(n, img_size, img_size, 1)\n",
    "        #one hot images\n",
    "        tb = tb.write(_, c1) #(n, img_size, img_size, 1)\n",
    "        #coordinates\n",
    "        coords = coords.write(_, dat) #(n, 2, 1)\n",
    "    return coords.stack(), ta.stack(),tb.stack()\n",
    "\n",
    "def neuron_like_image(n_neurons):\n",
    "    '''\n",
    "    Function to paint neuron-like images\n",
    "     @param n_neurons: number of neurons\n",
    "    '''\n",
    "    _,_,one_hot_imgs = create_dat_samples(n_neurons)\n",
    "    stack_imgs = tf.reduce_sum(one_hot_imgs, axis = 0)\n",
    "    return tf.expand_dims(stack_imgs, axis = 0) #(1, img_size, img_size, 1)\n",
    "\n",
    "def de_conv(input_tensor):\n",
    "    coord01 = CoordConv(x_dim = 100, y_dim = 100, with_r = False, filters = 100,\n",
    "              kernel_size = 1, padding='same', activation='relu')(input_tensor)\n",
    "    conv01 = Conv2D(filters = 50, kernel_size = 1, strides = 1, padding = \"same\", activation = 'relu')(coord01)\n",
    "    conv02 = Conv2D(filters = 50, kernel_size = 1, strides = 1, padding = \"same\", activation = 'relu')(conv01)\n",
    "    conv03 = Conv2D(filters = 100, kernel_size = 1, strides = 1, padding = \"same\", activation = 'relu')(conv02)\n",
    "    conv04 = Conv2D(filters = 100, kernel_size = 1, strides = 1, padding = \"same\", activation = 'relu')(conv03)\n",
    "    conv05 = Conv2D(filters = 1, kernel_size = 1, strides = 1, padding = \"same\" )(conv04)\n",
    "    f1 = Flatten()(conv05)\n",
    "    output = Softmax(axis = -1)(f1)\n",
    "\n",
    "    return output\n",
    "\n",
    "def stack4plot(one_hot_imgs):\n",
    "    '''\n",
    "    Functions to sum all one hot images along axis=0 for easy plot\n",
    "    '''\n",
    "    return tf.squeeze(tf.reduce_sum(one_hot_imgs, axis = 0))"
   ]
  },
  {
   "cell_type": "markdown",
   "metadata": {},
   "source": [
    "---"
   ]
  },
  {
   "cell_type": "markdown",
   "metadata": {},
   "source": [
    "# Build Model"
   ]
  },
  {
   "cell_type": "code",
   "execution_count": 4,
   "metadata": {},
   "outputs": [
    {
     "name": "stdout",
     "output_type": "stream",
     "text": [
      "Model: \"model\"\n",
      "_________________________________________________________________\n",
      "Layer (type)                 Output Shape              Param #   \n",
      "=================================================================\n",
      "input_1 (InputLayer)         [(None, 100, 100, 2)]     0         \n",
      "_________________________________________________________________\n",
      "coord_conv (CoordConv)       (None, 100, 100, 100)     500       \n",
      "_________________________________________________________________\n",
      "conv2d_1 (Conv2D)            (None, 100, 100, 50)      5050      \n",
      "_________________________________________________________________\n",
      "conv2d_2 (Conv2D)            (None, 100, 100, 50)      2550      \n",
      "_________________________________________________________________\n",
      "conv2d_3 (Conv2D)            (None, 100, 100, 100)     5100      \n",
      "_________________________________________________________________\n",
      "conv2d_4 (Conv2D)            (None, 100, 100, 100)     10100     \n",
      "_________________________________________________________________\n",
      "conv2d_5 (Conv2D)            (None, 100, 100, 1)       101       \n",
      "_________________________________________________________________\n",
      "flatten (Flatten)            (None, 10000)             0         \n",
      "_________________________________________________________________\n",
      "softmax (Softmax)            (None, 10000)             0         \n",
      "=================================================================\n",
      "Total params: 23,401\n",
      "Trainable params: 23,401\n",
      "Non-trainable params: 0\n",
      "_________________________________________________________________\n"
     ]
    }
   ],
   "source": [
    "inp = Input(shape=(100, 100,2)) #(batch_size, img_size, img_size, 2)\n",
    "de_coordconv = Model(inp, de_conv(inp))\n",
    "\n",
    "de_coordconv.summary()"
   ]
  },
  {
   "cell_type": "code",
   "execution_count": 5,
   "metadata": {},
   "outputs": [],
   "source": [
    "de_coordconv.load_weights(\"best_class_model100_02.hdf5\")"
   ]
  },
  {
   "cell_type": "markdown",
   "metadata": {},
   "source": [
    "## Custom Layer"
   ]
  },
  {
   "cell_type": "code",
   "execution_count": 7,
   "metadata": {},
   "outputs": [],
   "source": [
    " class learnable_coords(tf.Module):\n",
    "    def __init__(self, coords):\n",
    "        super(learnable_coords, self).__init__()\n",
    "        self.learned_coords = tf.Variable((coords), trainable = True)\n",
    "\n",
    "    def __call__(self, img_size):\n",
    "        y = self.learned_coords/(img_size-1) #normalize the coordinates\n",
    "        y = tf.clip_by_value(y, clip_value_min=0, clip_value_max=1) #clip values\n",
    "        return y"
   ]
  },
  {
   "cell_type": "code",
   "execution_count": 8,
   "metadata": {
    "scrolled": true
   },
   "outputs": [
    {
     "data": {
      "text/plain": [
       "<matplotlib.image.AxesImage at 0x7f6cb47cd438>"
      ]
     },
     "execution_count": 8,
     "metadata": {},
     "output_type": "execute_result"
    },
    {
     "data": {
      "image/png": "[encoded data removed]",
      "text/plain": [
       "<Figure size 432x288 with 1 Axes>"
      ]
     },
     "metadata": {},
     "output_type": "display_data"
    }
   ],
   "source": [
    "neuron_imgs = neuron_like_image(1)\n",
    "plt.imshow(tf.squeeze(neuron_imgs), cmap='gray')"
   ]
  },
  {
   "cell_type": "code",
   "execution_count": 11,
   "metadata": {},
   "outputs": [
    {
     "name": "stdout",
     "output_type": "stream",
     "text": [
      "[1 1 1 2]\n"
     ]
    }
   ],
   "source": [
    "n_neurons = 1\n",
    "img_size = 100\n",
    "coords,_, ori_one_hot_imgs = create_dat_samples(n_neurons)\n",
    "coords = tf.reshape(coords, [n_neurons, 1,1,2])\n",
    "tf.print(tf.shape(coords))"
   ]
  },
  {
   "cell_type": "code",
   "execution_count": 14,
   "metadata": {},
   "outputs": [],
   "source": [
    "lr=0.1\n",
    "l_coords = learnable_coords(coords)\n",
    "opt = tf.keras.optimizers.Adam(lr)\n",
    "loss_fn = tf.losses.MeanSquaredError()\n",
    "\n",
    "@tf.function\n",
    "def train_fn(coords, neuron_imgs, img_size):\n",
    "    with tf.GradientTape() as tape:\n",
    "        #custom layer for updating coordinates\n",
    "        updated_coords = l_coords(img_size)\n",
    "        m1 = tf.constant([1,img_size,img_size,1], tf.int32) #multiplier for tiling \n",
    "        #tile coordinates\n",
    "        tile_cd = tf.tile(updated_coords, m1)\n",
    "        #de-coordconv model\n",
    "        de_coordconv.trainable = False #freeze de-coordconv\n",
    "        one_hot_imgs = tf.reshape(de_coordconv(tile_cd),[-1,img_size, img_size, 1]) #(n_neurons, img_size, img_size, 1)\n",
    "        similarity_score = tf.tensordot(one_hot_imgs, neuron_imgs, [[1,2,3],[0,1,2]]) #(n_neurons, 1)\n",
    "        mul = tf.reshape(similarity_score, [-1,1,1,1])*one_hot_imgs #multiplication\n",
    "        mul = tf.reduce_sum(mul, axis=0) #(img_size, img_size, 1)\n",
    "        loss = loss_fn(tf.squeeze(neuron_imgs), tf.squeeze(mul))\n",
    "        \n",
    "    gradients = tape.gradient(loss, l_coords.trainable_variables)\n",
    "    opt.apply_gradients(zip(gradients, l_coords.trainable_variables))\n",
    "    \n",
    "    return loss, gradients, updated_coords, one_hot_imgs"
   ]
  },
  {
   "cell_type": "markdown",
   "metadata": {},
   "source": [
    "---"
   ]
  },
  {
   "cell_type": "markdown",
   "metadata": {},
   "source": [
    "# Training "
   ]
  },
  {
   "cell_type": "code",
   "execution_count": 16,
   "metadata": {
    "scrolled": true
   },
   "outputs": [
    {
     "name": "stdout",
     "output_type": "stream",
     "text": [
      "Epochs  0, Loss: 9.999999747378752e-05\n",
      "Updated coordinates: [[[49 27]]]\n",
      "Gradient min:0.0, max:0.0\n",
      "\n",
      "Epochs  1, Loss: 9.999999747378752e-05\n",
      "Updated coordinates: [[[49 27]]]\n",
      "Gradient min:0.0, max:0.0\n",
      "\n",
      "Epochs  2, Loss: 9.999999747378752e-05\n",
      "Updated coordinates: [[[49 27]]]\n",
      "Gradient min:0.0, max:0.0\n",
      "\n",
      "Epochs  3, Loss: 9.999999747378752e-05\n",
      "Updated coordinates: [[[49 27]]]\n",
      "Gradient min:0.0, max:0.0\n",
      "\n",
      "Epochs  4, Loss: 9.999999747378752e-05\n",
      "Updated coordinates: [[[49 27]]]\n",
      "Gradient min:0.0, max:0.0\n",
      "\n",
      "Epochs  5, Loss: 9.999999747378752e-05\n",
      "Updated coordinates: [[[49 27]]]\n",
      "Gradient min:0.0, max:0.0\n",
      "\n",
      "Epochs  6, Loss: 9.999999747378752e-05\n",
      "Updated coordinates: [[[49 27]]]\n",
      "Gradient min:0.0, max:0.0\n",
      "\n",
      "Epochs  7, Loss: 9.999999747378752e-05\n",
      "Updated coordinates: [[[49 27]]]\n",
      "Gradient min:0.0, max:0.0\n",
      "\n",
      "Epochs  8, Loss: 9.999999747378752e-05\n",
      "Updated coordinates: [[[49 27]]]\n",
      "Gradient min:0.0, max:0.0\n",
      "\n",
      "Epochs  9, Loss: 9.999999747378752e-05\n",
      "Updated coordinates: [[[49 27]]]\n",
      "Gradient min:0.0, max:0.0\n",
      "\n",
      "Epochs 10, Loss: 9.999999747378752e-05\n",
      "Updated coordinates: [[[49 27]]]\n",
      "Gradient min:0.0, max:0.0\n",
      "\n",
      "Epochs 11, Loss: 9.999999747378752e-05\n",
      "Updated coordinates: [[[49 27]]]\n",
      "Gradient min:0.0, max:0.0\n",
      "\n",
      "Epochs 12, Loss: 9.999999747378752e-05\n",
      "Updated coordinates: [[[49 27]]]\n",
      "Gradient min:0.0, max:0.0\n",
      "\n",
      "Epochs 13, Loss: 9.999999747378752e-05\n",
      "Updated coordinates: [[[49 27]]]\n",
      "Gradient min:0.0, max:0.0\n",
      "\n",
      "Epochs 14, Loss: 9.999999747378752e-05\n",
      "Updated coordinates: [[[49 27]]]\n",
      "Gradient min:0.0, max:0.0\n",
      "\n",
      "Epochs 15, Loss: 9.999999747378752e-05\n",
      "Updated coordinates: [[[49 27]]]\n",
      "Gradient min:0.0, max:0.0\n",
      "\n",
      "Epochs 16, Loss: 9.999999747378752e-05\n",
      "Updated coordinates: [[[49 27]]]\n",
      "Gradient min:0.0, max:0.0\n",
      "\n",
      "Epochs 17, Loss: 9.999999747378752e-05\n",
      "Updated coordinates: [[[49 27]]]\n",
      "Gradient min:0.0, max:0.0\n",
      "\n",
      "Epochs 18, Loss: 9.999999747378752e-05\n",
      "Updated coordinates: [[[49 27]]]\n",
      "Gradient min:0.0, max:0.0\n",
      "\n",
      "Epochs 19, Loss: 9.999999747378752e-05\n",
      "Updated coordinates: [[[49 27]]]\n",
      "Gradient min:0.0, max:0.0\n",
      "\n",
      "Epochs 20, Loss: 9.999999747378752e-05\n",
      "Updated coordinates: [[[49 27]]]\n",
      "Gradient min:0.0, max:0.0\n",
      "\n",
      "Epochs 21, Loss: 9.999999747378752e-05\n",
      "Updated coordinates: [[[49 27]]]\n",
      "Gradient min:0.0, max:0.0\n",
      "\n",
      "Epochs 22, Loss: 9.999999747378752e-05\n",
      "Updated coordinates: [[[49 27]]]\n",
      "Gradient min:0.0, max:0.0\n",
      "\n",
      "Epochs 23, Loss: 9.999999747378752e-05\n",
      "Updated coordinates: [[[49 27]]]\n",
      "Gradient min:0.0, max:0.0\n",
      "\n",
      "Epochs 24, Loss: 9.999999747378752e-05\n",
      "Updated coordinates: [[[49 27]]]\n",
      "Gradient min:0.0, max:0.0\n",
      "\n",
      "Epochs 25, Loss: 9.999999747378752e-05\n",
      "Updated coordinates: [[[49 27]]]\n",
      "Gradient min:0.0, max:0.0\n",
      "\n",
      "Epochs 26, Loss: 9.999999747378752e-05\n",
      "Updated coordinates: [[[49 27]]]\n",
      "Gradient min:0.0, max:0.0\n",
      "\n",
      "Epochs 27, Loss: 9.999999747378752e-05\n",
      "Updated coordinates: [[[49 27]]]\n",
      "Gradient min:0.0, max:0.0\n",
      "\n",
      "Epochs 28, Loss: 9.999999747378752e-05\n",
      "Updated coordinates: [[[49 27]]]\n",
      "Gradient min:0.0, max:0.0\n",
      "\n",
      "Epochs 29, Loss: 9.999999747378752e-05\n",
      "Updated coordinates: [[[49 27]]]\n",
      "Gradient min:0.0, max:0.0\n",
      "\n",
      "Epochs 30, Loss: 9.999999747378752e-05\n",
      "Updated coordinates: [[[49 27]]]\n",
      "Gradient min:0.0, max:0.0\n",
      "\n",
      "Epochs 31, Loss: 9.999999747378752e-05\n",
      "Updated coordinates: [[[49 27]]]\n",
      "Gradient min:0.0, max:0.0\n",
      "\n",
      "Epochs 32, Loss: 9.999999747378752e-05\n",
      "Updated coordinates: [[[49 27]]]\n",
      "Gradient min:0.0, max:0.0\n",
      "\n",
      "Epochs 33, Loss: 9.999999747378752e-05\n",
      "Updated coordinates: [[[49 27]]]\n",
      "Gradient min:0.0, max:0.0\n",
      "\n",
      "Epochs 34, Loss: 9.999999747378752e-05\n",
      "Updated coordinates: [[[49 27]]]\n",
      "Gradient min:0.0, max:0.0\n",
      "\n",
      "Epochs 35, Loss: 9.999999747378752e-05\n",
      "Updated coordinates: [[[49 27]]]\n",
      "Gradient min:0.0, max:0.0\n",
      "\n",
      "Epochs 36, Loss: 9.999999747378752e-05\n",
      "Updated coordinates: [[[49 27]]]\n",
      "Gradient min:0.0, max:0.0\n",
      "\n",
      "Epochs 37, Loss: 9.999999747378752e-05\n",
      "Updated coordinates: [[[49 27]]]\n",
      "Gradient min:0.0, max:0.0\n",
      "\n",
      "Epochs 38, Loss: 9.999999747378752e-05\n",
      "Updated coordinates: [[[49 27]]]\n",
      "Gradient min:0.0, max:0.0\n",
      "\n",
      "Epochs 39, Loss: 9.999999747378752e-05\n",
      "Updated coordinates: [[[49 27]]]\n",
      "Gradient min:0.0, max:0.0\n",
      "\n",
      "Epochs 40, Loss: 9.999999747378752e-05\n",
      "Updated coordinates: [[[49 27]]]\n",
      "Gradient min:0.0, max:0.0\n",
      "\n",
      "Epochs 41, Loss: 9.999999747378752e-05\n",
      "Updated coordinates: [[[49 27]]]\n",
      "Gradient min:0.0, max:0.0\n",
      "\n",
      "Epochs 42, Loss: 9.999999747378752e-05\n",
      "Updated coordinates: [[[49 27]]]\n",
      "Gradient min:0.0, max:0.0\n",
      "\n",
      "Epochs 43, Loss: 9.999999747378752e-05\n",
      "Updated coordinates: [[[49 27]]]\n",
      "Gradient min:0.0, max:0.0\n",
      "\n",
      "Epochs 44, Loss: 9.999999747378752e-05\n",
      "Updated coordinates: [[[49 27]]]\n",
      "Gradient min:0.0, max:0.0\n",
      "\n",
      "Epochs 45, Loss: 9.999999747378752e-05\n",
      "Updated coordinates: [[[49 27]]]\n",
      "Gradient min:0.0, max:0.0\n",
      "\n",
      "Epochs 46, Loss: 9.999999747378752e-05\n",
      "Updated coordinates: [[[49 27]]]\n",
      "Gradient min:0.0, max:0.0\n",
      "\n",
      "Epochs 47, Loss: 9.999999747378752e-05\n",
      "Updated coordinates: [[[49 27]]]\n",
      "Gradient min:0.0, max:0.0\n",
      "\n",
      "Epochs 48, Loss: 9.999999747378752e-05\n",
      "Updated coordinates: [[[49 27]]]\n",
      "Gradient min:0.0, max:0.0\n",
      "\n",
      "Epochs 49, Loss: 9.999999747378752e-05\n",
      "Updated coordinates: [[[49 27]]]\n",
      "Gradient min:0.0, max:0.0\n",
      "\n",
      "Epochs 50, Loss: 9.999999747378752e-05\n",
      "Updated coordinates: [[[49 27]]]\n",
      "Gradient min:0.0, max:0.0\n",
      "\n",
      "Epochs 51, Loss: 9.999999747378752e-05\n",
      "Updated coordinates: [[[49 27]]]\n",
      "Gradient min:0.0, max:0.0\n",
      "\n",
      "Epochs 52, Loss: 9.999999747378752e-05\n",
      "Updated coordinates: [[[49 27]]]\n",
      "Gradient min:0.0, max:0.0\n",
      "\n",
      "Epochs 53, Loss: 9.999999747378752e-05\n",
      "Updated coordinates: [[[49 27]]]\n",
      "Gradient min:0.0, max:0.0\n",
      "\n",
      "Epochs 54, Loss: 9.999999747378752e-05\n",
      "Updated coordinates: [[[49 27]]]\n",
      "Gradient min:0.0, max:0.0\n",
      "\n",
      "Epochs 55, Loss: 9.999999747378752e-05\n",
      "Updated coordinates: [[[49 27]]]\n",
      "Gradient min:0.0, max:0.0\n",
      "\n",
      "Epochs 56, Loss: 9.999999747378752e-05\n",
      "Updated coordinates: [[[49 27]]]\n",
      "Gradient min:0.0, max:0.0\n",
      "\n",
      "Epochs 57, Loss: 9.999999747378752e-05\n",
      "Updated coordinates: [[[49 27]]]\n",
      "Gradient min:0.0, max:0.0\n",
      "\n",
      "Epochs 58, Loss: 9.999999747378752e-05\n",
      "Updated coordinates: [[[49 27]]]\n",
      "Gradient min:0.0, max:0.0\n",
      "\n",
      "Epochs 59, Loss: 9.999999747378752e-05\n",
      "Updated coordinates: [[[49 27]]]\n",
      "Gradient min:0.0, max:0.0\n",
      "\n",
      "Epochs 60, Loss: 9.999999747378752e-05\n",
      "Updated coordinates: [[[49 27]]]\n",
      "Gradient min:0.0, max:0.0\n",
      "\n",
      "Epochs 61, Loss: 9.999999747378752e-05\n",
      "Updated coordinates: [[[49 27]]]\n",
      "Gradient min:0.0, max:0.0\n",
      "\n",
      "Epochs 62, Loss: 9.999999747378752e-05\n",
      "Updated coordinates: [[[49 27]]]\n",
      "Gradient min:0.0, max:0.0\n",
      "\n",
      "Epochs 63, Loss: 9.999999747378752e-05\n",
      "Updated coordinates: [[[49 27]]]\n",
      "Gradient min:0.0, max:0.0\n",
      "\n",
      "Epochs 64, Loss: 9.999999747378752e-05\n",
      "Updated coordinates: [[[49 27]]]\n",
      "Gradient min:0.0, max:0.0\n",
      "\n",
      "Epochs 65, Loss: 9.999999747378752e-05\n",
      "Updated coordinates: [[[49 27]]]\n",
      "Gradient min:0.0, max:0.0\n",
      "\n",
      "Epochs 66, Loss: 9.999999747378752e-05\n",
      "Updated coordinates: [[[49 27]]]\n",
      "Gradient min:0.0, max:0.0\n",
      "\n",
      "Epochs 67, Loss: 9.999999747378752e-05\n",
      "Updated coordinates: [[[49 27]]]\n",
      "Gradient min:0.0, max:0.0\n",
      "\n",
      "Epochs 68, Loss: 9.999999747378752e-05\n",
      "Updated coordinates: [[[49 27]]]\n",
      "Gradient min:0.0, max:0.0\n",
      "\n",
      "Epochs 69, Loss: 9.999999747378752e-05\n",
      "Updated coordinates: [[[49 27]]]\n",
      "Gradient min:0.0, max:0.0\n",
      "\n",
      "Epochs 70, Loss: 9.999999747378752e-05\n",
      "Updated coordinates: [[[49 27]]]\n",
      "Gradient min:0.0, max:0.0\n",
      "\n",
      "Epochs 71, Loss: 9.999999747378752e-05\n",
      "Updated coordinates: [[[49 27]]]\n",
      "Gradient min:0.0, max:0.0\n",
      "\n",
      "Epochs 72, Loss: 9.999999747378752e-05\n",
      "Updated coordinates: [[[49 27]]]\n",
      "Gradient min:0.0, max:0.0\n",
      "\n",
      "Epochs 73, Loss: 9.999999747378752e-05\n",
      "Updated coordinates: [[[49 27]]]\n",
      "Gradient min:0.0, max:0.0\n",
      "\n",
      "Epochs 74, Loss: 9.999999747378752e-05\n",
      "Updated coordinates: [[[49 27]]]\n",
      "Gradient min:0.0, max:0.0\n",
      "\n",
      "Epochs 75, Loss: 9.999999747378752e-05\n",
      "Updated coordinates: [[[49 27]]]\n",
      "Gradient min:0.0, max:0.0\n",
      "\n",
      "Epochs 76, Loss: 9.999999747378752e-05\n",
      "Updated coordinates: [[[49 27]]]\n",
      "Gradient min:0.0, max:0.0\n",
      "\n",
      "Epochs 77, Loss: 9.999999747378752e-05\n",
      "Updated coordinates: [[[49 27]]]\n",
      "Gradient min:0.0, max:0.0\n",
      "\n",
      "Epochs 78, Loss: 9.999999747378752e-05\n",
      "Updated coordinates: [[[49 27]]]\n",
      "Gradient min:0.0, max:0.0\n",
      "\n",
      "Epochs 79, Loss: 9.999999747378752e-05\n",
      "Updated coordinates: [[[49 27]]]\n",
      "Gradient min:0.0, max:0.0\n",
      "\n",
      "Epochs 80, Loss: 9.999999747378752e-05\n",
      "Updated coordinates: [[[49 27]]]\n",
      "Gradient min:0.0, max:0.0\n",
      "\n",
      "Epochs 81, Loss: 9.999999747378752e-05\n",
      "Updated coordinates: [[[49 27]]]\n",
      "Gradient min:0.0, max:0.0\n",
      "\n",
      "Epochs 82, Loss: 9.999999747378752e-05\n",
      "Updated coordinates: [[[49 27]]]\n",
      "Gradient min:0.0, max:0.0\n",
      "\n",
      "Epochs 83, Loss: 9.999999747378752e-05\n",
      "Updated coordinates: [[[49 27]]]\n",
      "Gradient min:0.0, max:0.0\n",
      "\n",
      "Epochs 84, Loss: 9.999999747378752e-05\n",
      "Updated coordinates: [[[49 27]]]\n",
      "Gradient min:0.0, max:0.0\n",
      "\n",
      "Epochs 85, Loss: 9.999999747378752e-05\n",
      "Updated coordinates: [[[49 27]]]\n",
      "Gradient min:0.0, max:0.0\n",
      "\n",
      "Epochs 86, Loss: 9.999999747378752e-05\n",
      "Updated coordinates: [[[49 27]]]\n",
      "Gradient min:0.0, max:0.0\n",
      "\n",
      "Epochs 87, Loss: 9.999999747378752e-05\n",
      "Updated coordinates: [[[49 27]]]\n",
      "Gradient min:0.0, max:0.0\n",
      "\n"
     ]
    },
    {
     "name": "stdout",
     "output_type": "stream",
     "text": [
      "Epochs 88, Loss: 9.999999747378752e-05\n",
      "Updated coordinates: [[[49 27]]]\n",
      "Gradient min:0.0, max:0.0\n",
      "\n",
      "Epochs 89, Loss: 9.999999747378752e-05\n",
      "Updated coordinates: [[[49 27]]]\n",
      "Gradient min:0.0, max:0.0\n",
      "\n",
      "Epochs 90, Loss: 9.999999747378752e-05\n",
      "Updated coordinates: [[[49 27]]]\n",
      "Gradient min:0.0, max:0.0\n",
      "\n",
      "Epochs 91, Loss: 9.999999747378752e-05\n",
      "Updated coordinates: [[[49 27]]]\n",
      "Gradient min:0.0, max:0.0\n",
      "\n",
      "Epochs 92, Loss: 9.999999747378752e-05\n",
      "Updated coordinates: [[[49 27]]]\n",
      "Gradient min:0.0, max:0.0\n",
      "\n",
      "Epochs 93, Loss: 9.999999747378752e-05\n",
      "Updated coordinates: [[[49 27]]]\n",
      "Gradient min:0.0, max:0.0\n",
      "\n",
      "Epochs 94, Loss: 9.999999747378752e-05\n",
      "Updated coordinates: [[[49 27]]]\n",
      "Gradient min:0.0, max:0.0\n",
      "\n",
      "Epochs 95, Loss: 9.999999747378752e-05\n",
      "Updated coordinates: [[[49 27]]]\n",
      "Gradient min:0.0, max:0.0\n",
      "\n",
      "Epochs 96, Loss: 9.999999747378752e-05\n",
      "Updated coordinates: [[[49 27]]]\n",
      "Gradient min:0.0, max:0.0\n",
      "\n",
      "Epochs 97, Loss: 9.999999747378752e-05\n",
      "Updated coordinates: [[[49 27]]]\n",
      "Gradient min:0.0, max:0.0\n",
      "\n",
      "Epochs 98, Loss: 9.999999747378752e-05\n",
      "Updated coordinates: [[[49 27]]]\n",
      "Gradient min:0.0, max:0.0\n",
      "\n",
      "Epochs 99, Loss: 9.999999747378752e-05\n",
      "Updated coordinates: [[[49 27]]]\n",
      "Gradient min:0.0, max:0.0\n",
      "\n",
      "Epochs 100, Loss: 9.999999747378752e-05\n",
      "Updated coordinates: [[[49 27]]]\n",
      "Gradient min:0.0, max:0.0\n",
      "\n"
     ]
    }
   ],
   "source": [
    "epochs = 0\n",
    "max_epochs = 100\n",
    "one_hot_imgs_list =[]\n",
    "while epochs <= max_epochs:\n",
    "    loss, gradients, updated_coords, one_hot_imgs = train_fn(coords, neuron_imgs, img_size)\n",
    "    \n",
    "    one_hot_imgs_list.append(tf.reduce_sum(one_hot_imgs, axis = 0))\n",
    "    \n",
    "    print(\"Epochs {:2d}, Loss: {}\".format(epochs, loss.numpy()))\n",
    "    print(\"Updated coordinates: {}\".format(tf.cast(updated_coords[0]*99, dtype=tf.int32)))\n",
    "    print(\"Gradient min:{}, max:{}\".format(np.min(gradients[0]), np.max(gradients[0])))\n",
    "    print()\n",
    "    epochs+=1"
   ]
  },
  {
   "cell_type": "markdown",
   "metadata": {},
   "source": [
    "# Visualizations"
   ]
  },
  {
   "cell_type": "code",
   "execution_count": 17,
   "metadata": {
    "scrolled": true
   },
   "outputs": [
    {
     "name": "stdout",
     "output_type": "stream",
     "text": [
      "Epochs: 96\n",
      "\n"
     ]
    },
    {
     "data": {
      "image/png": "[encoded data removed]",
      "text/plain": [
       "<Figure size 720x720 with 3 Axes>"
      ]
     },
     "metadata": {},
     "output_type": "display_data"
    },
    {
     "name": "stdout",
     "output_type": "stream",
     "text": [
      "Epochs: 97\n",
      "\n"
     ]
    },
    {
     "data": {
      "image/png": "[encoded data removed]",
      "text/plain": [
       "<Figure size 720x720 with 3 Axes>"
      ]
     },
     "metadata": {},
     "output_type": "display_data"
    },
    {
     "name": "stdout",
     "output_type": "stream",
     "text": [
      "Epochs: 98\n",
      "\n"
     ]
    },
    {
     "data": {
      "image/png": "[encoded data removed]",
      "text/plain": [
       "<Figure size 720x720 with 3 Axes>"
      ]
     },
     "metadata": {},
     "output_type": "display_data"
    },
    {
     "name": "stdout",
     "output_type": "stream",
     "text": [
      "Epochs: 99\n",
      "\n"
     ]
    },
    {
     "data": {
      "image/png": "[encoded data removed]",
      "text/plain": [
       "<Figure size 720x720 with 3 Axes>"
      ]
     },
     "metadata": {},
     "output_type": "display_data"
    },
    {
     "name": "stdout",
     "output_type": "stream",
     "text": [
      "Epochs: 100\n",
      "\n"
     ]
    },
    {
     "data": {
      "image/png": "[encoded data removed]",
      "text/plain": [
       "<Figure size 720x720 with 3 Axes>"
      ]
     },
     "metadata": {},
     "output_type": "display_data"
    }
   ],
   "source": [
    "from utils_vis import plot_comparison\n",
    "\n",
    "captions = ['Neuron Activations', 'Original Coordinates', 'Learned Coordinates']\n",
    "\n",
    "last_n_images = 5\n",
    "for i in range(last_n_images):\n",
    "    index = (len(one_hot_imgs_list)-last_n_images + i)\n",
    "    print(\"Epochs: {}\".format(index))\n",
    "    inp_imgs = [neuron_imgs, stack4plot(ori_one_hot_imgs), one_hot_imgs_list[i]]\n",
    "    plot_comparison(inp_imgs, captions, n_col = 3, figsize = (10,10))"
   ]
  }
 ],
 "metadata": {
  "kernelspec": {
   "display_name": "Python 3",
   "language": "python",
   "name": "python3"
  },
  "language_info": {
   "codemirror_mode": {
    "name": "ipython",
    "version": 3
   },
   "file_extension": ".py",
   "mimetype": "text/x-python",
   "name": "python",
   "nbconvert_exporter": "python",
   "pygments_lexer": "ipython3",
   "version": "3.6.6"
  }
 },
 "nbformat": 4,
 "nbformat_minor": 2
}
