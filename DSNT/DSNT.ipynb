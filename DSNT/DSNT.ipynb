{
 "cells": [
  {
   "cell_type": "markdown",
   "metadata": {},
   "source": [
    "# Differentiable Spatial to Numerical Transform (DSNT)"
   ]
  },
  {
   "cell_type": "markdown",
   "metadata": {},
   "source": [
    "A dummy implementation of DSNT layer from the paper \"Numerical Coordinate Regression with Convolutional Neural Networks\" by Aiden Nibali, Zhen He, Stuart Morgan, Luke Prendergast. Link: https://arxiv.org/abs/1801.07372\n",
    "\n",
    "- Main references: https://github.com/ashwhall/dsnt/blob/master/DSNT_example.ipynb"
   ]
  },
  {
   "cell_type": "code",
   "execution_count": 2,
   "metadata": {},
   "outputs": [],
   "source": [
    "import tensorflow as tf\n",
    "import numpy as np\n",
    "import cv2 \n",
    "import matplotlib.pyplot as plt\n",
    "%matplotlib inline"
   ]
  },
  {
   "cell_type": "markdown",
   "metadata": {},
   "source": [
    "# Data Generation "
   ]
  },
  {
   "cell_type": "code",
   "execution_count": 3,
   "metadata": {
    "scrolled": false
   },
   "outputs": [
    {
     "name": "stdout",
     "output_type": "stream",
     "text": [
      "\n",
      "200 images total\n",
      "training: 150\n",
      "testing : 50\n"
     ]
    }
   ],
   "source": [
    "img_size = 150\n",
    "image_count = 200 #number of images \n",
    "train_percent = 0.75\n",
    "train_image_count = int(train_percent * image_count)\n",
    "test_image_count = image_count - train_image_count\n",
    "\n",
    "images = []\n",
    "targets = [] #centroid coordinates of circle \n",
    "for _ in range(200):\n",
    "    img = np.zeros((img_size, img_size, 3))\n",
    "    row, col = np.random.randint(0, img_size), np.random.randint(0, img_size)\n",
    "    radius = np.random.randint(8, 15)\n",
    "    b, g, r = np.random.randint(0, 255), np.random.randint(0, 255), np.random.randint(0, 255)\n",
    "    cv2.circle(img, (row, col), radius, (b, g, r), -1)\n",
    "    images.append(img)\n",
    "    norm_row = row / img_size\n",
    "    norm_col = col / img_size\n",
    "    targets.append([norm_row, norm_col])\n",
    "\n",
    "images = np.array(images, dtype = 'float32')\n",
    "#normalize image:\n",
    "images = images/255.0\n",
    "targets = np.array(targets, dtype = 'float32')\n",
    "train_images = images[:train_image_count]\n",
    "test_images = images[train_image_count:]\n",
    "train_targets = targets[:train_image_count]\n",
    "test_targets = targets[train_image_count:]\n",
    "\n",
    "print('''\n",
    "{} images total\n",
    "training: {}\n",
    "testing : {}'''.format(image_count, train_image_count, test_image_count))"
   ]
  },
  {
   "cell_type": "code",
   "execution_count": 4,
   "metadata": {
    "scrolled": true
   },
   "outputs": [
    {
     "data": {
      "image/png": "[encoded data removed]",
      "text/plain": [
       "<Figure size 432x288 with 1 Axes>"
      ]
     },
     "metadata": {},
     "output_type": "display_data"
    }
   ],
   "source": [
    "#visualize image:\n",
    "for i in range(len(images)):\n",
    "    plt.imshow(images[i])\n",
    "    plt.show()\n",
    "    break\n",
    "    \n",
    "#     if input()==\"exit\":\n",
    "#         break"
   ]
  },
  {
   "cell_type": "markdown",
   "metadata": {},
   "source": [
    "# Model "
   ]
  },
  {
   "cell_type": "markdown",
   "metadata": {},
   "source": [
    "By using dilated convolutional layers, each time downsampling by a factor of 2. The network finishes with a kernel-size 1 convolution, producing a single channel heat-map."
   ]
  },
  {
   "cell_type": "code",
   "execution_count": 5,
   "metadata": {},
   "outputs": [],
   "source": [
    "from tensorflow.keras import Model, Sequential \n",
    "from tensorflow.keras.layers import Conv2D, ReLU, Dense, Flatten \n",
    "from tensorflow.keras.layers import MaxPooling2D\n",
    "import dsnt #https://github.com/ashwhall/dsnt/blob/master/dsnt.py\n",
    "\n",
    "#to do Coordconv implementation\n",
    "class model(Model):\n",
    "    def __init__(self):\n",
    "        super(model, self).__init__()\n",
    "        self.inference_net = Sequential([\n",
    "            tf.keras.layers.InputLayer(input_shape=(150, 150, 3)),\n",
    "            Conv2D(filters = 166, kernel_size = 3, strides = 1, \n",
    "                    padding = \"same\", dilation_rate = 1,  \n",
    "                   activation = 'relu'), \n",
    "            MaxPooling2D(pool_size = 2, strides = 2, padding = 'same'),\n",
    "\n",
    "            Conv2D(filters = 32, kernel_size = 3, strides = 1, \n",
    "                    padding = \"same\", dilation_rate = 2,  \n",
    "                   activation = 'relu'), \n",
    "            MaxPooling2D(pool_size = 2, strides = 2, padding = 'same'),\n",
    "\n",
    "            Conv2D(filters = 64, kernel_size = 3, strides = 1, \n",
    "                    padding = \"same\", dilation_rate = 4,  \n",
    "                   activation = 'relu'), \n",
    "            MaxPooling2D(pool_size = 2, strides = 2, padding = 'same'),\n",
    "\n",
    "            Conv2D(filters = 128, kernel_size = 3, strides = 1, \n",
    "                    padding = \"same\", dilation_rate = 8,  \n",
    "                   activation = 'relu'), \n",
    "            MaxPooling2D(pool_size = 2, strides = 2, padding = 'same'),\n",
    "\n",
    "            Conv2D(filters = 256, kernel_size = 3, strides = 1, \n",
    "                    padding = \"same\", dilation_rate = 16,  \n",
    "                   activation = 'relu'), \n",
    "            MaxPooling2D(pool_size = 2, strides = 2, padding = 'same'),\n",
    "\n",
    "            Conv2D(filters = 256, kernel_size = 3, strides = 1, \n",
    "                    padding = \"same\", dilation_rate = 1,  \n",
    "                   activation = 'relu'), \n",
    "            MaxPooling2D(pool_size = 2, strides = 2, padding = 'same'),\n",
    "\n",
    "            Conv2D(filters = 1, kernel_size = 1, strides = 1, \n",
    "                    padding = \"same\"),  \n",
    "        ])\n",
    "    \n",
    "    def output(self, inp):\n",
    "        inference = self.inference_net(inp)\n",
    "        norm_heatmap, coords = dsnt.dsnt(inference)\n",
    "        \n",
    "        return norm_heatmap, coords"
   ]
  },
  {
   "cell_type": "code",
   "execution_count": 6,
   "metadata": {},
   "outputs": [],
   "source": [
    "BATCH_SIZE = 32\n",
    "MAX_STEP = 5000\n",
    "lr = 6e-5\n",
    "\n",
    "model = model()\n",
    "\n",
    "ds_train = tf.data.Dataset.from_tensor_slices((train_images, train_targets)).shuffle(10000).repeat(100).batch(BATCH_SIZE)"
   ]
  },
  {
   "cell_type": "code",
   "execution_count": 7,
   "metadata": {},
   "outputs": [
    {
     "name": "stdout",
     "output_type": "stream",
     "text": [
      "Tensor(\"conv2d_6/BiasAdd:0\", shape=(None, 3, 3, 1), dtype=float32)\n"
     ]
    }
   ],
   "source": [
    "for layer in model.layers:\n",
    "    print(layer.output)"
   ]
  },
  {
   "cell_type": "code",
   "execution_count": 8,
   "metadata": {
    "scrolled": true
   },
   "outputs": [
    {
     "name": "stdout",
     "output_type": "stream",
     "text": [
      "Step: 0, Loss: 0.6986120939254761\n",
      "Step: 100, Loss: 0.2570840120315552\n",
      "Step: 200, Loss: 0.21254737675189972\n",
      "Step: 300, Loss: 0.19615352153778076\n",
      "Step: 400, Loss: 0.1734514683485031\n"
     ]
    }
   ],
   "source": [
    "opt = tf.keras.optimizers.Adam(lr)\n",
    "mse = tf.keras.losses.MeanSquaredError()\n",
    "\n",
    "def loss_fn(model, imgs, lbls):\n",
    "    heatmaps, predictions = model.output(imgs)\n",
    "    #coordinate regression loss\n",
    "    #loss_1 = tf.reduce_mean(tf.square(lbls - predictions))\n",
    "    loss_1 = mse(lbls, predictions)\n",
    "    #Regularization loss\n",
    "    loss_2 = dsnt.js_reg_loss(heatmaps, lbls)\n",
    "    Loss_total = loss_1 + loss_2\n",
    "    \n",
    "    return Loss_total, heatmaps, predictions\n",
    "    \n",
    "@tf.function\n",
    "def train_fn(imgs, lbls):\n",
    "    with tf.GradientTape() as tape:\n",
    "        loss, heatmaps, predictions = loss_fn(model, imgs, lbls)        \n",
    "    gradients = tape.gradient(loss, model.trainable_variables)\n",
    "    opt.apply_gradients(zip(gradients, model.trainable_variables))\n",
    "\n",
    "    return loss, heatmaps, predictions\n",
    "\n",
    "loss_list = []\n",
    "heatmaps_list = []\n",
    "predictions_list = []\n",
    "img_list = []\n",
    "lbl_list = []\n",
    "for steps, (img_batch, lbl_batch) in enumerate(ds_train):\n",
    "    if steps > MAX_STEP:\n",
    "        print('End of steps!')\n",
    "        break\n",
    "\n",
    "    loss, heatmaps, predictions = train_fn(img_batch, lbl_batch)\n",
    "    \n",
    "    Template = 'Step: {}, Loss: {}'\n",
    "\n",
    "    if not steps % 100:\n",
    "        loss_list.append(loss)\n",
    "        heatmaps_list.append(heatmaps)\n",
    "        predictions_list.append(predictions)\n",
    "        img_list.append(img_batch)\n",
    "        lbl_list.append(lbl_batch)\n",
    "        \n",
    "        print(Template.format(steps, loss))"
   ]
  },
  {
   "cell_type": "markdown",
   "metadata": {},
   "source": [
    "---------------------------------"
   ]
  },
  {
   "cell_type": "markdown",
   "metadata": {},
   "source": [
    "# Appendix"
   ]
  },
  {
   "cell_type": "code",
   "execution_count": 17,
   "metadata": {},
   "outputs": [
    {
     "name": "stdout",
     "output_type": "stream",
     "text": [
      "tf.Tensor(0.0076892423, shape=(), dtype=float32)\n"
     ]
    }
   ],
   "source": [
    "sums = 0\n",
    "\n",
    "for value in loss_list:\n",
    "    sums += value\n",
    "print(sums/ image_count)"
   ]
  },
  {
   "cell_type": "code",
   "execution_count": 9,
   "metadata": {},
   "outputs": [],
   "source": [
    "tmp = np.asarray(predictions_list)"
   ]
  },
  {
   "cell_type": "code",
   "execution_count": 10,
   "metadata": {
    "scrolled": true
   },
   "outputs": [
    {
     "data": {
      "text/plain": [
       "array([[ 1.11699104e-04, -1.82457268e-04],\n",
       "       [-4.26173210e-06, -3.97115946e-05],\n",
       "       [ 1.14336610e-04,  2.11223960e-05],\n",
       "       [-6.90519810e-05, -2.26743519e-04],\n",
       "       [-1.15737319e-04, -1.62012875e-04],\n",
       "       [-7.90581107e-05, -8.05333257e-05],\n",
       "       [-1.17033720e-04, -2.57655978e-04],\n",
       "       [ 1.01372600e-04, -4.64767218e-05],\n",
       "       [-1.28597021e-05, -1.68591738e-04],\n",
       "       [ 6.78673387e-05, -7.15255737e-07],\n",
       "       [-1.19879842e-04, -1.46284699e-04],\n",
       "       [-2.11447477e-05, -2.17579305e-04],\n",
       "       [ 3.07187438e-05, -1.76355243e-05],\n",
       "       [ 9.04574990e-05,  1.89542770e-05],\n",
       "       [-1.84997916e-05, -5.68479300e-05],\n",
       "       [ 1.84774399e-05, -3.46004963e-05],\n",
       "       [-6.61611557e-06,  9.80198383e-05],\n",
       "       [-1.13099813e-05, -1.62303448e-04],\n",
       "       [ 5.28991222e-06, -1.62377954e-04],\n",
       "       [-5.16772270e-05, -1.71676278e-04],\n",
       "       [-1.24782324e-04, -2.35438347e-05],\n",
       "       [-6.99982047e-05, -1.26332045e-04],\n",
       "       [-2.49207020e-04, -3.00273299e-04],\n",
       "       [ 1.19544566e-04, -9.91523266e-05],\n",
       "       [ 5.91948628e-05, -1.04635954e-04],\n",
       "       [-1.63242221e-05, -2.20999122e-04],\n",
       "       [-7.59884715e-05, -7.79703259e-05],\n",
       "       [-8.01160932e-05, -1.81823969e-04],\n",
       "       [-5.02467155e-05, -1.02743506e-04],\n",
       "       [-5.15505672e-05, -7.90581107e-05],\n",
       "       [ 3.42726707e-06, -7.88867474e-05],\n",
       "       [ 4.79742885e-05, -4.74750996e-05]], dtype=float32)"
      ]
     },
     "execution_count": 10,
     "metadata": {},
     "output_type": "execute_result"
    }
   ],
   "source": [
    "tmp[0]"
   ]
  },
  {
   "cell_type": "code",
   "execution_count": 11,
   "metadata": {},
   "outputs": [],
   "source": [
    "tmp = np.asarray(heatmaps_list)"
   ]
  },
  {
   "cell_type": "code",
   "execution_count": 12,
   "metadata": {},
   "outputs": [],
   "source": [
    "tmp_array= tmp[0]"
   ]
  },
  {
   "cell_type": "code",
   "execution_count": 13,
   "metadata": {},
   "outputs": [
    {
     "data": {
      "text/plain": [
       "array([[0.11102127, 0.11127149, 0.11119885],\n",
       "       [0.11105724, 0.11113539, 0.11109786],\n",
       "       [0.11110848, 0.1110516 , 0.11105783]], dtype=float32)"
      ]
     },
     "execution_count": 13,
     "metadata": {},
     "output_type": "execute_result"
    }
   ],
   "source": [
    "tmp_array[0]"
   ]
  }
 ],
 "metadata": {
  "kernelspec": {
   "display_name": "Python 3",
   "language": "python",
   "name": "python3"
  },
  "language_info": {
   "codemirror_mode": {
    "name": "ipython",
    "version": 3
   },
   "file_extension": ".py",
   "mimetype": "text/x-python",
   "name": "python",
   "nbconvert_exporter": "python",
   "pygments_lexer": "ipython3",
   "version": "3.6.6"
  }
 },
 "nbformat": 4,
 "nbformat_minor": 2
}
